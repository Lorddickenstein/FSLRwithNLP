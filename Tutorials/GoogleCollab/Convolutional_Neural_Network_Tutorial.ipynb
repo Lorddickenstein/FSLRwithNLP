{
  "nbformat": 4,
  "nbformat_minor": 0,
  "metadata": {
    "colab": {
      "name": "Convolutional_Neural_Network_Tutorial.ipynb",
      "provenance": [],
      "collapsed_sections": [],
      "mount_file_id": "1WYDQrQECpTf3U1F-YJRgK6TGXsCz09M5",
      "authorship_tag": "ABX9TyOt1ntKL419vqBSTranKdRK",
      "include_colab_link": true
    },
    "kernelspec": {
      "name": "python3",
      "display_name": "Python 3"
    },
    "language_info": {
      "name": "python"
    }
  },
  "cells": [
    {
      "cell_type": "markdown",
      "metadata": {
        "id": "view-in-github",
        "colab_type": "text"
      },
      "source": [
        "<a href=\"https://colab.research.google.com/github/Lorddickenstein/FSLRwithNLP/blob/main/Tutorials/Convolutional_Neural_Network_Tutorial.ipynb\" target=\"_parent\"><img src=\"https://colab.research.google.com/assets/colab-badge.svg\" alt=\"Open In Colab\"/></a>"
      ]
    },
    {
      "cell_type": "markdown",
      "metadata": {
        "id": "UEfd8pq3pvXa"
      },
      "source": [
        "# Convolutional Neural Network"
      ]
    },
    {
      "cell_type": "code",
      "metadata": {
        "id": "t2Ww_O_9pqSH"
      },
      "source": [
        "from tensorflow import keras\n",
        "mnist = keras.datasets.mnist\n",
        "\n",
        "(x_train, y_train),(x_test, y_test) = mnist.load_data()"
      ],
      "execution_count": 4,
      "outputs": []
    },
    {
      "cell_type": "markdown",
      "metadata": {
        "id": "LE6wIst-r8Lt"
      },
      "source": [
        "Show data"
      ]
    },
    {
      "cell_type": "code",
      "metadata": {
        "colab": {
          "base_uri": "https://localhost:8080/",
          "height": 282
        },
        "id": "gj263NjKr5ti",
        "outputId": "f08835b0-2acd-4524-d53d-a13893a33071"
      },
      "source": [
        "import matplotlib.pyplot as plt\n",
        "plt.imshow(x_train[0])\n",
        "plt.show()\n",
        "\n",
        "print(y_train[0])"
      ],
      "execution_count": 5,
      "outputs": [
        {
          "output_type": "display_data",
          "data": {
            "image/png": "[encoded data removed]",
            "text/plain": [
              "<Figure size 432x288 with 1 Axes>"
            ]
          },
          "metadata": {
            "needs_background": "light"
          }
        },
        {
          "output_type": "stream",
          "name": "stdout",
          "text": [
            "5\n"
          ]
        }
      ]
    },
    {
      "cell_type": "markdown",
      "metadata": {
        "id": "sJM7TA3YsPMd"
      },
      "source": [
        "Breakdown Data so that the neural network can digest it."
      ]
    },
    {
      "cell_type": "code",
      "metadata": {
        "id": "cPo0EmbCsOqk"
      },
      "source": [
        "x_train = x_train.reshape(x_train.shape[0], 28, 28, 1)\n",
        "x_test = x_test.reshape(x_test.shape[0], 28, 28, 1)\n",
        "\n",
        "input_shape = (28, 28, 1)\n",
        "\n",
        "# normalize data to range from 0.0-1.0\n",
        "x_train = x_train.astype('float32')\n",
        "x_train /= 255\n",
        "\n",
        "x_test = x_test.astype('float32')\n",
        "x_test /= 255"
      ],
      "execution_count": 6,
      "outputs": []
    },
    {
      "cell_type": "markdown",
      "metadata": {
        "id": "nnSgMn_EtlfJ"
      },
      "source": [
        "Convert the Y-values into 1s and 0s making them categorical variables. This is called **One-Hot Encoding**, without it the neural network will categorize numbers based on how they are related numerically and not how they look."
      ]
    },
    {
      "cell_type": "code",
      "metadata": {
        "colab": {
          "base_uri": "https://localhost:8080/"
        },
        "id": "twHkcm6AuHrb",
        "outputId": "190bc181-b1fb-40f7-d89f-50d0f30f36b9"
      },
      "source": [
        "print(y_train[0])\n",
        "y_train = keras.utils.to_categorical(y_train, 10)\n",
        "y_test = keras.utils.to_categorical(y_test, 10)\n",
        "\n",
        "print(y_train[0])"
      ],
      "execution_count": 7,
      "outputs": [
        {
          "output_type": "stream",
          "name": "stdout",
          "text": [
            "5\n",
            "[0. 0. 0. 0. 0. 1. 0. 0. 0. 0.]\n"
          ]
        }
      ]
    },
    {
      "cell_type": "markdown",
      "metadata": {
        "id": "PSlJtMjTu0bP"
      },
      "source": [
        "Create model"
      ]
    },
    {
      "cell_type": "code",
      "metadata": {
        "id": "mOkEGLTcupNW"
      },
      "source": [
        "model = keras.models.Sequential()\n",
        "model.add(keras.layers.Conv2D(32, kernel_size=(3,3), activation='relu', input_shape=input_shape))\n",
        "model.add(keras.layers.Conv2D(64, kernel_size=(3,3), activation='relu'))\n",
        "model.add(keras.layers.MaxPool2D(pool_size=(2,2)))\n",
        "model.add(keras.layers.Dropout(0.25))\n",
        "model.add(keras.layers.Flatten())\n",
        "model.add(keras.layers.Dense(128, activation='relu'))\n",
        "model.add(keras.layers.Dropout(0.5))\n",
        "model.add(keras.layers.Dense(10, activation='softmax'))"
      ],
      "execution_count": 10,
      "outputs": []
    },
    {
      "cell_type": "markdown",
      "metadata": {
        "id": "vOFo5dT0wvCa"
      },
      "source": [
        "# Training model"
      ]
    },
    {
      "cell_type": "code",
      "metadata": {
        "colab": {
          "base_uri": "https://localhost:8080/"
        },
        "id": "VK0wTVmDwymg",
        "outputId": "28e1ab60-36d5-4003-b029-fbf3424a3c95"
      },
      "source": [
        "model.compile(loss=keras.losses.categorical_crossentropy, \n",
        "              optimizer=keras.optimizers.Adadelta(), metrics=['accuracy'])\n",
        "model.fit(x_train, y_train, batch_size=128, \n",
        "          epochs=20, validation_data=(x_test, y_test))"
      ],
      "execution_count": 12,
      "outputs": [
        {
          "output_type": "stream",
          "name": "stdout",
          "text": [
            "Epoch 1/20\n",
            "469/469 [==============================] - 136s 289ms/step - loss: 2.2817 - accuracy: 0.1557 - val_loss: 2.2470 - val_accuracy: 0.3565\n",
            "Epoch 2/20\n",
            "469/469 [==============================] - 135s 288ms/step - loss: 2.2255 - accuracy: 0.2783 - val_loss: 2.1765 - val_accuracy: 0.5460\n",
            "Epoch 3/20\n",
            "469/469 [==============================] - 135s 288ms/step - loss: 2.1499 - accuracy: 0.3868 - val_loss: 2.0777 - val_accuracy: 0.6483\n",
            "Epoch 4/20\n",
            "469/469 [==============================] - 136s 289ms/step - loss: 2.0448 - accuracy: 0.4669 - val_loss: 1.9434 - val_accuracy: 0.7015\n",
            "Epoch 5/20\n",
            "469/469 [==============================] - 135s 288ms/step - loss: 1.9060 - accuracy: 0.5268 - val_loss: 1.7713 - val_accuracy: 0.7309\n",
            "Epoch 6/20\n",
            "469/469 [==============================] - 135s 289ms/step - loss: 1.7416 - accuracy: 0.5697 - val_loss: 1.5714 - val_accuracy: 0.7525\n",
            "Epoch 7/20\n",
            "469/469 [==============================] - 137s 291ms/step - loss: 1.5677 - accuracy: 0.5980 - val_loss: 1.3638 - val_accuracy: 0.7728\n",
            "Epoch 8/20\n",
            "469/469 [==============================] - 135s 289ms/step - loss: 1.4000 - accuracy: 0.6284 - val_loss: 1.1739 - val_accuracy: 0.7896\n",
            "Epoch 9/20\n",
            "469/469 [==============================] - 137s 291ms/step - loss: 1.2577 - accuracy: 0.6511 - val_loss: 1.0182 - val_accuracy: 0.8042\n",
            "Epoch 10/20\n",
            "469/469 [==============================] - 135s 288ms/step - loss: 1.1375 - accuracy: 0.6761 - val_loss: 0.8959 - val_accuracy: 0.8191\n",
            "Epoch 11/20\n",
            "469/469 [==============================] - 135s 287ms/step - loss: 1.0447 - accuracy: 0.6933 - val_loss: 0.8029 - val_accuracy: 0.8285\n",
            "Epoch 12/20\n",
            "469/469 [==============================] - 135s 288ms/step - loss: 0.9740 - accuracy: 0.7111 - val_loss: 0.7303 - val_accuracy: 0.8381\n",
            "Epoch 13/20\n",
            "469/469 [==============================] - 135s 288ms/step - loss: 0.9148 - accuracy: 0.7270 - val_loss: 0.6737 - val_accuracy: 0.8470\n",
            "Epoch 14/20\n",
            "469/469 [==============================] - 135s 288ms/step - loss: 0.8599 - accuracy: 0.7402 - val_loss: 0.6277 - val_accuracy: 0.8539\n",
            "Epoch 15/20\n",
            "469/469 [==============================] - 135s 288ms/step - loss: 0.8223 - accuracy: 0.7510 - val_loss: 0.5910 - val_accuracy: 0.8586\n",
            "Epoch 16/20\n",
            "469/469 [==============================] - 139s 297ms/step - loss: 0.7885 - accuracy: 0.7605 - val_loss: 0.5603 - val_accuracy: 0.8644\n",
            "Epoch 17/20\n",
            "469/469 [==============================] - 149s 317ms/step - loss: 0.7567 - accuracy: 0.7656 - val_loss: 0.5348 - val_accuracy: 0.8670\n",
            "Epoch 18/20\n",
            "469/469 [==============================] - 149s 317ms/step - loss: 0.7278 - accuracy: 0.7772 - val_loss: 0.5119 - val_accuracy: 0.8714\n",
            "Epoch 19/20\n",
            "469/469 [==============================] - 145s 310ms/step - loss: 0.7091 - accuracy: 0.7843 - val_loss: 0.4929 - val_accuracy: 0.8755\n",
            "Epoch 20/20\n",
            "469/469 [==============================] - 143s 305ms/step - loss: 0.6857 - accuracy: 0.7880 - val_loss: 0.4756 - val_accuracy: 0.8792\n"
          ]
        },
        {
          "output_type": "execute_result",
          "data": {
            "text/plain": [
              "<keras.callbacks.History at 0x7fb418ca2950>"
            ]
          },
          "metadata": {},
          "execution_count": 12
        }
      ]
    },
    {
      "cell_type": "code",
      "metadata": {
        "colab": {
          "base_uri": "https://localhost:8080/"
        },
        "id": "dFe1THUn-Fft",
        "outputId": "a740ab5a-8d71-4830-9b4e-ff06e3422b59"
      },
      "source": [
        "print(model.evaluate(x_test, y_test))"
      ],
      "execution_count": 13,
      "outputs": [
        {
          "output_type": "stream",
          "name": "stdout",
          "text": [
            "313/313 [==============================] - 6s 21ms/step - loss: 0.4756 - accuracy: 0.8792\n",
            "[0.4755679666996002, 0.8791999816894531]\n"
          ]
        }
      ]
    }
  ]
}