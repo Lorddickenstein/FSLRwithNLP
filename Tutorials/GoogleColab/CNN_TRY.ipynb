{
  "nbformat": 4,
  "nbformat_minor": 0,
  "metadata": {
    "colab": {
      "name": "CNN_TRY.ipynb",
      "provenance": [],
      "collapsed_sections": [],
      "mount_file_id": "https://github.com/Lorddickenstein/FSLRwithNLP/blob/main/Tutorials/CNN_TRY.ipynb",
      "authorship_tag": "ABX9TyN3o8PlmBmB9kvL6vqQKVSG",
      "include_colab_link": true
    },
    "kernelspec": {
      "name": "python3",
      "display_name": "Python 3"
    },
    "language_info": {
      "name": "python"
    }
  },
  "cells": [
    {
      "cell_type": "markdown",
      "metadata": {
        "id": "view-in-github",
        "colab_type": "text"
      },
      "source": [
        "<a href=\"https://colab.research.google.com/github/Lorddickenstein/FSLRwithNLP/blob/main/Tutorials/CNN_TRY.ipynb\" target=\"_parent\"><img src=\"https://colab.research.google.com/assets/colab-badge.svg\" alt=\"Open In Colab\"/></a>"
      ]
    },
    {
      "cell_type": "markdown",
      "metadata": {
        "id": "R0LbBuHIEPaC"
      },
      "source": [
        "Import libraries"
      ]
    },
    {
      "cell_type": "code",
      "metadata": {
        "id": "FAWiNSbeD-jb"
      },
      "source": [
        "from tensorflow import keras\n",
        "import numpy as np\n",
        "import matplotlib.pyplot as plt\n",
        "import os  # iterate through the directories\n",
        "import cv2\n",
        "import pandas as pd\n",
        "from google.colab.patches import cv2_imshow"
      ],
      "execution_count": null,
      "outputs": []
    },
    {
      "cell_type": "markdown",
      "metadata": {
        "id": "eZdrVHoFE7S3"
      },
      "source": [
        "Importing the datasets from google drive"
      ]
    },
    {
      "cell_type": "code",
      "metadata": {
        "id": "9ekcuNVZFASO"
      },
      "source": [
        "def import_data():\n",
        "    \"\"\"@doc Get the train datasets\"\"\"\n",
        "    df_train = pd.read_csv(\n",
        "        '/content/drive/MyDrive/Colab Notebooks/Datasets/Fingerspelling/sign_mnist_train/sign_mnist_train.csv')\n",
        "    # print(df_train.head())\n",
        "\n",
        "    x_sets = df_train.drop(columns=['label'])\n",
        "    y_sets = df_train[['label']]\n",
        "\n",
        "    x_train = x_sets[:22000]\n",
        "    y_train = y_sets[:22000]\n",
        "    # print(x_train.head())\n",
        "    # print(y_train.head())\n",
        "\n",
        "    x_valid = x_sets[22001:]\n",
        "    y_valid = y_sets[22001:]\n",
        "\n",
        "    \"\"\"@doc Get the test datasets\"\"\"\n",
        "    df_test = pd.read_csv(\n",
        "        '/content/drive/MyDrive/Colab Notebooks/Datasets/Fingerspelling/sign_mnist_test/sign_mnist_test.csv')\n",
        "    # print(df_test.head())\n",
        "\n",
        "    x_test = df_test.drop(columns=['label'])\n",
        "    y_test = df_test[['label']]\n",
        "    # print(x_test.head())\n",
        "    # print(y_test.head())\n",
        "\n",
        "    \"\"\"Convert to np array\"\"\"\n",
        "    x_train = x_train.to_numpy()\n",
        "    y_train = y_train.to_numpy()\n",
        "    x_test = x_test.to_numpy()\n",
        "    y_test = y_test.to_numpy()\n",
        "\n",
        "    \"\"\"Reshape to 28x28\"\"\"\n",
        "    num_rows_train, _ = x_train.shape\n",
        "    num_rows_test, _ = x_test.shape\n",
        "    x_train = x_train.reshape(-1, 28, 28, 1)\n",
        "    x_test = x_test.reshape(-1, 28, 28, 1)\n",
        "    # print(x_train.shape)\n",
        "\n",
        "    \"\"\"Normalize data\"\"\"\n",
        "    x_train = x_train.astype('float32')\n",
        "    x_test = x_test.astype('float32')\n",
        "\n",
        "    x_train /= 255\n",
        "    x_test /= 255\n",
        "\n",
        "    \"\"\"Convert to categorical variables\"\"\"\n",
        "    y_train = keras.utils.to_categorical(y_train, 26)\n",
        "    y_test = keras.utils.to_categorical(y_test, 26)\n",
        "    return x_train, y_train, x_test, y_test"
      ],
      "execution_count": null,
      "outputs": []
    },
    {
      "cell_type": "markdown",
      "metadata": {
        "id": "et7O8N4uEZi_"
      },
      "source": [
        "Test the model from a given dataset image"
      ]
    },
    {
      "cell_type": "code",
      "metadata": {
        "id": "pbCYARD4EJk3"
      },
      "source": [
        "def test_model_from_dataset(x_train, y_train, x_test, y_test, model_name):\n",
        "    model = keras.models.load_model(model_name)\n",
        "    print(y_train[10170])\n",
        "    # plt.imshow(x_train[10170], cmap='gray')\n",
        "    # plt.show()\n",
        "    x_train = x_train[10170].reshape(-1, 28, 28, 1)\n",
        "    print(x_train)\n",
        "    print(x_train.shape)\n",
        "    print(x_train.ndim)\n",
        "    prediction = model.predict(x_train)\n",
        "    print(prediction)\n",
        "    class_x = np.argmax(prediction, axis=1)\n",
        "    print(find_match(class_x[0]))"
      ],
      "execution_count": null,
      "outputs": []
    },
    {
      "cell_type": "markdown",
      "metadata": {
        "id": "R3brZxqPEfNf"
      },
      "source": [
        "Test model from an external image"
      ]
    },
    {
      "cell_type": "code",
      "metadata": {
        "id": "5VcZRakdEjpb"
      },
      "source": [
        "def test_model(img):\n",
        "    model = keras.models.load_model('/content/drive/MyDrive/Colab Notebooks/CNN Models/FingerSpelling(32, 64, 128)_(0.4652-0.9072).h5')\n",
        "    prediction = model.predict(img)\n",
        "    print(prediction)\n",
        "    class_x = np.argmax(prediction, axis=1)\n",
        "    print(find_match(class_x[0]))"
      ],
      "execution_count": null,
      "outputs": []
    },
    {
      "cell_type": "markdown",
      "metadata": {
        "id": "emzc9Vm5EjN0"
      },
      "source": [
        "Find a match from the categories"
      ]
    },
    {
      "cell_type": "code",
      "metadata": {
        "id": "HQpFYfemEtxV"
      },
      "source": [
        "def find_match(x):\n",
        "    spell = {0: 'A', 1: 'B', 2: 'C', 3: 'D', 4: 'E',\n",
        "             5: 'F', 6: 'G', 7: 'H', 8: 'I', 9: ' ',\n",
        "             10: 'K', 11: 'L',12: 'M', 13: 'N', 14: 'O',\n",
        "             15: 'P', 16: 'Q', 17: 'R', 18: 'S', 19: 'T',\n",
        "             20: 'U', 21: 'V', 22: 'W', 23: 'X', 24: 'Y',\n",
        "             25: ' ', }\n",
        "    return spell[x]"
      ],
      "execution_count": null,
      "outputs": []
    },
    {
      "cell_type": "markdown",
      "metadata": {
        "id": "hiXFuMsREuUS"
      },
      "source": [
        "Show the current image"
      ]
    },
    {
      "cell_type": "code",
      "metadata": {
        "id": "cvkBwxGBEx2S"
      },
      "source": [
        "def show_image(name, img):\n",
        "    # plt.imshow(img, cmap='gray')\n",
        "    # plt.show()\n",
        "    cv2_imshow(img)\n",
        "    # cv2.waitKey(0)\n",
        "    # cv2.destroyAllWindows()"
      ],
      "execution_count": null,
      "outputs": []
    },
    {
      "cell_type": "markdown",
      "metadata": {
        "id": "ZC18XsD5E2nF"
      },
      "source": [
        "Image Processing"
      ]
    },
    {
      "cell_type": "code",
      "metadata": {
        "id": "s9Y-PsQME5C5"
      },
      "source": [
        "def preprocess_image(img):\n",
        "    \"\"\"Smoothen img using Gausian blur\"\"\"\n",
        "    blur_img = cv2.GaussianBlur(img, (5, 5), 0)\n",
        "    # blur_img = cv2.blur(img, (5, 5), 0)\n",
        "    # blur_img = cv2.medianBlur(img, 5)\n",
        "    # show_image('blur', blur_img)\n",
        "\n",
        "    \"\"\"Threshold Image using Otsu's Binarization\"\"\"\n",
        "    _, th = cv2.threshold(blur_img, 0, 255, cv2.THRESH_BINARY + cv2.THRESH_OTSU)\n",
        "    # show_image('threshold', th)\n",
        "\n",
        "    \"\"\"Normalize img\"\"\"\n",
        "    norm_img = mask.astype('float32')\n",
        "    norm_img /= 255\n",
        "    # show_image('normalized', norm_img)\n",
        "\n",
        "    # canny edge\n",
        "\n",
        "    \"\"\"Apply morphological transformation\"\"\"\n",
        "    kernel = cv2.getStructuringElement(cv2.MORPH_ELLIPSE, (20, 20))\n",
        "    morph = cv2.morphologyEx(th, cv2.MORPH_CLOSE, kernel)\n",
        "    show_image('morph', morph)\n",
        "\n",
        "    \"\"\"Apply mask to extract object\"\"\"\n",
        "    mask = cv2.bitwise_and(img, img, mask=morph)\n",
        "    show_image('mask', mask)\n",
        "\n",
        "    \"\"\"Reshape img to 28x28\"\"\"\n",
        "    img_size = 28\n",
        "    resize_img = cv2.resize(norm_img, (img_size, img_size), interpolation=cv2.INTER_CUBIC)\n",
        "    # plt.imshow(resize_img, cmap='gray')\n",
        "    # plt.show()\n",
        "\n",
        "    \"\"\"Expand img into 4d\"\"\"\n",
        "    resize_img = np.expand_dims(resize_img, axis=(0, -1))\n",
        "    # print(img)\n",
        "    print(\"Shape\", resize_img.shape)\n",
        "    print(resize_img.ndim)\n",
        "    return resize_img"
      ],
      "execution_count": null,
      "outputs": []
    },
    {
      "cell_type": "markdown",
      "metadata": {
        "id": "1DgW81I_E6C5"
      },
      "source": [
        "Create the model"
      ]
    },
    {
      "cell_type": "code",
      "metadata": {
        "id": "UjWknG1yFJ9e"
      },
      "source": [
        "def create_model(x_train, y_train, x_test, y_test):\n",
        "    \"\"\"Create the model\"\"\"\n",
        "    model = keras.models.Sequential()\n",
        "    model.add(keras.layers.Conv2D(32, kernel_size=(3, 3), activation='relu', input_shape=(28, 28, 1)))\n",
        "    model.add(keras.layers.Conv2D(64, kernel_size=(3, 3), activation='relu', padding='same'))\n",
        "    model.add(keras.layers.Dropout(0.25))\n",
        "    model.add(keras.layers.Conv2D(128, kernel_size=(3, 3), activation='relu', padding='same'))\n",
        "    model.add(keras.layers.MaxPool2D(pool_size=(2, 2)))\n",
        "    model.add(keras.layers.Dropout(0.50))\n",
        "    model.add(keras.layers.Flatten())\n",
        "    model.add(keras.layers.Dense(128, activation='relu'))\n",
        "    model.add(keras.layers.Dropout(0.70))\n",
        "    model.add(keras.layers.Dense(26, activation='softmax'))\n",
        "\n",
        "    model.summary()\n",
        "    model.compile(loss=keras.losses.categorical_crossentropy, optimizer=keras.optimizers.Adam(),\n",
        "                  metrics=['accuracy'])\n",
        "    model.fit(x_train, y_train, validation_data=(x_test, y_test), batch_size=64, epochs=30)\n",
        "    print(model.evaluate(x_test, y_test))\n",
        "    return model"
      ],
      "execution_count": null,
      "outputs": []
    },
    {
      "cell_type": "markdown",
      "metadata": {
        "id": "B5LJhcmYFKto"
      },
      "source": [
        "Save the model"
      ]
    },
    {
      "cell_type": "code",
      "metadata": {
        "id": "0Av7Ag05FMzm"
      },
      "source": [
        "def save_model(model, name):\n",
        "    model.save(name)"
      ],
      "execution_count": null,
      "outputs": []
    },
    {
      "cell_type": "markdown",
      "metadata": {
        "id": "LujSQdKYFO_g"
      },
      "source": [
        "Main Configuration Area #1"
      ]
    },
    {
      "cell_type": "code",
      "metadata": {
        "id": "DeQnVlEAFWjA",
        "colab": {
          "base_uri": "https://localhost:8080/",
          "height": 520
        },
        "outputId": "17b89d43-9aea-474a-818d-6b8b57b0d378"
      },
      "source": [
        "# path = \"D:\\Documents\\Thesis\\FSLRwithNLP\\Datasets\\Test_Images\"\n",
        "file_name = 'Y2.jpg'\n",
        "path = '/content/drive/MyDrive/Colab Notebooks/Datasets/Test_Images/' + file_name\n",
        "img = cv2.imread(path, 0)\n",
        "img = preprocess_image(img)\n",
        "test_model(img)"
      ],
      "execution_count": null,
      "outputs": [
        {
          "output_type": "display_data",
          "data": {
            "image/png": "[encoded data removed]",
            "text/plain": [
              "<PIL.Image.Image image mode=L size=260x175 at 0x7F0CD951ED50>"
            ]
          },
          "metadata": {}
        },
        {
          "output_type": "display_data",
          "data": {
            "image/png": "[encoded data removed]",
            "text/plain": [
              "<PIL.Image.Image image mode=L size=260x175 at 0x7F0CD951EC50>"
            ]
          },
          "metadata": {}
        },
        {
          "output_type": "stream",
          "name": "stdout",
          "text": [
            "Shape (1, 28, 28, 1)\n",
            "4\n",
            "[[8.1856476e-29 0.0000000e+00 0.0000000e+00 0.0000000e+00 5.5201311e-34\n",
            "  6.5799388e-10 0.0000000e+00 2.9670895e-36 9.9999917e-01 0.0000000e+00\n",
            "  0.0000000e+00 0.0000000e+00 8.5388151e-37 4.4578540e-35 1.0332715e-21\n",
            "  7.1028357e-30 0.0000000e+00 0.0000000e+00 4.4711232e-34 7.3751440e-21\n",
            "  0.0000000e+00 0.0000000e+00 5.3041818e-35 3.0843131e-18 8.7761725e-07\n",
            "  0.0000000e+00]]\n",
            "I\n"
          ]
        }
      ]
    },
    {
      "cell_type": "markdown",
      "metadata": {
        "id": "Pfz_4gq9FfBd"
      },
      "source": [
        "Main Configuration Area #2"
      ]
    },
    {
      "cell_type": "code",
      "metadata": {
        "id": "qlZhrsPjFkfb",
        "colab": {
          "base_uri": "https://localhost:8080/",
          "height": 1000
        },
        "outputId": "055896c1-2e96-484e-81ca-6e36be894fc3"
      },
      "source": [
        "# model_name = 'Fingerspelling(16, 32, 64)_(0.5030-0.9015).h5'\n",
        "model_name = 'test1.h5'\n",
        "# model_name = 'test_(0.5979_0.9139).h5'\n",
        "path = '/content/drive/MyDrive/Colab Notebooks/CNN Models/' + model_name\n",
        "x_train, y_train, x_test, y_test = import_data()\n",
        "model = create_model(x_train, y_train, x_test, y_test)\n",
        "save_model(model, path)\n",
        "test_model_from_dataset(x_train, y_train, x_test, y_test, model_name)"
      ],
      "execution_count": null,
      "outputs": [
        {
          "output_type": "stream",
          "name": "stdout",
          "text": [
            "Model: \"sequential_1\"\n",
            "_________________________________________________________________\n",
            "Layer (type)                 Output Shape              Param #   \n",
            "=================================================================\n",
            "conv2d_3 (Conv2D)            (None, 26, 26, 16)        160       \n",
            "_________________________________________________________________\n",
            "conv2d_4 (Conv2D)            (None, 26, 26, 32)        4640      \n",
            "_________________________________________________________________\n",
            "conv2d_5 (Conv2D)            (None, 26, 26, 64)        18496     \n",
            "_________________________________________________________________\n",
            "max_pooling2d_1 (MaxPooling2 (None, 13, 13, 64)        0         \n",
            "_________________________________________________________________\n",
            "dropout_2 (Dropout)          (None, 13, 13, 64)        0         \n",
            "_________________________________________________________________\n",
            "flatten_1 (Flatten)          (None, 10816)             0         \n",
            "_________________________________________________________________\n",
            "dense_2 (Dense)              (None, 128)               1384576   \n",
            "_________________________________________________________________\n",
            "dropout_3 (Dropout)          (None, 128)               0         \n",
            "_________________________________________________________________\n",
            "dense_3 (Dense)              (None, 26)                3354      \n",
            "=================================================================\n",
            "Total params: 1,411,226\n",
            "Trainable params: 1,411,226\n",
            "Non-trainable params: 0\n",
            "_________________________________________________________________\n",
            "Epoch 1/30\n",
            "310/310 [==============================] - 62s 198ms/step - loss: 1.3608 - accuracy: 0.5836 - val_loss: 0.1373 - val_accuracy: 0.9705\n",
            "Epoch 2/30\n",
            "310/310 [==============================] - 61s 197ms/step - loss: 0.3062 - accuracy: 0.8946 - val_loss: 0.0140 - val_accuracy: 1.0000\n",
            "Epoch 3/30\n",
            "310/310 [==============================] - 61s 197ms/step - loss: 0.1655 - accuracy: 0.9423 - val_loss: 0.0080 - val_accuracy: 0.9995\n",
            "Epoch 4/30\n",
            "310/310 [==============================] - 61s 197ms/step - loss: 0.1211 - accuracy: 0.9553 - val_loss: 0.0015 - val_accuracy: 1.0000\n",
            "Epoch 5/30\n",
            "310/310 [==============================] - 61s 196ms/step - loss: 0.0960 - accuracy: 0.9660 - val_loss: 8.8265e-04 - val_accuracy: 1.0000\n",
            "Epoch 6/30\n",
            "310/310 [==============================] - 61s 196ms/step - loss: 0.0886 - accuracy: 0.9695 - val_loss: 2.5455e-04 - val_accuracy: 1.0000\n",
            "Epoch 7/30\n",
            "310/310 [==============================] - 61s 196ms/step - loss: 0.0721 - accuracy: 0.9751 - val_loss: 2.5708e-04 - val_accuracy: 1.0000\n",
            "Epoch 8/30\n",
            "310/310 [==============================] - 60s 194ms/step - loss: 0.0638 - accuracy: 0.9771 - val_loss: 2.6971e-04 - val_accuracy: 1.0000\n",
            "Epoch 9/30\n",
            "310/310 [==============================] - 60s 195ms/step - loss: 0.0599 - accuracy: 0.9789 - val_loss: 1.4877e-04 - val_accuracy: 1.0000\n",
            "Epoch 10/30\n",
            "310/310 [==============================] - 60s 195ms/step - loss: 0.0493 - accuracy: 0.9827 - val_loss: 6.4598e-05 - val_accuracy: 1.0000\n",
            "Epoch 11/30\n",
            "310/310 [==============================] - 60s 195ms/step - loss: 0.0485 - accuracy: 0.9827 - val_loss: 3.3887e-05 - val_accuracy: 1.0000\n",
            "Epoch 12/30\n",
            "310/310 [==============================] - 61s 195ms/step - loss: 0.0452 - accuracy: 0.9841 - val_loss: 7.8802e-05 - val_accuracy: 1.0000\n",
            "Epoch 13/30\n",
            "310/310 [==============================] - 61s 195ms/step - loss: 0.0428 - accuracy: 0.9847 - val_loss: 3.7793e-05 - val_accuracy: 1.0000\n",
            "Epoch 14/30\n",
            "310/310 [==============================] - 60s 194ms/step - loss: 0.0360 - accuracy: 0.9868 - val_loss: 2.5432e-05 - val_accuracy: 1.0000\n",
            "Epoch 15/30\n",
            "310/310 [==============================] - 60s 193ms/step - loss: 0.0352 - accuracy: 0.9878 - val_loss: 1.0919e-05 - val_accuracy: 1.0000\n",
            "Epoch 16/30\n",
            "310/310 [==============================] - 60s 194ms/step - loss: 0.0326 - accuracy: 0.9880 - val_loss: 3.7741e-05 - val_accuracy: 1.0000\n",
            "Epoch 17/30\n",
            "191/310 [=================>............] - ETA: 22s - loss: 0.0275 - accuracy: 0.9902"
          ]
        },
        {
          "output_type": "error",
          "ename": "KeyboardInterrupt",
          "evalue": "ignored",
          "traceback": [
            "\u001b[0;31m---------------------------------------------------------------------------\u001b[0m",
            "\u001b[0;31mKeyboardInterrupt\u001b[0m                         Traceback (most recent call last)",
            "\u001b[0;32m<ipython-input-37-854f09bceffe>\u001b[0m in \u001b[0;36m<module>\u001b[0;34m()\u001b[0m\n\u001b[1;32m      4\u001b[0m \u001b[0mpath\u001b[0m \u001b[0;34m=\u001b[0m \u001b[0;34m'/content/drive/MyDrive/Colab Notebooks/CNN Models/'\u001b[0m \u001b[0;34m+\u001b[0m \u001b[0mmodel_name\u001b[0m\u001b[0;34m\u001b[0m\u001b[0;34m\u001b[0m\u001b[0m\n\u001b[1;32m      5\u001b[0m \u001b[0mx_train\u001b[0m\u001b[0;34m,\u001b[0m \u001b[0my_train\u001b[0m\u001b[0;34m,\u001b[0m \u001b[0mx_test\u001b[0m\u001b[0;34m,\u001b[0m \u001b[0my_test\u001b[0m \u001b[0;34m=\u001b[0m \u001b[0mimport_data\u001b[0m\u001b[0;34m(\u001b[0m\u001b[0;34m)\u001b[0m\u001b[0;34m\u001b[0m\u001b[0;34m\u001b[0m\u001b[0m\n\u001b[0;32m----> 6\u001b[0;31m \u001b[0mmodel\u001b[0m \u001b[0;34m=\u001b[0m \u001b[0mcreate_model\u001b[0m\u001b[0;34m(\u001b[0m\u001b[0mx_train\u001b[0m\u001b[0;34m,\u001b[0m \u001b[0my_train\u001b[0m\u001b[0;34m,\u001b[0m \u001b[0mx_test\u001b[0m\u001b[0;34m,\u001b[0m \u001b[0my_test\u001b[0m\u001b[0;34m)\u001b[0m\u001b[0;34m\u001b[0m\u001b[0;34m\u001b[0m\u001b[0m\n\u001b[0m\u001b[1;32m      7\u001b[0m \u001b[0msave_model\u001b[0m\u001b[0;34m(\u001b[0m\u001b[0mmodel\u001b[0m\u001b[0;34m,\u001b[0m \u001b[0mpath\u001b[0m\u001b[0;34m)\u001b[0m\u001b[0;34m\u001b[0m\u001b[0;34m\u001b[0m\u001b[0m\n\u001b[1;32m      8\u001b[0m \u001b[0mtest_model_from_dataset\u001b[0m\u001b[0;34m(\u001b[0m\u001b[0mx_train\u001b[0m\u001b[0;34m,\u001b[0m \u001b[0my_train\u001b[0m\u001b[0;34m,\u001b[0m \u001b[0mx_test\u001b[0m\u001b[0;34m,\u001b[0m \u001b[0my_test\u001b[0m\u001b[0;34m,\u001b[0m \u001b[0mmodel_name\u001b[0m\u001b[0;34m)\u001b[0m\u001b[0;34m\u001b[0m\u001b[0;34m\u001b[0m\u001b[0m\n",
            "\u001b[0;32m<ipython-input-36-a6932276aed0>\u001b[0m in \u001b[0;36mcreate_model\u001b[0;34m(x_train, y_train, x_test, y_test)\u001b[0m\n\u001b[1;32m     15\u001b[0m     model.compile(loss=keras.losses.categorical_crossentropy, optimizer=keras.optimizers.Adam(),\n\u001b[1;32m     16\u001b[0m                   metrics=['accuracy'])\n\u001b[0;32m---> 17\u001b[0;31m     \u001b[0mmodel\u001b[0m\u001b[0;34m.\u001b[0m\u001b[0mfit\u001b[0m\u001b[0;34m(\u001b[0m\u001b[0mx_train\u001b[0m\u001b[0;34m,\u001b[0m \u001b[0my_train\u001b[0m\u001b[0;34m,\u001b[0m \u001b[0mvalidation_split\u001b[0m\u001b[0;34m=\u001b[0m\u001b[0;36m0.1\u001b[0m\u001b[0;34m,\u001b[0m \u001b[0mbatch_size\u001b[0m\u001b[0;34m=\u001b[0m\u001b[0;36m64\u001b[0m\u001b[0;34m,\u001b[0m \u001b[0mepochs\u001b[0m\u001b[0;34m=\u001b[0m\u001b[0;36m30\u001b[0m\u001b[0;34m)\u001b[0m\u001b[0;34m\u001b[0m\u001b[0;34m\u001b[0m\u001b[0m\n\u001b[0m\u001b[1;32m     18\u001b[0m     \u001b[0mprint\u001b[0m\u001b[0;34m(\u001b[0m\u001b[0mmodel\u001b[0m\u001b[0;34m.\u001b[0m\u001b[0mevaluate\u001b[0m\u001b[0;34m(\u001b[0m\u001b[0mx_test\u001b[0m\u001b[0;34m,\u001b[0m \u001b[0my_test\u001b[0m\u001b[0;34m)\u001b[0m\u001b[0;34m)\u001b[0m\u001b[0;34m\u001b[0m\u001b[0;34m\u001b[0m\u001b[0m\n\u001b[1;32m     19\u001b[0m     \u001b[0;32mreturn\u001b[0m \u001b[0mmodel\u001b[0m\u001b[0;34m\u001b[0m\u001b[0;34m\u001b[0m\u001b[0m\n",
            "\u001b[0;32m/usr/local/lib/python3.7/dist-packages/keras/engine/training.py\u001b[0m in \u001b[0;36mfit\u001b[0;34m(self, x, y, batch_size, epochs, verbose, callbacks, validation_split, validation_data, shuffle, class_weight, sample_weight, initial_epoch, steps_per_epoch, validation_steps, validation_batch_size, validation_freq, max_queue_size, workers, use_multiprocessing)\u001b[0m\n\u001b[1;32m   1182\u001b[0m                 _r=1):\n\u001b[1;32m   1183\u001b[0m               \u001b[0mcallbacks\u001b[0m\u001b[0;34m.\u001b[0m\u001b[0mon_train_batch_begin\u001b[0m\u001b[0;34m(\u001b[0m\u001b[0mstep\u001b[0m\u001b[0;34m)\u001b[0m\u001b[0;34m\u001b[0m\u001b[0;34m\u001b[0m\u001b[0m\n\u001b[0;32m-> 1184\u001b[0;31m               \u001b[0mtmp_logs\u001b[0m \u001b[0;34m=\u001b[0m \u001b[0mself\u001b[0m\u001b[0;34m.\u001b[0m\u001b[0mtrain_function\u001b[0m\u001b[0;34m(\u001b[0m\u001b[0miterator\u001b[0m\u001b[0;34m)\u001b[0m\u001b[0;34m\u001b[0m\u001b[0;34m\u001b[0m\u001b[0m\n\u001b[0m\u001b[1;32m   1185\u001b[0m               \u001b[0;32mif\u001b[0m \u001b[0mdata_handler\u001b[0m\u001b[0;34m.\u001b[0m\u001b[0mshould_sync\u001b[0m\u001b[0;34m:\u001b[0m\u001b[0;34m\u001b[0m\u001b[0;34m\u001b[0m\u001b[0m\n\u001b[1;32m   1186\u001b[0m                 \u001b[0mcontext\u001b[0m\u001b[0;34m.\u001b[0m\u001b[0masync_wait\u001b[0m\u001b[0;34m(\u001b[0m\u001b[0;34m)\u001b[0m\u001b[0;34m\u001b[0m\u001b[0;34m\u001b[0m\u001b[0m\n",
            "\u001b[0;32m/usr/local/lib/python3.7/dist-packages/tensorflow/python/eager/def_function.py\u001b[0m in \u001b[0;36m__call__\u001b[0;34m(self, *args, **kwds)\u001b[0m\n\u001b[1;32m    883\u001b[0m \u001b[0;34m\u001b[0m\u001b[0m\n\u001b[1;32m    884\u001b[0m       \u001b[0;32mwith\u001b[0m \u001b[0mOptionalXlaContext\u001b[0m\u001b[0;34m(\u001b[0m\u001b[0mself\u001b[0m\u001b[0;34m.\u001b[0m\u001b[0m_jit_compile\u001b[0m\u001b[0;34m)\u001b[0m\u001b[0;34m:\u001b[0m\u001b[0;34m\u001b[0m\u001b[0;34m\u001b[0m\u001b[0m\n\u001b[0;32m--> 885\u001b[0;31m         \u001b[0mresult\u001b[0m \u001b[0;34m=\u001b[0m \u001b[0mself\u001b[0m\u001b[0;34m.\u001b[0m\u001b[0m_call\u001b[0m\u001b[0;34m(\u001b[0m\u001b[0;34m*\u001b[0m\u001b[0margs\u001b[0m\u001b[0;34m,\u001b[0m \u001b[0;34m**\u001b[0m\u001b[0mkwds\u001b[0m\u001b[0;34m)\u001b[0m\u001b[0;34m\u001b[0m\u001b[0;34m\u001b[0m\u001b[0m\n\u001b[0m\u001b[1;32m    886\u001b[0m \u001b[0;34m\u001b[0m\u001b[0m\n\u001b[1;32m    887\u001b[0m       \u001b[0mnew_tracing_count\u001b[0m \u001b[0;34m=\u001b[0m \u001b[0mself\u001b[0m\u001b[0;34m.\u001b[0m\u001b[0mexperimental_get_tracing_count\u001b[0m\u001b[0;34m(\u001b[0m\u001b[0;34m)\u001b[0m\u001b[0;34m\u001b[0m\u001b[0;34m\u001b[0m\u001b[0m\n",
            "\u001b[0;32m/usr/local/lib/python3.7/dist-packages/tensorflow/python/eager/def_function.py\u001b[0m in \u001b[0;36m_call\u001b[0;34m(self, *args, **kwds)\u001b[0m\n\u001b[1;32m    915\u001b[0m       \u001b[0;31m# In this case we have created variables on the first call, so we run the\u001b[0m\u001b[0;34m\u001b[0m\u001b[0;34m\u001b[0m\u001b[0;34m\u001b[0m\u001b[0m\n\u001b[1;32m    916\u001b[0m       \u001b[0;31m# defunned version which is guaranteed to never create variables.\u001b[0m\u001b[0;34m\u001b[0m\u001b[0;34m\u001b[0m\u001b[0;34m\u001b[0m\u001b[0m\n\u001b[0;32m--> 917\u001b[0;31m       \u001b[0;32mreturn\u001b[0m \u001b[0mself\u001b[0m\u001b[0;34m.\u001b[0m\u001b[0m_stateless_fn\u001b[0m\u001b[0;34m(\u001b[0m\u001b[0;34m*\u001b[0m\u001b[0margs\u001b[0m\u001b[0;34m,\u001b[0m \u001b[0;34m**\u001b[0m\u001b[0mkwds\u001b[0m\u001b[0;34m)\u001b[0m  \u001b[0;31m# pylint: disable=not-callable\u001b[0m\u001b[0;34m\u001b[0m\u001b[0;34m\u001b[0m\u001b[0m\n\u001b[0m\u001b[1;32m    918\u001b[0m     \u001b[0;32melif\u001b[0m \u001b[0mself\u001b[0m\u001b[0;34m.\u001b[0m\u001b[0m_stateful_fn\u001b[0m \u001b[0;32mis\u001b[0m \u001b[0;32mnot\u001b[0m \u001b[0;32mNone\u001b[0m\u001b[0;34m:\u001b[0m\u001b[0;34m\u001b[0m\u001b[0;34m\u001b[0m\u001b[0m\n\u001b[1;32m    919\u001b[0m       \u001b[0;31m# Release the lock early so that multiple threads can perform the call\u001b[0m\u001b[0;34m\u001b[0m\u001b[0;34m\u001b[0m\u001b[0;34m\u001b[0m\u001b[0m\n",
            "\u001b[0;32m/usr/local/lib/python3.7/dist-packages/tensorflow/python/eager/function.py\u001b[0m in \u001b[0;36m__call__\u001b[0;34m(self, *args, **kwargs)\u001b[0m\n\u001b[1;32m   3038\u001b[0m        filtered_flat_args) = self._maybe_define_function(args, kwargs)\n\u001b[1;32m   3039\u001b[0m     return graph_function._call_flat(\n\u001b[0;32m-> 3040\u001b[0;31m         filtered_flat_args, captured_inputs=graph_function.captured_inputs)  # pylint: disable=protected-access\n\u001b[0m\u001b[1;32m   3041\u001b[0m \u001b[0;34m\u001b[0m\u001b[0m\n\u001b[1;32m   3042\u001b[0m   \u001b[0;34m@\u001b[0m\u001b[0mproperty\u001b[0m\u001b[0;34m\u001b[0m\u001b[0;34m\u001b[0m\u001b[0m\n",
            "\u001b[0;32m/usr/local/lib/python3.7/dist-packages/tensorflow/python/eager/function.py\u001b[0m in \u001b[0;36m_call_flat\u001b[0;34m(self, args, captured_inputs, cancellation_manager)\u001b[0m\n\u001b[1;32m   1962\u001b[0m       \u001b[0;31m# No tape is watching; skip to running the function.\u001b[0m\u001b[0;34m\u001b[0m\u001b[0;34m\u001b[0m\u001b[0;34m\u001b[0m\u001b[0m\n\u001b[1;32m   1963\u001b[0m       return self._build_call_outputs(self._inference_function.call(\n\u001b[0;32m-> 1964\u001b[0;31m           ctx, args, cancellation_manager=cancellation_manager))\n\u001b[0m\u001b[1;32m   1965\u001b[0m     forward_backward = self._select_forward_and_backward_functions(\n\u001b[1;32m   1966\u001b[0m         \u001b[0margs\u001b[0m\u001b[0;34m,\u001b[0m\u001b[0;34m\u001b[0m\u001b[0;34m\u001b[0m\u001b[0m\n",
            "\u001b[0;32m/usr/local/lib/python3.7/dist-packages/tensorflow/python/eager/function.py\u001b[0m in \u001b[0;36mcall\u001b[0;34m(self, ctx, args, cancellation_manager)\u001b[0m\n\u001b[1;32m    594\u001b[0m               \u001b[0minputs\u001b[0m\u001b[0;34m=\u001b[0m\u001b[0margs\u001b[0m\u001b[0;34m,\u001b[0m\u001b[0;34m\u001b[0m\u001b[0;34m\u001b[0m\u001b[0m\n\u001b[1;32m    595\u001b[0m               \u001b[0mattrs\u001b[0m\u001b[0;34m=\u001b[0m\u001b[0mattrs\u001b[0m\u001b[0;34m,\u001b[0m\u001b[0;34m\u001b[0m\u001b[0;34m\u001b[0m\u001b[0m\n\u001b[0;32m--> 596\u001b[0;31m               ctx=ctx)\n\u001b[0m\u001b[1;32m    597\u001b[0m         \u001b[0;32melse\u001b[0m\u001b[0;34m:\u001b[0m\u001b[0;34m\u001b[0m\u001b[0;34m\u001b[0m\u001b[0m\n\u001b[1;32m    598\u001b[0m           outputs = execute.execute_with_cancellation(\n",
            "\u001b[0;32m/usr/local/lib/python3.7/dist-packages/tensorflow/python/eager/execute.py\u001b[0m in \u001b[0;36mquick_execute\u001b[0;34m(op_name, num_outputs, inputs, attrs, ctx, name)\u001b[0m\n\u001b[1;32m     58\u001b[0m     \u001b[0mctx\u001b[0m\u001b[0;34m.\u001b[0m\u001b[0mensure_initialized\u001b[0m\u001b[0;34m(\u001b[0m\u001b[0;34m)\u001b[0m\u001b[0;34m\u001b[0m\u001b[0;34m\u001b[0m\u001b[0m\n\u001b[1;32m     59\u001b[0m     tensors = pywrap_tfe.TFE_Py_Execute(ctx._handle, device_name, op_name,\n\u001b[0;32m---> 60\u001b[0;31m                                         inputs, attrs, num_outputs)\n\u001b[0m\u001b[1;32m     61\u001b[0m   \u001b[0;32mexcept\u001b[0m \u001b[0mcore\u001b[0m\u001b[0;34m.\u001b[0m\u001b[0m_NotOkStatusException\u001b[0m \u001b[0;32mas\u001b[0m \u001b[0me\u001b[0m\u001b[0;34m:\u001b[0m\u001b[0;34m\u001b[0m\u001b[0;34m\u001b[0m\u001b[0m\n\u001b[1;32m     62\u001b[0m     \u001b[0;32mif\u001b[0m \u001b[0mname\u001b[0m \u001b[0;32mis\u001b[0m \u001b[0;32mnot\u001b[0m \u001b[0;32mNone\u001b[0m\u001b[0;34m:\u001b[0m\u001b[0;34m\u001b[0m\u001b[0;34m\u001b[0m\u001b[0m\n",
            "\u001b[0;31mKeyboardInterrupt\u001b[0m: "
          ]
        }
      ]
    }
  ]
}