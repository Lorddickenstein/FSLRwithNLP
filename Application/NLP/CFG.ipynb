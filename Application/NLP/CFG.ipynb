{
  "nbformat": 4,
  "nbformat_minor": 0,
  "metadata": {
    "colab": {
      "name": "CFG.ipynb",
      "provenance": [],
      "authorship_tag": "ABX9TyMjXkdYwQSEPoOFxJ2W1F1E",
      "include_colab_link": true
    },
    "kernelspec": {
      "name": "python3",
      "display_name": "Python 3"
    },
    "language_info": {
      "name": "python"
    }
  },
  "cells": [
    {
      "cell_type": "markdown",
      "metadata": {
        "id": "view-in-github",
        "colab_type": "text"
      },
      "source": [
        "<a href=\"https://colab.research.google.com/github/Lorddickenstein/FSLRwithNLP/blob/main/Application/NLP/CFG.ipynb\" target=\"_parent\"><img src=\"https://colab.research.google.com/assets/colab-badge.svg\" alt=\"Open In Colab\"/></a>"
      ]
    },
    {
      "cell_type": "code",
      "metadata": {
        "id": "bMQiiBYiWCkD"
      },
      "source": [
        "import nltk\n",
        "\n",
        "grammar1 = nltk.CFG.fromstring(\"\"\"\n",
        "  S -> QP | VP SP | QP SP | O SP | O VBP | WP | SP\n",
        "  SP -> PRP NN | PRP IN | NN\n",
        "  QP -> WP | WRB A2\n",
        "  O -> PRP | PRP A1 | PRP A2 A3 | PRP\n",
        "  A1 -> \"is\"\n",
        "  A2 -> \"are\"\n",
        "  A3 -> \"ay\"\n",
        "  IN -> \"from\"\n",
        "  WP -> \"What\" | \"How\" | \"When\"\n",
        "  WDT -> \"Which\"\n",
        "  WRB -> \"Where\"\n",
        "  NN -> \"name\" | \"estudyante\"\n",
        "  PRP -> \"you\" | \"I\"\n",
        "  RB -> \"here\" \n",
        "  VBP -> \"live\"\n",
        "  \"\"\")\n",
        "# (S (QP (WP What)) (SP (PRP you) (NN name)))\n",
        "grammar2 = nltk.CFG.fromstring(\"\"\"\n",
        "  S -> QP | VP SP | QP SP | O SP | O VBP\n",
        "  SP -> \"NN\" | \"NN PRP\" \n",
        "  QP -> \"WP\" | \"WP A1\"\n",
        "  O -> \"PRP\" | \"PRP A3\" | \"PRP A2 A3\"\n",
        "  \"\"\")\n",
        "\n",
        "grammar4 = nltk.CFG.fromstring(\"\"\"\n",
        "  S -> A\n",
        "  A -> QP SP | \n",
        "  SP -> NN | PRP NN \n",
        "  QP -> WP \n",
        "  O -> A1 PRP | PRP A3 | PRP A2 A3\n",
        "  WP -> \"What\"\n",
        "  PRP -> \"you\"\n",
        "  NN -> \"name\"\n",
        "  A1 -> \"is\"\n",
        "  \"\"\")\n",
        " \t\n",
        "grammar3 = nltk.CFG.fromstring(\"\"\"\n",
        "  S -> NP VP\n",
        "  VP -> V NP | V NP PP\n",
        "  PP -> P NP\n",
        "  V -> \"saw\" | \"ate\" | \"walked\"\n",
        "  NP -> \"John\" | \"Mary\" | \"Bob\" | Det N | Det N PP\n",
        "  Det -> \"a\" | \"an\" | \"the\" | \"my\"\n",
        "  N -> \"man\" | \"dog\" | \"cat\" | \"telescope\" | \"park\"\n",
        "  P -> \"in\" | \"on\" | \"by\" | \"with\"\n",
        "  \"\"\")\n",
        "\n",
        "# What's your name (What name you?) - S -> QP SP -> QP -> WP A1 -> \"Ano\" -> \"ang\" -> SP -> NN PRP -> NN -> \"pangalan\" -> PRP -> \"ikaw\"\n",
        "# Are you a student? (you student?) - S -> O SP -> O -> PRP A2 A3 -> PRP -> \"ikaw\" -> A2 -> \"ba\" -> A3 -> \"ay\" -> SP -> NN -> \"estudyante\"\n",
        "# I'm good (I good) - S -> O VBP -> O -> PRP A2 -> PRP -> \"ako\" -> A2 -> \"ay\" -> VBP -> \"mabuti\"\n",
        "# Where you from \n",
        "# I live here"
      ],
      "execution_count": null,
      "outputs": []
    },
    {
      "cell_type": "code",
      "metadata": {
        "colab": {
          "base_uri": "https://localhost:8080/"
        },
        "id": "zZ9PAlsHttOD",
        "outputId": "a4e0aabb-7fb5-498e-b64e-2ef1033e00fa"
      },
      "source": [
        "grammar1.productions()"
      ],
      "execution_count": null,
      "outputs": [
        {
          "output_type": "execute_result",
          "data": {
            "text/plain": [
              "[S -> QP,\n",
              " S -> VP SP,\n",
              " S -> QP SP,\n",
              " S -> O SP,\n",
              " S -> O VBP,\n",
              " S -> WP,\n",
              " S -> SP,\n",
              " SP -> PRP NN,\n",
              " SP -> PRP IN,\n",
              " SP -> NN,\n",
              " QP -> WP A1,\n",
              " QP -> WRB A2,\n",
              " O -> PRP,\n",
              " O -> PRP A1,\n",
              " O -> PRP A2 A3,\n",
              " O -> PRP,\n",
              " A1 -> 'is',\n",
              " A2 -> 'are',\n",
              " A3 -> 'ay',\n",
              " IN -> 'from',\n",
              " WP -> 'What',\n",
              " WP -> 'How',\n",
              " WP -> 'When',\n",
              " WDT -> 'Which',\n",
              " WRB -> 'Where',\n",
              " NN -> 'name',\n",
              " NN -> 'estudyante',\n",
              " PRP -> 'you',\n",
              " PRP -> 'I',\n",
              " VBP -> 'live']"
            ]
          },
          "metadata": {},
          "execution_count": 95
        }
      ]
    },
    {
      "cell_type": "code",
      "metadata": {
        "colab": {
          "base_uri": "https://localhost:8080/",
          "height": 357
        },
        "id": "zdzz078kQLoz",
        "outputId": "f986d15e-8baa-4e5e-9405-c2b16f0a89d8"
      },
      "source": [
        "import random\n",
        "\n",
        "\n",
        "d = {}\n",
        " \n",
        "d[\"b a c\"]=[[\"a\", \"b\"]]\n",
        "d[\"a\"]=[[\"what\", \"e\"],[\"when\", \"e\"]]\n",
        "d[\"b\"]=[[\"c\", \"d\"]]\n",
        "d[\"c\"]=[[\"you\"]]\n",
        "d[\"d\"]=[[\"name\"],[\"bday\"]]\n",
        "d[\"e\"]=[[\"is\"]]\n",
        "\n",
        "expansion = []\n",
        "seed = \"b a c\"\n",
        "\n",
        "\n",
        "def expand(start, expansion):\n",
        "    if start in d:\n",
        "    #Grab one possible expansion\n",
        "        possible = d[start]\n",
        "        random_expansion = random.choices(possible)\n",
        "    # Call this method again with the current element\n",
        "        for i in range(len(random_expansion)):\n",
        "            expand(random_expansion[i], expansion);\n",
        " \n",
        "  # if the rule wasn't found, then it's a terminal:\n",
        "  # append the string to the expansion\n",
        "    else:\n",
        "        expansion.append(start)\n",
        "\n",
        "expand(seed, expansion)\n",
        "\n",
        "print(expansion)"
      ],
      "execution_count": null,
      "outputs": [
        {
          "output_type": "error",
          "ename": "TypeError",
          "evalue": "ignored",
          "traceback": [
            "\u001b[0;31m---------------------------------------------------------------------------\u001b[0m",
            "\u001b[0;31mTypeError\u001b[0m                                 Traceback (most recent call last)",
            "\u001b[0;32m<ipython-input-149-f9564fd25d7b>\u001b[0m in \u001b[0;36m<module>\u001b[0;34m()\u001b[0m\n\u001b[1;32m     29\u001b[0m         \u001b[0mexpansion\u001b[0m\u001b[0;34m.\u001b[0m\u001b[0mappend\u001b[0m\u001b[0;34m(\u001b[0m\u001b[0mstart\u001b[0m\u001b[0;34m)\u001b[0m\u001b[0;34m\u001b[0m\u001b[0;34m\u001b[0m\u001b[0m\n\u001b[1;32m     30\u001b[0m \u001b[0;34m\u001b[0m\u001b[0m\n\u001b[0;32m---> 31\u001b[0;31m \u001b[0mexpand\u001b[0m\u001b[0;34m(\u001b[0m\u001b[0mseed\u001b[0m\u001b[0;34m,\u001b[0m \u001b[0mexpansion\u001b[0m\u001b[0;34m)\u001b[0m\u001b[0;34m\u001b[0m\u001b[0;34m\u001b[0m\u001b[0m\n\u001b[0m\u001b[1;32m     32\u001b[0m \u001b[0mprint\u001b[0m\u001b[0;34m(\u001b[0m\u001b[0mexpansion\u001b[0m\u001b[0;34m)\u001b[0m\u001b[0;34m\u001b[0m\u001b[0;34m\u001b[0m\u001b[0m\n",
            "\u001b[0;32m<ipython-input-149-f9564fd25d7b>\u001b[0m in \u001b[0;36mexpand\u001b[0;34m(start, expansion)\u001b[0m\n\u001b[1;32m     22\u001b[0m     \u001b[0;31m# Call this method again with the current element\u001b[0m\u001b[0;34m\u001b[0m\u001b[0;34m\u001b[0m\u001b[0;34m\u001b[0m\u001b[0m\n\u001b[1;32m     23\u001b[0m         \u001b[0;32mfor\u001b[0m \u001b[0mi\u001b[0m \u001b[0;32min\u001b[0m \u001b[0mrange\u001b[0m\u001b[0;34m(\u001b[0m\u001b[0mlen\u001b[0m\u001b[0;34m(\u001b[0m\u001b[0mrandom_expansion\u001b[0m\u001b[0;34m)\u001b[0m\u001b[0;34m)\u001b[0m\u001b[0;34m:\u001b[0m\u001b[0;34m\u001b[0m\u001b[0;34m\u001b[0m\u001b[0m\n\u001b[0;32m---> 24\u001b[0;31m             \u001b[0mexpand\u001b[0m\u001b[0;34m(\u001b[0m\u001b[0mrandom_expansion\u001b[0m\u001b[0;34m[\u001b[0m\u001b[0mi\u001b[0m\u001b[0;34m]\u001b[0m\u001b[0;34m,\u001b[0m \u001b[0mexpansion\u001b[0m\u001b[0;34m)\u001b[0m\u001b[0;34m;\u001b[0m\u001b[0;34m\u001b[0m\u001b[0;34m\u001b[0m\u001b[0m\n\u001b[0m\u001b[1;32m     25\u001b[0m \u001b[0;34m\u001b[0m\u001b[0m\n\u001b[1;32m     26\u001b[0m   \u001b[0;31m# if the rule wasn't found, then it's a terminal:\u001b[0m\u001b[0;34m\u001b[0m\u001b[0;34m\u001b[0m\u001b[0;34m\u001b[0m\u001b[0m\n",
            "\u001b[0;32m<ipython-input-149-f9564fd25d7b>\u001b[0m in \u001b[0;36mexpand\u001b[0;34m(start, expansion)\u001b[0m\n\u001b[1;32m     16\u001b[0m \u001b[0;34m\u001b[0m\u001b[0m\n\u001b[1;32m     17\u001b[0m \u001b[0;32mdef\u001b[0m \u001b[0mexpand\u001b[0m\u001b[0;34m(\u001b[0m\u001b[0mstart\u001b[0m\u001b[0;34m,\u001b[0m \u001b[0mexpansion\u001b[0m\u001b[0;34m)\u001b[0m\u001b[0;34m:\u001b[0m\u001b[0;34m\u001b[0m\u001b[0;34m\u001b[0m\u001b[0m\n\u001b[0;32m---> 18\u001b[0;31m     \u001b[0;32mif\u001b[0m \u001b[0mstart\u001b[0m \u001b[0;32min\u001b[0m \u001b[0md\u001b[0m\u001b[0;34m:\u001b[0m\u001b[0;34m\u001b[0m\u001b[0;34m\u001b[0m\u001b[0m\n\u001b[0m\u001b[1;32m     19\u001b[0m     \u001b[0;31m#Grab one possible expansion\u001b[0m\u001b[0;34m\u001b[0m\u001b[0;34m\u001b[0m\u001b[0;34m\u001b[0m\u001b[0m\n\u001b[1;32m     20\u001b[0m         \u001b[0mpossible\u001b[0m \u001b[0;34m=\u001b[0m \u001b[0md\u001b[0m\u001b[0;34m[\u001b[0m\u001b[0mstart\u001b[0m\u001b[0;34m]\u001b[0m\u001b[0;34m\u001b[0m\u001b[0;34m\u001b[0m\u001b[0m\n",
            "\u001b[0;31mTypeError\u001b[0m: unhashable type: 'list'"
          ]
        }
      ]
    },
    {
      "cell_type": "code",
      "metadata": {
        "id": "R2zRkFp3WMQt"
      },
      "source": [
        "\n",
        "text = \"What you name\"\n",
        "sent = text.split()\n",
        "# rd_parser = nltk.parse.shiftreduce.ShiftReduceParser(grammar1)\n",
        "rd_parser = nltk.parse.recursivedescent.RecursiveDescentParser(grammar1)\n",
        "for tree in rd_parser.parse(sent):\n",
        "  print(tree)\n",
        "# nltk.parse.shiftreduce.demo()\n",
        "# nltk.parse.recursivedescent.demo()"
      ],
      "execution_count": null,
      "outputs": []
    },
    {
      "cell_type": "code",
      "metadata": {
        "id": "hHu3z-kt6W-e"
      },
      "source": [
        ""
      ],
      "execution_count": null,
      "outputs": []
    },
    {
      "cell_type": "code",
      "metadata": {
        "colab": {
          "base_uri": "https://localhost:8080/"
        },
        "id": "XYtFHYNFQifB",
        "outputId": "2975332c-4360-43f2-f323-64f70dbcc13a"
      },
      "source": [
        "from textblob import TextBlob\n",
        "\n",
        "text = \"Get ball\"\n",
        "\n",
        "blob = TextBlob(text)\n",
        "blob.tags           # [('The', 'DT'), ('titular', 'JJ'),\n",
        "                    #  ('threat', 'NN'), ('of', 'IN'), ...]"
      ],
      "execution_count": null,
      "outputs": [
        {
          "output_type": "execute_result",
          "data": {
            "text/plain": [
              "[('Get', 'VB'), ('the', 'DT'), ('ball', 'NN')]"
            ]
          },
          "metadata": {},
          "execution_count": 10
        }
      ]
    },
    {
      "cell_type": "code",
      "metadata": {
        "colab": {
          "base_uri": "https://localhost:8080/"
        },
        "id": "mJv-9JJ-YEl1",
        "outputId": "82846d6a-5861-4379-d943-45efa133d947"
      },
      "source": [
        "nltk.download('treebank')\n",
        "nltk.download('punkt')\n",
        "nltk.download('averaged_perceptron_tagger')"
      ],
      "execution_count": null,
      "outputs": [
        {
          "output_type": "stream",
          "name": "stdout",
          "text": [
            "[nltk_data] Downloading package treebank to /root/nltk_data...\n",
            "[nltk_data]   Package treebank is already up-to-date!\n",
            "[nltk_data] Downloading package punkt to /root/nltk_data...\n",
            "[nltk_data]   Package punkt is already up-to-date!\n",
            "[nltk_data] Downloading package averaged_perceptron_tagger to\n",
            "[nltk_data]     /root/nltk_data...\n",
            "[nltk_data]   Unzipping taggers/averaged_perceptron_tagger.zip.\n"
          ]
        },
        {
          "output_type": "execute_result",
          "data": {
            "text/plain": [
              "True"
            ]
          },
          "metadata": {},
          "execution_count": 6
        }
      ]
    }
  ]
}