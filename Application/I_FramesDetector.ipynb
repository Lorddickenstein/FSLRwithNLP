{
  "nbformat": 4,
  "nbformat_minor": 0,
  "metadata": {
    "colab": {
      "name": "I-FramesDetector.ipynb",
      "provenance": [],
      "authorship_tag": "ABX9TyOrNRoN0+5Lym+r/14SPs1A",
      "include_colab_link": true
    },
    "kernelspec": {
      "name": "python3",
      "display_name": "Python 3"
    },
    "language_info": {
      "name": "python"
    }
  },
  "cells": [
    {
      "cell_type": "markdown",
      "metadata": {
        "id": "view-in-github",
        "colab_type": "text"
      },
      "source": [
        "<a href=\"https://colab.research.google.com/github/Lorddickenstein/FSLRwithNLP/blob/main/Application/I_FramesDetector.ipynb\" target=\"_parent\"><img src=\"https://colab.research.google.com/assets/colab-badge.svg\" alt=\"Open In Colab\"/></a>"
      ]
    },
    {
      "cell_type": "code",
      "metadata": {
        "colab": {
          "base_uri": "https://localhost:8080/"
        },
        "id": "ogJBwtD9B-KZ",
        "outputId": "645464d1-9a1e-4e3c-df7b-b2fde7e0f873"
      },
      "source": [
        "import os\n",
        "import cv2\n",
        "import subprocess\n",
        "\n",
        "filename = '/content/WIN_20211018_17_22_10_Pro.mp4'\n",
        "\n",
        "def get_frame_types(video_fn):\n",
        "    command = 'ffprobe -v error -show_entries frame=pict_type -of default=noprint_wrappers=1'.split()\n",
        "    out = subprocess.check_output(command + [video_fn]).decode()\n",
        "    frame_types = out.replace('pict_type=','').split()\n",
        "    return zip(range(len(frame_types)), frame_types)\n",
        "\n",
        "def save_i_keyframes(video_fn):\n",
        "    frame_types = get_frame_types(video_fn)\n",
        "    i_frames = [x[0] for x in frame_types if x[1]=='B']\n",
        "    if i_frames:\n",
        "        basename = os.path.splitext(os.path.basename(video_fn))[0]\n",
        "        cap = cv2.VideoCapture(video_fn)\n",
        "        for frame_no in i_frames:\n",
        "            cap.set(cv2.CAP_PROP_POS_FRAMES, frame_no)\n",
        "            ret, frame = cap.read()\n",
        "            outname = basename+'_i_frame_'+str(frame_no)+'.jpg'\n",
        "            cv2.imwrite(outname, frame)\n",
        "            print ('Saved: '+outname)\n",
        "        cap.release()\n",
        "    else:\n",
        "        print ('No I-frames in '+video_fn)\n",
        "\n",
        "if __name__ == '__main__':\n",
        "    save_i_keyframes(filename)"
      ],
      "execution_count": 35,
      "outputs": [
        {
          "output_type": "stream",
          "name": "stdout",
          "text": [
            "Saved: WIN_20211018_17_22_10_Pro_i_frame_1.jpg\n",
            "Saved: WIN_20211018_17_22_10_Pro_i_frame_2.jpg\n",
            "Saved: WIN_20211018_17_22_10_Pro_i_frame_4.jpg\n",
            "Saved: WIN_20211018_17_22_10_Pro_i_frame_5.jpg\n",
            "Saved: WIN_20211018_17_22_10_Pro_i_frame_7.jpg\n",
            "Saved: WIN_20211018_17_22_10_Pro_i_frame_8.jpg\n",
            "Saved: WIN_20211018_17_22_10_Pro_i_frame_10.jpg\n",
            "Saved: WIN_20211018_17_22_10_Pro_i_frame_11.jpg\n",
            "Saved: WIN_20211018_17_22_10_Pro_i_frame_13.jpg\n",
            "Saved: WIN_20211018_17_22_10_Pro_i_frame_14.jpg\n",
            "Saved: WIN_20211018_17_22_10_Pro_i_frame_16.jpg\n",
            "Saved: WIN_20211018_17_22_10_Pro_i_frame_17.jpg\n",
            "Saved: WIN_20211018_17_22_10_Pro_i_frame_19.jpg\n",
            "Saved: WIN_20211018_17_22_10_Pro_i_frame_20.jpg\n",
            "Saved: WIN_20211018_17_22_10_Pro_i_frame_22.jpg\n",
            "Saved: WIN_20211018_17_22_10_Pro_i_frame_23.jpg\n",
            "Saved: WIN_20211018_17_22_10_Pro_i_frame_25.jpg\n",
            "Saved: WIN_20211018_17_22_10_Pro_i_frame_26.jpg\n",
            "Saved: WIN_20211018_17_22_10_Pro_i_frame_28.jpg\n",
            "Saved: WIN_20211018_17_22_10_Pro_i_frame_31.jpg\n",
            "Saved: WIN_20211018_17_22_10_Pro_i_frame_32.jpg\n"
          ]
        }
      ]
    }
  ]
}