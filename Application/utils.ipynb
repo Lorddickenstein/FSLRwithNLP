{
  "nbformat": 4,
  "nbformat_minor": 0,
  "metadata": {
    "colab": {
      "name": "utils.ipynb",
      "provenance": [],
      "authorship_tag": "ABX9TyNWOQVe5S8YZWziv6mXhTjm",
      "include_colab_link": true
    },
    "kernelspec": {
      "name": "python3",
      "display_name": "Python 3"
    },
    "language_info": {
      "name": "python"
    }
  },
  "cells": [
    {
      "cell_type": "markdown",
      "metadata": {
        "id": "view-in-github",
        "colab_type": "text"
      },
      "source": [
        "<a href=\"https://colab.research.google.com/github/Lorddickenstein/FSLRwithNLP/blob/main/Application/utils.ipynb\" target=\"_parent\"><img src=\"https://colab.research.google.com/assets/colab-badge.svg\" alt=\"Open In Colab\"/></a>"
      ]
    },
    {
      "cell_type": "code",
      "metadata": {
        "id": "KFvMNi817EWd"
      },
      "source": [
        "import os\n",
        "import cv2\n",
        "import matplotlib.pyplot as plt\n",
        "from PIL import Image\n",
        "\n",
        "def scale(img, xScale, yScale):\n",
        "    res = cv2.resize(img, None, fx=xScale, fy=yScale, interpolation=cv2.INTER_CUBIC)\n",
        "    return res\n",
        "\n",
        "\n",
        "def crop(infile, height, width):\n",
        "    im = Image.open(infile)\n",
        "    imgwidth, imgheight = im.size\n",
        "    for i in range(imgheight // height):\n",
        "        for j in range(imgwidth // width):\n",
        "            box = (j * width, i * height, (j + 1) * width, (i + 1) * height)\n",
        "            yield im.crop(box)\n",
        "\n",
        "\n",
        "def averagePixels(path):\n",
        "    r, g, b = 0, 0, 0\n",
        "    count = 0\n",
        "    pic = Image.open(path)\n",
        "    for x in range(pic.size[0]):\n",
        "        for y in range(pic.size[1]):\n",
        "            imgData = pic.load()\n",
        "            tempr, tempg, tempb = imgData[x, y]\n",
        "            r += tempr\n",
        "            g += tempg\n",
        "            b += tempb\n",
        "            count += 1\n",
        "    return (r / count), (g / count), (b / count), count\n",
        "\n",
        "def convert_frame_to_grayscale(frame):\n",
        "    grayframe = None\n",
        "    gray = None\n",
        "    if frame is not None:\n",
        "        cv2.cvtColor(frame, cv2.COLOR_BGR2GRAY)\n",
        "        gray = cv2.cvtColor(frame, cv2.COLOR_BGR2GRAY)\n",
        "        gray = scale(gray, 1, 1)\n",
        "        grayframe = scale(gray, 1, 1)\n",
        "        gray = cv2.GaussianBlur(gray, (9, 9), 0.0)\n",
        "    return grayframe, gray\n",
        "\n",
        "\n"
      ],
      "execution_count": null,
      "outputs": []
    }
  ]
}