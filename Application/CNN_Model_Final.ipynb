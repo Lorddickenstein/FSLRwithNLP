{
  "nbformat": 4,
  "nbformat_minor": 0,
  "metadata": {
    "colab": {
      "name": "CNN_Model_Final.ipynb",
      "provenance": [],
      "collapsed_sections": [],
      "mount_file_id": "19kCMEIqbjQ659i5OQQMINzpvsiYjbCbq",
      "authorship_tag": "ABX9TyNeTB8dJPnRGgBaM0K25teZ",
      "include_colab_link": true
    },
    "kernelspec": {
      "name": "python3",
      "display_name": "Python 3"
    },
    "language_info": {
      "name": "python"
    }
  },
  "cells": [
    {
      "cell_type": "markdown",
      "metadata": {
        "id": "view-in-github",
        "colab_type": "text"
      },
      "source": [
        "<a href=\"https://colab.research.google.com/github/Lorddickenstein/FSLRwithNLP/blob/main/Application/CNN_Model_Final.ipynb\" target=\"_parent\"><img src=\"https://colab.research.google.com/assets/colab-badge.svg\" alt=\"Open In Colab\"/></a>"
      ]
    },
    {
      "cell_type": "markdown",
      "metadata": {
        "id": "n8h3-OVgKC7x"
      },
      "source": [
        "# Convolutional Neural Network with Own Datasets"
      ]
    },
    {
      "cell_type": "code",
      "metadata": {
        "id": "-TagkyO_C5Zs"
      },
      "source": [
        "from google.colab import files\n",
        "\n",
        "from tensorflow import keras\n",
        "from keras.models import Sequential, load_model\n",
        "from keras.layers import Activation, Dense, Flatten, MaxPool2D, Conv2D, Dropout, BatchNormalization\n",
        "from keras.metrics import categorical_crossentropy\n",
        "from keras.preprocessing.image import ImageDataGenerator\n",
        "from sklearn.metrics import confusion_matrix\n",
        "\n",
        "import matplotlib.pyplot as plt\n",
        "import numpy as np\n",
        "import pandas as pd\n",
        "import os\n",
        "import cv2\n",
        "import glob\n",
        "import warnings\n",
        "import random\n",
        "import shutil\n",
        "warnings.simplefilter(action='ignore', category=FutureWarning)\n",
        "%matplotlib inline"
      ],
      "execution_count": null,
      "outputs": []
    },
    {
      "cell_type": "markdown",
      "metadata": {
        "id": "3mOl456BLq7Y"
      },
      "source": [
        "If using a GPU, run this to make the computer know that you have a gpu so tensorflow could identify it correctly and enable memory growth on the gpu.\n",
        "\n",
        "Otherwise, leave this code."
      ]
    },
    {
      "cell_type": "code",
      "metadata": {
        "id": "20u7VbPOKd4U"
      },
      "source": [
        "physical_devices = tf.config.expertimental.list_physical_devices('GPU')\n",
        "print('Nump GPUs Available: ', len(physical_devices))\n",
        "tf.config.experimental.set_memory_growth(physical_devices[0], True)"
      ],
      "execution_count": null,
      "outputs": []
    },
    {
      "cell_type": "markdown",
      "metadata": {
        "id": "4jxl45mTMeUu"
      },
      "source": [
        "# Data Preparation\n",
        "The images are found inside the OurDataset Folder. The child folder named Old_Dataset will be used as an example. It will be read by the program and the output will be put into the Old_Dataset_Preprocessed."
      ]
    },
    {
      "cell_type": "code",
      "metadata": {
        "id": "N1BjZQuFMcjv"
      },
      "source": [
        "# Organize data into train, valid, test dirs\n",
        "folders = ['train', 'valid', 'test']\n",
        "dataset_categories = ['Dynamic_Single', 'Dynamic_Double',\n",
        "                       'Static_Single', 'Static_Double',\n",
        "                       'Letters', 'Numbers']\n",
        "letters = ['A', 'B', 'C', 'D', 'E',\n",
        "           'F', 'G', 'H', 'I', 'J',\n",
        "           'K', 'L', 'M', 'N', 'O',\n",
        "           'P', 'Q', 'R', 'S', 'T',\n",
        "           'U', 'V', 'W', 'X', 'Y',\n",
        "           'Z']\n",
        "numbers = ['0', '1', '2', '3', '4', '5', '6', '7', '8', '9']\n",
        "static_single = []\n",
        "static_double = []\n",
        "dynamic_single = []\n",
        "dynamic_double = []\n",
        "\n",
        "train_size = 50\n",
        "valid_size = 20\n",
        "test_size = 10\n",
        "\n",
        "dataset_classes = [numbers, letters,\n",
        "                   static_single, static_double,\n",
        "                   dynamic_single, dynamic_double]\n",
        "\n",
        "train_path = os.path.join(root, \"Train\")\n",
        "valid_path = os.path.join(root, \"Valid\")\n",
        "test_path = os.path.join(root, \"Test\")"
      ],
      "execution_count": null,
      "outputs": []
    },
    {
      "cell_type": "code",
      "metadata": {
        "id": "Vev_bGO2JJCz"
      },
      "source": [
        "# Create a directory from for all classes in class_obj\n",
        "def make_dir(path, class_obj):\n",
        "  for obj in class_obj:\n",
        "    path_class = os.path.join(path, obj)\n",
        "    os.makedirs(path_class)"
      ],
      "execution_count": null,
      "outputs": []
    },
    {
      "cell_type": "code",
      "metadata": {
        "id": "Gh-q_j2kFgYC"
      },
      "source": [
        "# Access all images from directory\n",
        "root = '/content/drive/MyDrive/Colab Notebooks/Datasets/OurDataset'\n",
        "\n",
        "# Make class directories for Train, Valid, and Test Folders\n",
        "if os.path.isdir(root + '/Train') is False:\n",
        "  make_dir(train_path, letters)\n",
        "  make_dir(train_path, numbers)\n",
        "  make_dir(train_path, static_single)\n",
        "  make_dir(train_path, static_double)\n",
        "  make_dir(train_path, dynamic_single)\n",
        "  make_dir(train_path, dynamic_double)\n",
        "  \n",
        "  make_dir(valid_path, letters)\n",
        "  make_dir(valid_path, numbers)\n",
        "  make_dir(valid_path, static_single)\n",
        "  make_dir(valid_path, static_double)\n",
        "  make_dir(valid_path, dynamic_single)\n",
        "  make_dir(valid_path, dynamic_double)\n",
        "\n",
        "  make_dir(test_path, letters)\n",
        "  make_dir(test_path, numbers)\n",
        "  make_dir(test_path, static_single)\n",
        "  make_dir(test_path, static_double)\n",
        "  make_dir(test_path, dynamic_single)\n",
        "  make_dir(test_path, dynamic_double)\n",
        "  "
      ],
      "execution_count": null,
      "outputs": []
    },
    {
      "cell_type": "markdown",
      "metadata": {
        "id": "GriuJ4qcTLer"
      },
      "source": [
        "# Populate **Train**, **Valid**, and **Test** Folders\n",
        "Populate the **Train, Valid, and Test** folder with directories of classes. Uses ***random sampling*** to randomize selection of images and uses ***glob*** to select file paths matching specific pattern in their names. ***shutil*** module allows the transfer of these files to the *Train, Valid, and Test*"
      ]
    },
    {
      "cell_type": "code",
      "metadata": {
        "id": "OuCHvfnYFgtJ"
      },
      "source": [
        "# Train Folder\n",
        "\n",
        "# Dynamic Single\n",
        "path = os.path.join(root, 'Old_Dataset/Dynamic_Single')\n",
        "for class_obj in dynamic_single:\n",
        "  path_class = os.path.join(path, class_obj)\n",
        "  os.chdir(path_class)\n",
        "  for item in random.sample(glob.glob(class_obj + '_*'), train_size):\n",
        "    shutil.move(item, train_path + '/' + class_obj)\n",
        "\n",
        "# Dynamic Double\n",
        "path = os.path.join(root, 'Old_Dataset/Dynamic_Double')\n",
        "for class_obj in dynamic_double:\n",
        "  path_class = os.path.join(path, class_obj)\n",
        "  os.chdir(path_class)\n",
        "  for item in random.sample(glob.glob(class_obj + '_*'), train_size):\n",
        "    shutil.move(items, train_path + '/' + class_obj)\n",
        "\n",
        "# Static Single\n",
        "path = os.path.join(root, 'Old_Dataset/Static_Single')\n",
        "for class_obj in static_single:\n",
        "  path_class = os.path.join(path, class_obj)\n",
        "  os.chdir(path_class)\n",
        "  for item in random.sample(glob.glob(class_obj + '_*'), train_size):\n",
        "    shutil.move(item, train_path + '/' + class_obj)\n",
        "\n",
        "# Static Double\n",
        "path = os.path.join(root, 'Old_Dataset/Static_Double')\n",
        "for class_obj in static_double:\n",
        "  path_class = os.path.join(path, class_obj)\n",
        "  os.chdir(path_class)\n",
        "  for item in random.sample(glob.glob(class_obj + '_*'), train_size):\n",
        "    shutil.move(items, train_path + '/' + class_obj)\n",
        "  \n",
        "# Letters\n",
        "path = os.path.join(root, 'Old_Dataset/Letters')\n",
        "for letter in letters:\n",
        "  path_class = os.path.join(path, letter)\n",
        "  os.chdir(path_class)\n",
        "  for item in random.sample(glob.glob(letter + '_*'), train_size):\n",
        "    shutil.move(item, train_path + '/' + letter)\n",
        "\n",
        "# Numbers\n",
        "path = os.path.join(root, 'Old_Dataset/Numbers')\n",
        "for number in numbers:\n",
        "  path_class = os.path.join(path, number)\n",
        "  os.chdir(path_class)\n",
        "  for item in random.sample(glob.glob(number + '_*'), train_size):\n",
        "    shutil.move(item, train_path + '/' + number)"
      ],
      "execution_count": null,
      "outputs": []
    },
    {
      "cell_type": "code",
      "metadata": {
        "id": "u9RwawerVCoB"
      },
      "source": [
        "# Valid Folder\n",
        "\n",
        "# Dynamic Single\n",
        "path = os.path.join(root, 'Old_Dataset/Dynamic_Single')\n",
        "for class_obj in dynamic_single:\n",
        "  path_class = os.path.join(path, class_obj)\n",
        "  os.chdir(path_class)\n",
        "  for item in random.sample(glob.glob(class_obj + '_*'), valid_size):\n",
        "    shutil.move(item, valid_path + '/' + class_obj)\n",
        "\n",
        "# Dynamic Double\n",
        "path = os.path.join(root, 'Old_Dataset/Dynamic_Double')\n",
        "for class_obj in dynamic_double:\n",
        "  path_class = os.path.join(path, class_obj)\n",
        "  os.chdir(path_class)\n",
        "  for item in random.sample(glob.glob(class_obj + '_*'), valid_size):\n",
        "    shutil.move(items, valid_path + '/' + class_obj)\n",
        "\n",
        "# Static Single\n",
        "path = os.path.join(root, 'Old_Dataset/Static_Single')\n",
        "for class_obj in static_single:\n",
        "  path_class = os.path.join(path, class_obj)\n",
        "  os.chdir(path_class)\n",
        "  for item in random.sample(glob.glob(class_obj + '_*'), valid_size):\n",
        "    shutil.move(item, valid_path + '/' + class_obj)\n",
        "\n",
        "# Static Double\n",
        "path = os.path.join(root, 'Old_Dataset/Static_Double')\n",
        "for class_obj in static_double:\n",
        "  path_class = os.path.join(path, class_obj)\n",
        "  os.chdir(path_class)\n",
        "  for item in random.sample(glob.glob(class_obj + '_*'), valid_size):\n",
        "    shutil.move(items, valid_path + '/' + class_obj)\n",
        "  \n",
        "# Letters\n",
        "path = os.path.join(root, 'Old_Dataset/Letters')\n",
        "for letter in letters:\n",
        "  path_class = os.path.join(path, letter)\n",
        "  os.chdir(path_class)\n",
        "  for item in random.sample(glob.glob(letter + '*'), valid_size):\n",
        "    shutil.move(item, valid_path + '/' + letter)\n",
        "\n",
        "# Numbers\n",
        "path = os.path.join(root, 'Old_Dataset/Numbers')\n",
        "for number in numbers:\n",
        "  path_class = os.path.join(path, number)\n",
        "  os.chdir(path_class)\n",
        "  for item in random.sample(glob.glob(number + '_*'), valid_size):\n",
        "    shutil.move(item, valid_path + '/' + number)"
      ],
      "execution_count": null,
      "outputs": []
    },
    {
      "cell_type": "code",
      "metadata": {
        "id": "59Yrg_4pVbBV"
      },
      "source": [
        "# Test\n",
        "\n",
        "# Dynamic Single\n",
        "path = os.path.join(root, 'Old_Dataset/Dynamic_Single')\n",
        "for class_obj in dynamic_single:\n",
        "  path_class = os.path.join(path, class_obj)\n",
        "  os.chdir(path_class)\n",
        "  for item in random.sample(glob.glob(class_obj + '_*'), test_size):\n",
        "    shutil.move(item, test_path + '/' + class_obj)\n",
        "\n",
        "# Dynamic Double\n",
        "path = os.path.join(root, 'Old_Dataset/Dynamic_Double')\n",
        "for class_obj in dynamic_double:\n",
        "  path_class = os.path.join(path, class_obj)\n",
        "  os.chdir(path_class)\n",
        "  for item in random.sample(glob.glob(class_obj + '_*'), test_size):\n",
        "    shutil.move(items, test_path + '/' + class_obj)\n",
        "\n",
        "# Static Single\n",
        "path = os.path.join(root, 'Old_Dataset/Static_Single')\n",
        "for class_obj in static_single:\n",
        "  path_class = os.path.join(path, class_obj)\n",
        "  os.chdir(path_class)\n",
        "  for item in random.sample(glob.glob(class_obj + '_*'), test_size):\n",
        "    shutil.move(item, test_path + '/' + class_obj)\n",
        "\n",
        "# Static Double\n",
        "path = os.path.join(root, 'Old_Dataset/Static_Double')\n",
        "for class_obj in static_double:\n",
        "  path_class = os.path.join(path, class_obj)\n",
        "  os.chdir(path_class)\n",
        "  for item in random.sample(glob.glob(class_obj + '_*'), test_size):\n",
        "    shutil.move(items, test_path + '/' + class_obj)\n",
        "  \n",
        "# Letters\n",
        "path = os.path.join(root, 'Old_Dataset/Letters')\n",
        "for letter in letters:\n",
        "  path_class = os.path.join(path, letter)\n",
        "  os.chdir(path_class)\n",
        "  for item in random.sample(glob.glob(letter + '_*'), test_size):\n",
        "    shutil.move(item, test_path + '/' + letter)\n",
        "\n",
        "# Numbers\n",
        "path = os.path.join(root, 'Old_Dataset/Numbers')\n",
        "for number in numbers:\n",
        "  path_class = os.path.join(path, number)\n",
        "  os.chdir(path_class)\n",
        "  for item in random.sample(glob.glob(number + '_*'), test_size):\n",
        "    shutil.move(item, test_path + '/' + number)"
      ],
      "execution_count": null,
      "outputs": []
    },
    {
      "cell_type": "markdown",
      "metadata": {
        "id": "8IwVQWUbWx9m"
      },
      "source": [
        "# Preprocess Image\n",
        "Transform images from the dataset into a format that the model expect. Use the VGG16 preprocessing input."
      ]
    },
    {
      "cell_type": "code",
      "metadata": {
        "id": "crCSekUeYGMm"
      },
      "source": [
        "classes = letters + numbers + dynamic_single + dynamic_double + static_single + static_double"
      ],
      "execution_count": null,
      "outputs": []
    },
    {
      "cell_type": "code",
      "metadata": {
        "id": "W6QQD4P7XY2Z"
      },
      "source": [
        "train_batches = ImageDataGenerator(preprocessing_function=tf.keras.application.vgg16.preprocess_input) \\\n",
        "    .flow_from_directory(director=train_path, target_size=(224, 224), classes=classes, batch_size=10)\n",
        "valid_batches = ImageDataGenerator(preprocessing_function=tf.keras.application.vgg16.preprocess_input) \\\n",
        "    .flow_from_directory(director=label_path, target_size=(224, 224), classes=classes, batch_size=10)\n",
        "test_batches = ImageDataGenerator(preprocessing_function=tf.keras.application.vgg16.preprocess_input) \\\n",
        "    .flow_from_directory(director=test_path, target_size=(224, 224), classes=classes, batch_size=10)"
      ],
      "execution_count": null,
      "outputs": []
    },
    {
      "cell_type": "code",
      "metadata": {
        "id": "rpAhrgnfYx9F"
      },
      "source": [
        "assert train_batches.n == 50\n",
        "assert valid_batches.n == 20\n",
        "assert test_batches.n == 10"
      ],
      "execution_count": null,
      "outputs": []
    },
    {
      "cell_type": "code",
      "metadata": {
        "id": "XlPIF7d2ZuFm"
      },
      "source": [
        "imgs, labels = next(train_batches)"
      ],
      "execution_count": null,
      "outputs": []
    },
    {
      "cell_type": "code",
      "metadata": {
        "id": "mNrM-v9QZIE8"
      },
      "source": [
        "# Plot 10 sample images\n",
        "def plotImages(images_arr):\n",
        "  fig, axes = plt.subplot(1, 10, figsize=(20, 20))\n",
        "  axes = axes.flatten()\n",
        "  for img, ax in zip(images_arr, axes):\n",
        "    ax.imshow(img)\n",
        "    ax.axis('off')\n",
        "  plt.tight_layout()\n",
        "  plt.show()"
      ],
      "execution_count": null,
      "outputs": []
    },
    {
      "cell_type": "code",
      "metadata": {
        "id": "R18knn9YZoxo"
      },
      "source": [
        "plotImages(img)\n",
        "print(labels)"
      ],
      "execution_count": null,
      "outputs": []
    },
    {
      "cell_type": "markdown",
      "metadata": {
        "id": "JkCeD-cFZnow"
      },
      "source": [
        ""
      ]
    }
  ]
}