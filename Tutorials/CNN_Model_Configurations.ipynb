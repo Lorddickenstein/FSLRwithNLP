{
  "nbformat": 4,
  "nbformat_minor": 0,
  "metadata": {
    "colab": {
      "name": "CNN_Model_Configurations.ipynb",
      "provenance": [],
      "collapsed_sections": [],
      "mount_file_id": "1gbkv_B-aq0Fnz9IPin1oxTMgNIzSobpW",
      "authorship_tag": "ABX9TyPWVRZswKwihoZhqqB9KupY",
      "include_colab_link": true
    },
    "kernelspec": {
      "name": "python3",
      "display_name": "Python 3"
    },
    "language_info": {
      "name": "python"
    }
  },
  "cells": [
    {
      "cell_type": "markdown",
      "metadata": {
        "id": "view-in-github",
        "colab_type": "text"
      },
      "source": [
        "<a href=\"https://colab.research.google.com/github/Lorddickenstein/FSLRwithNLP/blob/main/Tutorials/CNN_Model_Configurations.ipynb\" target=\"_parent\"><img src=\"https://colab.research.google.com/assets/colab-badge.svg\" alt=\"Open In Colab\"/></a>"
      ]
    },
    {
      "cell_type": "code",
      "metadata": {
        "id": "hB07zd35_WKN"
      },
      "source": [
        "from tensorflow import keras\n",
        "from keras.models import Sequential, load_model\n",
        "from keras.layers import Activation, Dense, Flatten, MaxPool2D, Conv2D, Dropout\n",
        "from keras.metrics import categorical_crossentropy\n",
        "\n",
        "import numpy as np\n",
        "import matplotlib.pyplot as plt\n",
        "import os\n",
        "import cv2\n",
        "import pandas as pd\n",
        "import glob\n",
        "import warnings\n",
        "\n"
      ],
      "execution_count": null,
      "outputs": []
    },
    {
      "cell_type": "code",
      "metadata": {
        "id": "CaNU1QXGk2BC"
      },
      "source": [
        "def import_data():\n",
        "    \"\"\"@doc Get the train datasets\"\"\"\n",
        "    df_train = pd.read_csv(\n",
        "        '/content/drive/MyDrive/Colab Notebooks/Datasets/Fingerspelling/sign_mnist_train/sign_mnist_train.csv')\n",
        "    # print(df_train.head())\n",
        "\n",
        "    x_sets = df_train.drop(columns=['label'])\n",
        "    y_sets = df_train[['label']]\n",
        "\n",
        "    x_train = x_sets[:22000]\n",
        "    y_train = y_sets[:22000]\n",
        "    print(len(x_train))\n",
        "    # print(y_train.head())\n",
        "\n",
        "    x_valid = x_sets[22001:]\n",
        "    y_valid = y_sets[22001:]\n",
        "    print(len(x_valid))\n",
        "\n",
        "    \"\"\"@doc Get the test datasets\"\"\"\n",
        "    df_test = pd.read_csv(\n",
        "        '/content/drive/MyDrive/Colab Notebooks/Datasets/Fingerspelling/sign_mnist_test/sign_mnist_test.csv')\n",
        "\n",
        "    x_test = df_test.drop(columns=['label'])\n",
        "    y_test = df_test[['label']]\n",
        "\n",
        "    \"\"\"Convert to np array\"\"\"\n",
        "    x_train = x_train.to_numpy()\n",
        "    y_train = y_train.to_numpy()\n",
        "    x_test = x_test.to_numpy()\n",
        "    y_test = y_test.to_numpy()\n",
        "    x_valid = x_valid.to_numpy()\n",
        "    y_valid = y_valid.to_numpy()\n",
        "\n",
        "    \"\"\"Reshape to 28x28\"\"\"\n",
        "    x_train = x_train.reshape(-1, 28, 28, 1)\n",
        "    x_test = x_test.reshape(-1, 28, 28, 1)\n",
        "    x_valid = x_valid.reshape(-1, 28, 28, 1)\n",
        "    # print(x_train.shape)\n",
        "\n",
        "    \"\"\"Normalize data\"\"\"\n",
        "    x_train = x_train.astype('float32')\n",
        "    x_test = x_test.astype('float32')\n",
        "    x_valid = x_valid.astype('float32')\n",
        "    x_train /= 255\n",
        "    x_test /= 255\n",
        "    x_valid /= 255\n",
        "\n",
        "    \"\"\"Convert to categorical variables\"\"\"\n",
        "    y_train = keras.utils.to_categorical(y_train, 26)\n",
        "    y_test = keras.utils.to_categorical(y_test, 26)\n",
        "    y_valid = keras.utils.to_categorical(y_valid, 26)\n",
        "    \n",
        "    return (x_train, y_train, x_valid, y_valid, x_test, y_test)"
      ],
      "execution_count": 95,
      "outputs": []
    },
    {
      "cell_type": "code",
      "metadata": {
        "id": "_atpRPLSNxot"
      },
      "source": [
        "def create_model(dataset):\n",
        "  # load data\n",
        "  (x_train, y_train, x_valid, y_valid, x_test, y_test) = dataset\n",
        "  print(\"x_train: {}, x_valid: {}, x_test: {}\".format(x_train.ndim, x_valid.ndim, x_test.ndim))\n",
        "\n",
        "\n",
        "  # Create the Sequential Model\n",
        "  model = Sequential()\n",
        "\n",
        "  # Add Layers\n",
        "  model.add(Conv2D(32, kernel_size=(3, 3), activation='relu', input_shape=(28, 28, 1), padding='same'))\n",
        "  model.add(MaxPool2D(pool_size=(2, 2)))\n",
        "  model.add(Conv2D(64, kernel_size=(3, 3), activation='relu', padding='same'))\n",
        "  model.add(MaxPool2D(pool_size=(2, 2)))\n",
        "  model.add(Dropout(0.25))\n",
        "  model.add(Flatten())\n",
        "  model.add(Dense(128, activation='relu'))\n",
        "  model.add(Dropout(0.50))\n",
        "  model.add(Dense(26, activation='softmax'))\n",
        "\n",
        "  # Summary of layers\n",
        "  model.summary()\n",
        "\n",
        "  model.compile(loss='categorical_crossentropy', optimizer=keras.optimizers.Adam(), metrics=['accuracy'])\n",
        "  model.fit(x=x_train, y=y_train, validation_data=(x_valid, y_valid), batch_size=15, epochs=30)\n",
        "  print(model.evaluate(x_test, y_test))\n",
        "  return model"
      ],
      "execution_count": 92,
      "outputs": []
    },
    {
      "cell_type": "code",
      "metadata": {
        "id": "FnHXUkqfbeUd"
      },
      "source": [
        "def save_model(model, name):\n",
        "  model.save(name)"
      ],
      "execution_count": null,
      "outputs": []
    },
    {
      "cell_type": "code",
      "metadata": {
        "id": "gtpdbPyRcPrS"
      },
      "source": [
        "def find_match(x):\n",
        "  classes = {0: 'A', 1: 'B', 2: 'C', 3: 'D', 4: 'E',\n",
        "           5: 'F', 6: 'G', 7: 'H', 8: 'I', 9: ' ',\n",
        "           10: 'K', 11: 'L',12: 'M', 13: 'N', 14: 'O',\n",
        "           15: 'P', 16: 'Q', 17: 'R', 18: 'S', 19: 'T',\n",
        "           20: 'U', 21: 'V', 22: 'W', 23: 'X', 24: 'Y',\n",
        "           25: ' '}\n",
        "  return classes[x]"
      ],
      "execution_count": null,
      "outputs": []
    },
    {
      "cell_type": "code",
      "metadata": {
        "id": "06YbfbuGcnSP"
      },
      "source": [
        "def predict_image(src_img, model_name):\n",
        "  model = load_model(model_name)\n",
        "  prediction = model.predict(src_img)\n",
        "  class_x = np.argmax(prediction, axis=1)\n",
        "  return find_match(class_x[0])"
      ],
      "execution_count": null,
      "outputs": []
    },
    {
      "cell_type": "code",
      "metadata": {
        "id": "OtcldEa7lW2a",
        "colab": {
          "base_uri": "https://localhost:8080/",
          "height": 217
        },
        "outputId": "a887b105-41de-4f22-b338-6b665b4181f3"
      },
      "source": [
        "path = \"/content/drive/MyDrive/Colab Notebooks/Datasets/Test_Images\"\n",
        "file_name = \"R2.jpg\"\n",
        "img = cv2.imread(os.path.join(path, file_name))\n",
        "img = cv2.imread(path, 0)\n",
        "img = preprocess_image(img)\n",
        "predict_image(img, )"
      ],
      "execution_count": 87,
      "outputs": [
        {
          "output_type": "error",
          "ename": "NameError",
          "evalue": "ignored",
          "traceback": [
            "\u001b[0;31m---------------------------------------------------------------------------\u001b[0m",
            "\u001b[0;31mNameError\u001b[0m                                 Traceback (most recent call last)",
            "\u001b[0;32m<ipython-input-87-c046e1838e59>\u001b[0m in \u001b[0;36m<module>\u001b[0;34m()\u001b[0m\n\u001b[1;32m      3\u001b[0m \u001b[0mimg\u001b[0m \u001b[0;34m=\u001b[0m \u001b[0mcv2\u001b[0m\u001b[0;34m.\u001b[0m\u001b[0mimread\u001b[0m\u001b[0;34m(\u001b[0m\u001b[0mos\u001b[0m\u001b[0;34m.\u001b[0m\u001b[0mpath\u001b[0m\u001b[0;34m.\u001b[0m\u001b[0mjoin\u001b[0m\u001b[0;34m(\u001b[0m\u001b[0mpath\u001b[0m\u001b[0;34m,\u001b[0m \u001b[0mfile_name\u001b[0m\u001b[0;34m)\u001b[0m\u001b[0;34m)\u001b[0m\u001b[0;34m\u001b[0m\u001b[0;34m\u001b[0m\u001b[0m\n\u001b[1;32m      4\u001b[0m \u001b[0mimg\u001b[0m \u001b[0;34m=\u001b[0m \u001b[0mcv2\u001b[0m\u001b[0;34m.\u001b[0m\u001b[0mimread\u001b[0m\u001b[0;34m(\u001b[0m\u001b[0mpath\u001b[0m\u001b[0;34m,\u001b[0m \u001b[0;36m0\u001b[0m\u001b[0;34m)\u001b[0m\u001b[0;34m\u001b[0m\u001b[0;34m\u001b[0m\u001b[0m\n\u001b[0;32m----> 5\u001b[0;31m \u001b[0mimg\u001b[0m \u001b[0;34m=\u001b[0m \u001b[0mpreprocess_image\u001b[0m\u001b[0;34m(\u001b[0m\u001b[0mimg\u001b[0m\u001b[0;34m)\u001b[0m\u001b[0;34m\u001b[0m\u001b[0;34m\u001b[0m\u001b[0m\n\u001b[0m\u001b[1;32m      6\u001b[0m \u001b[0mpredict_image\u001b[0m\u001b[0;34m(\u001b[0m\u001b[0mimg\u001b[0m\u001b[0;34m,\u001b[0m \u001b[0;34m)\u001b[0m\u001b[0;34m\u001b[0m\u001b[0;34m\u001b[0m\u001b[0m\n",
            "\u001b[0;31mNameError\u001b[0m: name 'preprocess_image' is not defined"
          ]
        }
      ]
    },
    {
      "cell_type": "code",
      "metadata": {
        "colab": {
          "base_uri": "https://localhost:8080/"
        },
        "id": "qU4qDRX1le0e",
        "outputId": "a3520fe5-8733-40b7-d7fa-2087a172d042"
      },
      "source": [
        "dataset = import_data()"
      ],
      "execution_count": 96,
      "outputs": [
        {
          "output_type": "stream",
          "name": "stdout",
          "text": [
            "22000\n",
            "5454\n"
          ]
        }
      ]
    },
    {
      "cell_type": "code",
      "metadata": {
        "colab": {
          "base_uri": "https://localhost:8080/"
        },
        "id": "wm2THFhLFEnE",
        "outputId": "e1782186-00b5-454f-a469-5fe73a53ac4e"
      },
      "source": [
        "model = create_model(dataset)"
      ],
      "execution_count": 97,
      "outputs": [
        {
          "output_type": "stream",
          "name": "stdout",
          "text": [
            "x_train: 4, x_valid: 4, x_test: 4\n",
            "Model: \"sequential_29\"\n",
            "_________________________________________________________________\n",
            "Layer (type)                 Output Shape              Param #   \n",
            "=================================================================\n",
            "conv2d_69 (Conv2D)           (None, 28, 28, 32)        320       \n",
            "_________________________________________________________________\n",
            "max_pooling2d_54 (MaxPooling (None, 14, 14, 32)        0         \n",
            "_________________________________________________________________\n",
            "conv2d_70 (Conv2D)           (None, 14, 14, 64)        18496     \n",
            "_________________________________________________________________\n",
            "max_pooling2d_55 (MaxPooling (None, 7, 7, 64)          0         \n",
            "_________________________________________________________________\n",
            "dropout_62 (Dropout)         (None, 7, 7, 64)          0         \n",
            "_________________________________________________________________\n",
            "flatten_9 (Flatten)          (None, 3136)              0         \n",
            "_________________________________________________________________\n",
            "dense_50 (Dense)             (None, 128)               401536    \n",
            "_________________________________________________________________\n",
            "dropout_63 (Dropout)         (None, 128)               0         \n",
            "_________________________________________________________________\n",
            "dense_51 (Dense)             (None, 26)                3354      \n",
            "=================================================================\n",
            "Total params: 423,706\n",
            "Trainable params: 423,706\n",
            "Non-trainable params: 0\n",
            "_________________________________________________________________\n",
            "Epoch 1/30\n",
            "1467/1467 [==============================] - 38s 25ms/step - loss: 1.3938 - accuracy: 0.5595 - val_loss: 0.2158 - val_accuracy: 0.9626\n",
            "Epoch 2/30\n",
            "1467/1467 [==============================] - 37s 26ms/step - loss: 0.3599 - accuracy: 0.8770 - val_loss: 0.0381 - val_accuracy: 0.9963\n",
            "Epoch 3/30\n",
            "1467/1467 [==============================] - 37s 25ms/step - loss: 0.2039 - accuracy: 0.9297 - val_loss: 0.0129 - val_accuracy: 0.9993\n",
            "Epoch 4/30\n",
            "1467/1467 [==============================] - 37s 25ms/step - loss: 0.1429 - accuracy: 0.9505 - val_loss: 0.0036 - val_accuracy: 1.0000\n",
            "Epoch 5/30\n",
            "1467/1467 [==============================] - 37s 25ms/step - loss: 0.1186 - accuracy: 0.9596 - val_loss: 0.0021 - val_accuracy: 1.0000\n",
            "Epoch 6/30\n",
            "1467/1467 [==============================] - 37s 25ms/step - loss: 0.0947 - accuracy: 0.9664 - val_loss: 0.0015 - val_accuracy: 1.0000\n",
            "Epoch 7/30\n",
            "1467/1467 [==============================] - 36s 25ms/step - loss: 0.0832 - accuracy: 0.9702 - val_loss: 7.2484e-04 - val_accuracy: 1.0000\n",
            "Epoch 8/30\n",
            "1467/1467 [==============================] - 37s 25ms/step - loss: 0.0673 - accuracy: 0.9757 - val_loss: 8.4681e-04 - val_accuracy: 1.0000\n",
            "Epoch 9/30\n",
            "1467/1467 [==============================] - 37s 25ms/step - loss: 0.0664 - accuracy: 0.9767 - val_loss: 0.0010 - val_accuracy: 0.9998\n",
            "Epoch 10/30\n",
            "1467/1467 [==============================] - 37s 25ms/step - loss: 0.0542 - accuracy: 0.9805 - val_loss: 5.6709e-04 - val_accuracy: 1.0000\n",
            "Epoch 11/30\n",
            "1467/1467 [==============================] - 37s 25ms/step - loss: 0.0537 - accuracy: 0.9805 - val_loss: 6.3834e-05 - val_accuracy: 1.0000\n",
            "Epoch 12/30\n",
            "1467/1467 [==============================] - 37s 25ms/step - loss: 0.0499 - accuracy: 0.9829 - val_loss: 4.6420e-04 - val_accuracy: 1.0000\n",
            "Epoch 13/30\n",
            "1467/1467 [==============================] - 37s 25ms/step - loss: 0.0466 - accuracy: 0.9843 - val_loss: 1.1059e-04 - val_accuracy: 1.0000\n",
            "Epoch 14/30\n",
            "1467/1467 [==============================] - 37s 25ms/step - loss: 0.0473 - accuracy: 0.9839 - val_loss: 5.5999e-05 - val_accuracy: 1.0000\n",
            "Epoch 15/30\n",
            "1467/1467 [==============================] - 37s 25ms/step - loss: 0.0388 - accuracy: 0.9854 - val_loss: 4.1387e-05 - val_accuracy: 1.0000\n",
            "Epoch 16/30\n",
            "1467/1467 [==============================] - 37s 25ms/step - loss: 0.0403 - accuracy: 0.9859 - val_loss: 1.0084e-04 - val_accuracy: 1.0000\n",
            "Epoch 17/30\n",
            "1467/1467 [==============================] - 37s 25ms/step - loss: 0.0344 - accuracy: 0.9885 - val_loss: 1.7961e-05 - val_accuracy: 1.0000\n",
            "Epoch 18/30\n",
            "1467/1467 [==============================] - 37s 25ms/step - loss: 0.0309 - accuracy: 0.9896 - val_loss: 1.2730e-05 - val_accuracy: 1.0000\n",
            "Epoch 19/30\n",
            "1467/1467 [==============================] - 37s 25ms/step - loss: 0.0377 - accuracy: 0.9874 - val_loss: 6.0586e-05 - val_accuracy: 1.0000\n",
            "Epoch 20/30\n",
            "1467/1467 [==============================] - 37s 25ms/step - loss: 0.0310 - accuracy: 0.9896 - val_loss: 1.7309e-05 - val_accuracy: 1.0000\n",
            "Epoch 21/30\n",
            "1467/1467 [==============================] - 37s 25ms/step - loss: 0.0354 - accuracy: 0.9880 - val_loss: 6.3007e-05 - val_accuracy: 1.0000\n",
            "Epoch 22/30\n",
            "1467/1467 [==============================] - 37s 25ms/step - loss: 0.0288 - accuracy: 0.9906 - val_loss: 4.1492e-05 - val_accuracy: 1.0000\n",
            "Epoch 23/30\n",
            "1467/1467 [==============================] - 37s 25ms/step - loss: 0.0320 - accuracy: 0.9899 - val_loss: 2.3866e-05 - val_accuracy: 1.0000\n",
            "Epoch 24/30\n",
            "1467/1467 [==============================] - 37s 25ms/step - loss: 0.0337 - accuracy: 0.9886 - val_loss: 3.7710e-06 - val_accuracy: 1.0000\n",
            "Epoch 25/30\n",
            "1467/1467 [==============================] - 37s 26ms/step - loss: 0.0295 - accuracy: 0.9904 - val_loss: 2.9949e-05 - val_accuracy: 1.0000\n",
            "Epoch 26/30\n",
            "1467/1467 [==============================] - 37s 25ms/step - loss: 0.0288 - accuracy: 0.9903 - val_loss: 1.7512e-05 - val_accuracy: 1.0000\n",
            "Epoch 27/30\n",
            "1467/1467 [==============================] - 37s 25ms/step - loss: 0.0281 - accuracy: 0.9909 - val_loss: 1.2903e-05 - val_accuracy: 1.0000\n",
            "Epoch 28/30\n",
            "1467/1467 [==============================] - 37s 26ms/step - loss: 0.0290 - accuracy: 0.9907 - val_loss: 9.1476e-06 - val_accuracy: 1.0000\n",
            "Epoch 29/30\n",
            "1467/1467 [==============================] - 37s 25ms/step - loss: 0.0270 - accuracy: 0.9913 - val_loss: 1.8755e-06 - val_accuracy: 1.0000\n",
            "Epoch 30/30\n",
            "1467/1467 [==============================] - 37s 25ms/step - loss: 0.0273 - accuracy: 0.9917 - val_loss: 9.3646e-06 - val_accuracy: 1.0000\n",
            "225/225 [==============================] - 3s 12ms/step - loss: 0.3543 - accuracy: 0.9459\n",
            "[0.3543050289154053, 0.9459007382392883]\n"
          ]
        }
      ]
    },
    {
      "cell_type": "code",
      "metadata": {
        "id": "ZrQzz3HZFICK"
      },
      "source": [
        "model_name = 'test.h5'\n",
        "path = '/content/drive/MyDrive/Colab Notebooks/CNN Models/' + model_name\n",
        "save_model(model, path)"
      ],
      "execution_count": null,
      "outputs": []
    }
  ]
}