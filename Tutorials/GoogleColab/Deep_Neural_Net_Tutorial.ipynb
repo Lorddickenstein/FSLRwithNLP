{
  "nbformat": 4,
  "nbformat_minor": 0,
  "metadata": {
    "colab": {
      "name": "Untitled1.ipynb",
      "provenance": [],
      "collapsed_sections": [],
      "toc_visible": true,
      "mount_file_id": "1Xp-Y4C6b6vryVWnHvn9S_C3rDikHuxuI",
      "authorship_tag": "ABX9TyNOf7+AYHJUNLxBmF/vDElN",
      "include_colab_link": true
    },
    "kernelspec": {
      "name": "python3",
      "display_name": "Python 3"
    },
    "language_info": {
      "name": "python"
    }
  },
  "cells": [
    {
      "cell_type": "markdown",
      "metadata": {
        "id": "view-in-github",
        "colab_type": "text"
      },
      "source": [
        "<a href=\"https://colab.research.google.com/github/Lorddickenstein/FSLRwithNLP/blob/main/Tutorials/Deep_Neural_Net_Tutorial.ipynb\" target=\"_parent\"><img src=\"https://colab.research.google.com/assets/colab-badge.svg\" alt=\"Open In Colab\"/></a>"
      ]
    },
    {
      "cell_type": "markdown",
      "metadata": {
        "id": "KFDqxcSLK1o4"
      },
      "source": [
        "# Deep Neural Network"
      ]
    },
    {
      "cell_type": "code",
      "metadata": {
        "id": "evRbx1OtKzaU"
      },
      "source": [
        "import keras\n",
        "import numpy as np\n",
        "import pandas as pd"
      ],
      "execution_count": 1,
      "outputs": []
    },
    {
      "cell_type": "markdown",
      "metadata": {
        "id": "Vx2MmCnELdgy"
      },
      "source": [
        "#### Get data"
      ]
    },
    {
      "cell_type": "code",
      "metadata": {
        "colab": {
          "base_uri": "https://localhost:8080/",
          "height": 224
        },
        "id": "SGwHBoADLCvr",
        "outputId": "3883e444-bba7-4cb5-b09f-8790bfc6cae9"
      },
      "source": [
        "df = pd.read_csv('/content/drive/MyDrive/Colab Notebooks/LearnKeras-master/2.DNNs/HousingPrices.csv')\n",
        "df.head()"
      ],
      "execution_count": 2,
      "outputs": [
        {
          "output_type": "execute_result",
          "data": {
            "text/html": [
              "<div>\n",
              "<style scoped>\n",
              "    .dataframe tbody tr th:only-of-type {\n",
              "        vertical-align: middle;\n",
              "    }\n",
              "\n",
              "    .dataframe tbody tr th {\n",
              "        vertical-align: top;\n",
              "    }\n",
              "\n",
              "    .dataframe thead th {\n",
              "        text-align: right;\n",
              "    }\n",
              "</style>\n",
              "<table border=\"1\" class=\"dataframe\">\n",
              "  <thead>\n",
              "    <tr style=\"text-align: right;\">\n",
              "      <th></th>\n",
              "      <th>YearBuilt</th>\n",
              "      <th>2ndFlrSF</th>\n",
              "      <th>GrLivArea</th>\n",
              "      <th>FullBath</th>\n",
              "      <th>HalfBath</th>\n",
              "      <th>BedroomAbvGr</th>\n",
              "      <th>TotRmsAbvGrd</th>\n",
              "      <th>YrSold</th>\n",
              "      <th>SalePrice</th>\n",
              "    </tr>\n",
              "  </thead>\n",
              "  <tbody>\n",
              "    <tr>\n",
              "      <th>0</th>\n",
              "      <td>2003</td>\n",
              "      <td>854</td>\n",
              "      <td>1710</td>\n",
              "      <td>2</td>\n",
              "      <td>1</td>\n",
              "      <td>3</td>\n",
              "      <td>8</td>\n",
              "      <td>2008</td>\n",
              "      <td>208500</td>\n",
              "    </tr>\n",
              "    <tr>\n",
              "      <th>1</th>\n",
              "      <td>1976</td>\n",
              "      <td>0</td>\n",
              "      <td>1262</td>\n",
              "      <td>2</td>\n",
              "      <td>0</td>\n",
              "      <td>3</td>\n",
              "      <td>6</td>\n",
              "      <td>2007</td>\n",
              "      <td>181500</td>\n",
              "    </tr>\n",
              "    <tr>\n",
              "      <th>2</th>\n",
              "      <td>2001</td>\n",
              "      <td>866</td>\n",
              "      <td>1786</td>\n",
              "      <td>2</td>\n",
              "      <td>1</td>\n",
              "      <td>3</td>\n",
              "      <td>6</td>\n",
              "      <td>2008</td>\n",
              "      <td>223500</td>\n",
              "    </tr>\n",
              "    <tr>\n",
              "      <th>3</th>\n",
              "      <td>1915</td>\n",
              "      <td>756</td>\n",
              "      <td>1717</td>\n",
              "      <td>1</td>\n",
              "      <td>0</td>\n",
              "      <td>3</td>\n",
              "      <td>7</td>\n",
              "      <td>2006</td>\n",
              "      <td>140000</td>\n",
              "    </tr>\n",
              "    <tr>\n",
              "      <th>4</th>\n",
              "      <td>2000</td>\n",
              "      <td>1053</td>\n",
              "      <td>2198</td>\n",
              "      <td>2</td>\n",
              "      <td>1</td>\n",
              "      <td>4</td>\n",
              "      <td>9</td>\n",
              "      <td>2008</td>\n",
              "      <td>250000</td>\n",
              "    </tr>\n",
              "  </tbody>\n",
              "</table>\n",
              "</div>"
            ],
            "text/plain": [
              "   YearBuilt  2ndFlrSF  GrLivArea  ...  TotRmsAbvGrd  YrSold  SalePrice\n",
              "0       2003       854       1710  ...             8    2008     208500\n",
              "1       1976         0       1262  ...             6    2007     181500\n",
              "2       2001       866       1786  ...             6    2008     223500\n",
              "3       1915       756       1717  ...             7    2006     140000\n",
              "4       2000      1053       2198  ...             9    2008     250000\n",
              "\n",
              "[5 rows x 9 columns]"
            ]
          },
          "metadata": {},
          "execution_count": 2
        }
      ]
    },
    {
      "cell_type": "markdown",
      "metadata": {
        "id": "GLK71h9cLjGb"
      },
      "source": [
        "#### Set the x and y values"
      ]
    },
    {
      "cell_type": "code",
      "metadata": {
        "id": "PQJb3jYDLb2k"
      },
      "source": [
        "x = df.drop(columns=['SalePrice'])\n",
        "y = df[['SalePrice']]"
      ],
      "execution_count": 3,
      "outputs": []
    },
    {
      "cell_type": "markdown",
      "metadata": {
        "id": "bd-HzAj4L_Dy"
      },
      "source": [
        "#### Build the model"
      ]
    },
    {
      "cell_type": "code",
      "metadata": {
        "id": "0GABWsuuMAra"
      },
      "source": [
        "model = keras.Sequential()\n",
        "\n",
        "# Layers of neuron\n",
        "model.add(keras.layers.Dense(8, activation='relu', input_shape=(8,)))\n",
        "# relu - closer to 1, the value is 1, closer to 0, value is 0\n",
        "model.add(keras.layers.Dense(8, activation='relu'))\n",
        "model.add(keras.layers.Dense(1))\n",
        "\n",
        "# Compile the model\n",
        "model.compile(optimizer='adam', loss='mean_squared_error')"
      ],
      "execution_count": 8,
      "outputs": []
    },
    {
      "cell_type": "code",
      "metadata": {
        "colab": {
          "base_uri": "https://localhost:8080/"
        },
        "id": "PcEWiBNxLcZD",
        "outputId": "1d4925ab-5636-4a4d-8b04-5ce23621ed0f"
      },
      "source": [
        "model.fit(x, y, epochs=30, callbacks=[keras.callbacks.EarlyStopping(patience=5)])"
      ],
      "execution_count": 10,
      "outputs": [
        {
          "output_type": "stream",
          "name": "stdout",
          "text": [
            "Epoch 1/30\n",
            "46/46 [==============================] - 1s 1ms/step - loss: 38860779520.0000\n",
            "WARNING:tensorflow:Early stopping conditioned on metric `val_loss` which is not available. Available metrics are: loss\n",
            "Epoch 2/30\n",
            "46/46 [==============================] - 0s 2ms/step - loss: 38422577152.0000\n",
            "WARNING:tensorflow:Early stopping conditioned on metric `val_loss` which is not available. Available metrics are: loss\n",
            "Epoch 3/30\n",
            "46/46 [==============================] - 0s 1ms/step - loss: 37651050496.0000\n",
            "WARNING:tensorflow:Early stopping conditioned on metric `val_loss` which is not available. Available metrics are: loss\n",
            "Epoch 4/30\n",
            "46/46 [==============================] - 0s 2ms/step - loss: 36438814720.0000\n",
            "WARNING:tensorflow:Early stopping conditioned on metric `val_loss` which is not available. Available metrics are: loss\n",
            "Epoch 5/30\n",
            "46/46 [==============================] - 0s 1ms/step - loss: 34729074688.0000\n",
            "WARNING:tensorflow:Early stopping conditioned on metric `val_loss` which is not available. Available metrics are: loss\n",
            "Epoch 6/30\n",
            "46/46 [==============================] - 0s 1ms/step - loss: 32447455232.0000\n",
            "WARNING:tensorflow:Early stopping conditioned on metric `val_loss` which is not available. Available metrics are: loss\n",
            "Epoch 7/30\n",
            "46/46 [==============================] - 0s 2ms/step - loss: 29599444992.0000\n",
            "WARNING:tensorflow:Early stopping conditioned on metric `val_loss` which is not available. Available metrics are: loss\n",
            "Epoch 8/30\n",
            "46/46 [==============================] - 0s 2ms/step - loss: 26253541376.0000\n",
            "WARNING:tensorflow:Early stopping conditioned on metric `val_loss` which is not available. Available metrics are: loss\n",
            "Epoch 9/30\n",
            "46/46 [==============================] - 0s 1ms/step - loss: 22546235392.0000\n",
            "WARNING:tensorflow:Early stopping conditioned on metric `val_loss` which is not available. Available metrics are: loss\n",
            "Epoch 10/30\n",
            "46/46 [==============================] - 0s 2ms/step - loss: 18744498176.0000\n",
            "WARNING:tensorflow:Early stopping conditioned on metric `val_loss` which is not available. Available metrics are: loss\n",
            "Epoch 11/30\n",
            "46/46 [==============================] - 0s 2ms/step - loss: 15061455872.0000\n",
            "WARNING:tensorflow:Early stopping conditioned on metric `val_loss` which is not available. Available metrics are: loss\n",
            "Epoch 12/30\n",
            "46/46 [==============================] - 0s 2ms/step - loss: 11815967744.0000\n",
            "WARNING:tensorflow:Early stopping conditioned on metric `val_loss` which is not available. Available metrics are: loss\n",
            "Epoch 13/30\n",
            "46/46 [==============================] - 0s 1ms/step - loss: 9174564864.0000\n",
            "WARNING:tensorflow:Early stopping conditioned on metric `val_loss` which is not available. Available metrics are: loss\n",
            "Epoch 14/30\n",
            "46/46 [==============================] - 0s 2ms/step - loss: 7240534528.0000\n",
            "WARNING:tensorflow:Early stopping conditioned on metric `val_loss` which is not available. Available metrics are: loss\n",
            "Epoch 15/30\n",
            "46/46 [==============================] - 0s 1ms/step - loss: 5977936896.0000\n",
            "WARNING:tensorflow:Early stopping conditioned on metric `val_loss` which is not available. Available metrics are: loss\n",
            "Epoch 16/30\n",
            "46/46 [==============================] - 0s 1ms/step - loss: 5238192128.0000\n",
            "WARNING:tensorflow:Early stopping conditioned on metric `val_loss` which is not available. Available metrics are: loss\n",
            "Epoch 17/30\n",
            "46/46 [==============================] - 0s 2ms/step - loss: 4864308736.0000\n",
            "WARNING:tensorflow:Early stopping conditioned on metric `val_loss` which is not available. Available metrics are: loss\n",
            "Epoch 18/30\n",
            "46/46 [==============================] - 0s 2ms/step - loss: 4690554880.0000\n",
            "WARNING:tensorflow:Early stopping conditioned on metric `val_loss` which is not available. Available metrics are: loss\n",
            "Epoch 19/30\n",
            "46/46 [==============================] - 0s 2ms/step - loss: 4612025344.0000\n",
            "WARNING:tensorflow:Early stopping conditioned on metric `val_loss` which is not available. Available metrics are: loss\n",
            "Epoch 20/30\n",
            "46/46 [==============================] - 0s 2ms/step - loss: 4577641984.0000\n",
            "WARNING:tensorflow:Early stopping conditioned on metric `val_loss` which is not available. Available metrics are: loss\n",
            "Epoch 21/30\n",
            "46/46 [==============================] - 0s 2ms/step - loss: 4555321344.0000\n",
            "WARNING:tensorflow:Early stopping conditioned on metric `val_loss` which is not available. Available metrics are: loss\n",
            "Epoch 22/30\n",
            "46/46 [==============================] - 0s 1ms/step - loss: 4536598528.0000\n",
            "WARNING:tensorflow:Early stopping conditioned on metric `val_loss` which is not available. Available metrics are: loss\n",
            "Epoch 23/30\n",
            "46/46 [==============================] - 0s 2ms/step - loss: 4521565696.0000\n",
            "WARNING:tensorflow:Early stopping conditioned on metric `val_loss` which is not available. Available metrics are: loss\n",
            "Epoch 24/30\n",
            "46/46 [==============================] - 0s 2ms/step - loss: 4504904192.0000\n",
            "WARNING:tensorflow:Early stopping conditioned on metric `val_loss` which is not available. Available metrics are: loss\n",
            "Epoch 25/30\n",
            "46/46 [==============================] - 0s 2ms/step - loss: 4488473088.0000\n",
            "WARNING:tensorflow:Early stopping conditioned on metric `val_loss` which is not available. Available metrics are: loss\n",
            "Epoch 26/30\n",
            "46/46 [==============================] - 0s 1ms/step - loss: 4469802496.0000\n",
            "WARNING:tensorflow:Early stopping conditioned on metric `val_loss` which is not available. Available metrics are: loss\n",
            "Epoch 27/30\n",
            "46/46 [==============================] - 0s 2ms/step - loss: 4450415616.0000\n",
            "WARNING:tensorflow:Early stopping conditioned on metric `val_loss` which is not available. Available metrics are: loss\n",
            "Epoch 28/30\n",
            "46/46 [==============================] - 0s 1ms/step - loss: 4427695616.0000\n",
            "WARNING:tensorflow:Early stopping conditioned on metric `val_loss` which is not available. Available metrics are: loss\n",
            "Epoch 29/30\n",
            "46/46 [==============================] - 0s 1ms/step - loss: 4402485760.0000\n",
            "WARNING:tensorflow:Early stopping conditioned on metric `val_loss` which is not available. Available metrics are: loss\n",
            "Epoch 30/30\n",
            "46/46 [==============================] - 0s 2ms/step - loss: 4377258496.0000\n",
            "WARNING:tensorflow:Early stopping conditioned on metric `val_loss` which is not available. Available metrics are: loss\n"
          ]
        },
        {
          "output_type": "execute_result",
          "data": {
            "text/plain": [
              "<keras.callbacks.History at 0x7fca32f8fbd0>"
            ]
          },
          "metadata": {},
          "execution_count": 10
        }
      ]
    },
    {
      "cell_type": "code",
      "metadata": {
        "colab": {
          "base_uri": "https://localhost:8080/"
        },
        "id": "mSsmyu2LQFEi",
        "outputId": "752ac3ef-0cee-4159-c958-a4bdc9f6132a"
      },
      "source": [
        "test_data = np.array([2003, 854, 1710, 2, 1, 3, 8, 2008])\n",
        "print(model.predict(test_data.reshape(1, 8), batch_size=1))"
      ],
      "execution_count": 12,
      "outputs": [
        {
          "output_type": "stream",
          "name": "stdout",
          "text": [
            "[[201528.52]]\n"
          ]
        }
      ]
    },
    {
      "cell_type": "markdown",
      "metadata": {
        "id": "bmX93ELfQw4p"
      },
      "source": [
        "# Save the Model"
      ]
    },
    {
      "cell_type": "code",
      "metadata": {
        "id": "v-IQkrkSQvvs"
      },
      "source": [
        "model.save('housing_model.h5')"
      ],
      "execution_count": 13,
      "outputs": []
    },
    {
      "cell_type": "markdown",
      "metadata": {
        "id": "ZOOL5BUSRBk1"
      },
      "source": [
        "# Use the Model"
      ]
    },
    {
      "cell_type": "code",
      "metadata": {
        "id": "u_IPMEaARBLQ"
      },
      "source": [
        "model = keras.models.load_model('housing_model.h5')"
      ],
      "execution_count": 14,
      "outputs": []
    },
    {
      "cell_type": "code",
      "metadata": {
        "colab": {
          "base_uri": "https://localhost:8080/"
        },
        "id": "S9mm-c_KRPN6",
        "outputId": "987b0ad4-c8e2-4dda-87d8-52429bae9ff1"
      },
      "source": [
        "test_data = np.array([2003, 854, 1710, 2, 1, 3, 8, 2008])\n",
        "print(model.predict(test_data.reshape(1, 8), batch_size=1))"
      ],
      "execution_count": 15,
      "outputs": [
        {
          "output_type": "stream",
          "name": "stdout",
          "text": [
            "[[201528.52]]\n"
          ]
        }
      ]
    }
  ]
}