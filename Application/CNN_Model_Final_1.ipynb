{
  "nbformat": 4,
  "nbformat_minor": 0,
  "metadata": {
    "colab": {
      "name": "CNN_Model_Final_1.ipynb",
      "provenance": [],
      "collapsed_sections": [],
      "include_colab_link": true
    },
    "kernelspec": {
      "display_name": "Python 3",
      "name": "python3"
    },
    "language_info": {
      "name": "python"
    }
  },
  "cells": [
    {
      "cell_type": "markdown",
      "metadata": {
        "id": "view-in-github",
        "colab_type": "text"
      },
      "source": [
        "<a href=\"https://colab.research.google.com/github/Lorddickenstein/FSLRwithNLP/blob/main/Application/CNN_Model_Final_1.ipynb\" target=\"_parent\"><img src=\"https://colab.research.google.com/assets/colab-badge.svg\" alt=\"Open In Colab\"/></a>"
      ]
    },
    {
      "cell_type": "markdown",
      "metadata": {
        "id": "n8h3-OVgKC7x"
      },
      "source": [
        "# Convolutional Neural Network with Own Datasets #1\n",
        "\n",
        "This is training half of the datasets from the folder FSLR Application Dataset. This uses the datasets under the Training, Valid, and Test folders but only half the data from the datasets.\n",
        "\n",
        "The datasets provided are:\n"
      ]
    },
    {
      "cell_type": "code",
      "metadata": {
        "colab": {
          "base_uri": "https://localhost:8080/"
        },
        "id": "U3OXdGaDI2JC",
        "outputId": "cdfcd275-79a9-4cb1-9a18-49f19e80f201"
      },
      "source": [
        "from google.colab import drive\n",
        "drive.mount('/content/drive', force_remount=True)"
      ],
      "execution_count": 1,
      "outputs": [
        {
          "output_type": "stream",
          "name": "stdout",
          "text": [
            "Mounted at /content/drive\n"
          ]
        }
      ]
    },
    {
      "cell_type": "code",
      "metadata": {
        "colab": {
          "base_uri": "https://localhost:8080/"
        },
        "id": "PW3XEfE0B6ei",
        "outputId": "338d1da1-2640-4b28-94a6-71683fcc9d5c"
      },
      "source": [
        "!pip install pyyaml h5py  # Required to save models in HDF5 format"
      ],
      "execution_count": 2,
      "outputs": [
        {
          "output_type": "stream",
          "name": "stdout",
          "text": [
            "Requirement already satisfied: pyyaml in /usr/local/lib/python3.7/dist-packages (3.13)\n",
            "Requirement already satisfied: h5py in /usr/local/lib/python3.7/dist-packages (3.1.0)\n",
            "Requirement already satisfied: numpy>=1.14.5 in /usr/local/lib/python3.7/dist-packages (from h5py) (1.19.5)\n",
            "Requirement already satisfied: cached-property in /usr/local/lib/python3.7/dist-packages (from h5py) (1.5.2)\n"
          ]
        }
      ]
    },
    {
      "cell_type": "code",
      "metadata": {
        "id": "-TagkyO_C5Zs"
      },
      "source": [
        "import tensorflow as tf\n",
        "from tensorflow import keras\n",
        "from keras.models import Sequential, load_model\n",
        "from keras.layers import Activation, Dense, Flatten, MaxPool2D, Conv2D, Dropout, BatchNormalization\n",
        "from keras.metrics import categorical_crossentropy\n",
        "from keras.preprocessing.image import ImageDataGenerator\n",
        "from sklearn.metrics import confusion_matrix\n",
        "\n",
        "import matplotlib.pyplot as plt\n",
        "import numpy as np\n",
        "import pandas as pd\n",
        "import os\n",
        "import cv2\n",
        "import glob\n",
        "import warnings\n",
        "import random\n",
        "import shutil\n",
        "import itertools\n",
        "\n",
        "warnings.simplefilter(action='ignore', category=FutureWarning)\n",
        "%matplotlib inline"
      ],
      "execution_count": 3,
      "outputs": []
    },
    {
      "cell_type": "code",
      "metadata": {
        "id": "C6L3b40xH1VY"
      },
      "source": [
        "from PIL import ImageFile\n",
        "ImageFile.LOAD_TRUNCATED_IMAGES = True"
      ],
      "execution_count": 56,
      "outputs": []
    },
    {
      "cell_type": "markdown",
      "metadata": {
        "id": "3mOl456BLq7Y"
      },
      "source": [
        "## Do you have GPU?\n",
        "If using a GPU, run this to make the computer know that you have a gpu so tensorflow could identify it correctly and enable memory growth on the gpu.\n",
        "\n",
        "Otherwise, leave this code."
      ]
    },
    {
      "cell_type": "code",
      "metadata": {
        "id": "20u7VbPOKd4U"
      },
      "source": [
        "physical_devices = tf.config.expertimental.list_physical_devices('GPU')\n",
        "print('Nump GPUs Available: ', len(physical_devices))\n",
        "tf.config.experimental.set_memory_growth(physical_devices[0], True)"
      ],
      "execution_count": null,
      "outputs": []
    },
    {
      "cell_type": "markdown",
      "metadata": {
        "id": "4jxl45mTMeUu"
      },
      "source": [
        "# Data Preparation\n",
        "The images are found inside the OurDataset Folder under Raw_Dataset. Images will be read by the program and the output will be placed into the inside the FSLR_Application_Dataset."
      ]
    },
    {
      "cell_type": "code",
      "metadata": {
        "id": "NRX1tjoZGJs3"
      },
      "source": [
        "# paths and directories\n",
        "root = '/content/drive/MyDrive/Colab Notebooks/Datasets/Part 1'\n",
        "dataset_root = '/content/drive/MyDrive/Colab Notebooks/Datasets/FSLR_Application_Dataset'\n",
        "\n",
        "train_path = os.path.join(root, \"Train\")\n",
        "valid_path = os.path.join(root, \"Valid\")\n",
        "test_path = os.path.join(root, \"Test\")"
      ],
      "execution_count": 30,
      "outputs": []
    },
    {
      "cell_type": "code",
      "metadata": {
        "id": "N1BjZQuFMcjv"
      },
      "source": [
        "# Organize data into train, valid, test dirs\n",
        "dataset_categories = ['Dynamic Single', 'Dynamic Double',\n",
        "                       'Static Single', 'Static Double',\n",
        "                       'Letters', 'Numbers']\n",
        "\n",
        "letters = ['A', 'B', 'C', 'D', 'E',\n",
        "           'F', 'G', 'H', 'I', 'J',\n",
        "           'K', 'L', 'M', 'N', 'O',\n",
        "           'P', 'Q', 'R', 'S', 'T',\n",
        "           'U', 'V', 'W', 'X', 'Y',\n",
        "           'Z']\n",
        "\n",
        "# numbers = ['1', '2', '3', '4', '5', '6', '7', '8', '9']\n",
        "numbers = []\n",
        "\n",
        "static_single = ['Fine', 'Gabi', 'Good', 'Hapon', 'He-She',\n",
        "                 'His-Her', 'I Love You', 'I-Me', 'Mine',\n",
        "                 'Tanghali', 'Umaga', 'You', 'Your']\n",
        "\n",
        "static_double = ['Congratulations', 'Great', 'Help', 'Meet', 'Table',\n",
        "                 'Name', 'Occupation', 'Pray', 'Rest', 'Pen',\n",
        "                 'Stand', 'Study', 'To', 'Chair']\n",
        "\n",
        "dynamic_single = ['Invite', 'Late', 'Late-2',\n",
        "                  'No', 'No-2', 'Our', 'Our-2', 'Sorry', 'That', 'Them',\n",
        "                  'This', 'We', 'Welcome', 'Welcome-2', 'When', 'Who',\n",
        "                  'Who-2', 'Why', 'Why-2', 'Yes', 'Yesterday']\n",
        "\n",
        "dynamic_double = ['Ball', 'Banana', 'Banana-2', 'Bread', 'Break', 'Egg',\n",
        "                  'Break-2', 'Bring', 'Bring-2', 'Buy', 'Buy-2', 'Bye', 'Coconut', 'Egg-2',\n",
        "                  'Coffee', 'Come', 'Come-2', 'Cook', 'From', 'From-2', 'Get', 'Get-2', 'Egg-3',\n",
        "                  'Go', 'Go-2', 'Happen', 'Happen-2', 'How', 'How-2', 'Introduce', 'Introduce-2',\n",
        "                  'Let', 'Let-2', 'Live', 'Mango', 'Maybe', 'Nice', 'Now', 'Office', 'Office-2',\n",
        "                  'School', 'Sit', 'Store', 'Strawberry', 'Thank You', 'Thank You-2', 'Today', 'Today-2',\n",
        "                  'What', 'Where', 'Which', 'Work']\n",
        "\n",
        "\"\"\"\n",
        "  Removed:\n",
        "    eroplano\n",
        "    eroplano-2\n",
        "    numbers[]\n",
        "    year\n",
        "    allow\n",
        "    ago\n",
        "    how much\n",
        "    old\n",
        "\"\"\"\n",
        "\n",
        "dataset_classes = numbers + letters + static_single + static_double + dynamic_single + dynamic_double"
      ],
      "execution_count": 20,
      "outputs": []
    },
    {
      "cell_type": "code",
      "metadata": {
        "id": "sKWF10TfDFZ_"
      },
      "source": [
        "# Run this to take only half of the dataset classes\n",
        "dataset_classes = dataset_classes[:63]\n",
        "print(dataset_classes)"
      ],
      "execution_count": null,
      "outputs": []
    },
    {
      "cell_type": "code",
      "metadata": {
        "id": "foaLqRPSORak"
      },
      "source": [
        "print(len(letters))\n",
        "print(len(numbers))\n",
        "print(len(static_single))\n",
        "print(len(static_double))\n",
        "print(len(dynamic_single))\n",
        "print(len(dynamic_double))\n",
        "print(len(dataset_classes))"
      ],
      "execution_count": null,
      "outputs": []
    },
    {
      "cell_type": "markdown",
      "metadata": {
        "id": "f4LlhO4fLIWW"
      },
      "source": [
        "## Functions\n",
        "Contains all the functions that are needed for this program."
      ]
    },
    {
      "cell_type": "code",
      "metadata": {
        "id": "j6bTYwF5QMdm"
      },
      "source": [
        "# Normalize images\n",
        "def preprocess_func(src_img):\n",
        "  norm = src_img.astype('float32')\n",
        "  norm /= 255\n",
        "  return norm"
      ],
      "execution_count": 12,
      "outputs": []
    },
    {
      "cell_type": "code",
      "metadata": {
        "id": "axexCmt1Q-hh"
      },
      "source": [
        "# Plot 10 sample images\n",
        "def plotImages(images_arr):\n",
        "  fig, axes = plt.subplots(1, 10, figsize=(20, 20))\n",
        "  axes = axes.flatten()\n",
        "  for img, ax in zip(images_arr, axes):\n",
        "    ax.imshow(img)\n",
        "    ax.axis('off')\n",
        "  plt.tight_layout()\n",
        "  plt.show()"
      ],
      "execution_count": 13,
      "outputs": []
    },
    {
      "cell_type": "code",
      "metadata": {
        "id": "UqRRbiWPSs64"
      },
      "source": [
        "# Create the Sequential Model\n",
        "def create_model():\n",
        "  model = Sequential()\n",
        "\n",
        "  # Layers\n",
        "  model.add(Conv2D(64, kernel_size=(3, 3), activation='relu', input_shape=(80, 80, 1), padding='same'))\n",
        "  model.add(Conv2D(128, kernel_size=(3, 3), activation='relu', padding='same'))\n",
        "  model.add(Conv2D(128, kernel_size=(3, 3), activation='relu', padding='same'))\n",
        "  model.add(MaxPool2D(pool_size=(2, 2), strides=2))\n",
        "  model.add(Conv2D(256, kernel_size=(3, 3), activation='relu', padding='same'))\n",
        "  model.add(Conv2D(256, kernel_size=(3, 3), activation='relu', padding='same'))\n",
        "  model.add(MaxPool2D(pool_size=(2, 2), strides=2))\n",
        "  model.add(Flatten())\n",
        "  model.add(Dense(512, activation='relu'))\n",
        "  model.add(Dropout(0.20))\n",
        "  model.add(Dense(total_classes, activation='softmax'))\n",
        "\n",
        "  return model"
      ],
      "execution_count": 14,
      "outputs": []
    },
    {
      "cell_type": "code",
      "metadata": {
        "id": "AXZBnEbmbjT8"
      },
      "source": [
        "def plot_confusion_matrix(cm, classes,\n",
        "                        normalize=False,\n",
        "                        title='Confusion matrix',\n",
        "                        cmap=plt.cm.Blues):\n",
        "    \"\"\"\n",
        "    This function prints and plots the confusion matrix.\n",
        "    Normalization can be applied by setting `normalize=True`.\n",
        "    \"\"\"\n",
        "    plt.imshow(cm, interpolation='nearest', cmap=cmap)\n",
        "    plt.title(title)\n",
        "    plt.colorbar()\n",
        "    tick_marks = np.arange(len(classes))\n",
        "    plt.xticks(tick_marks, classes, rotation=45)\n",
        "    plt.yticks(tick_marks, classes)\n",
        "\n",
        "    if normalize:\n",
        "        cm = cm.astype('float') / cm.sum(axis=1)[:, np.newaxis]\n",
        "        print(\"Normalized confusion matrix\")\n",
        "    else:\n",
        "        print('Confusion matrix, without normalization')\n",
        "\n",
        "    print(cm)\n",
        "\n",
        "    thresh = cm.max() / 2.\n",
        "    for i, j in itertools.product(range(cm.shape[0]), range(cm.shape[1])):\n",
        "        plt.text(j, i, cm[i, j],\n",
        "            horizontalalignment=\"center\",\n",
        "            color=\"white\" if cm[i, j] > thresh else \"black\")\n",
        "\n",
        "    plt.tight_layout()\n",
        "    plt.ylabel('True label')\n",
        "    plt.xlabel('Predicted label')"
      ],
      "execution_count": 15,
      "outputs": []
    },
    {
      "cell_type": "markdown",
      "metadata": {
        "id": "GriuJ4qcTLer"
      },
      "source": [
        "# Populate **Train**, **Valid**, and **Test** Folders\n",
        "Populate the **Train, Valid, and Test** folder with directories of classes. Uses ***random sampling*** to randomize selection of images and uses ***glob*** to select file paths matching specific pattern in their names. ***shutil*** module allows the transfer of these files to the *Train, Valid, and Test*"
      ]
    },
    {
      "cell_type": "code",
      "metadata": {
        "id": "felOrN7mDrgg"
      },
      "source": [
        "folders = ['Train', 'Valid', 'Test']\n",
        "for folder in folders:\n",
        "  folder_path = os.path.join(root, folder)\n",
        "  dataset_path = os.path.join(dataset_root, folder)\n",
        "  for sign in dataset_classes:\n",
        "    path_class_dest = os.path.join(folder_path, sign)\n",
        "    print(path_class_dest)\n",
        "\n",
        "    if os.path.isdir(path_class_dest) is False:\n",
        "      os.makedirs(path_class_dest)\n",
        "\n",
        "    path_class = os.path.join(dataset_path, sign)\n",
        "    for item in os.listdir(path_class):\n",
        "      shutil.copy(os.path.join(path_class, item), path_class_dest)\n",
        "      print(folder, '\\t', sign,'\\t', item)\n"
      ],
      "execution_count": null,
      "outputs": []
    },
    {
      "cell_type": "code",
      "metadata": {
        "id": "u9RwawerVCoB"
      },
      "source": [
        "# Verify number of images in all folders\n",
        "for sign in dataset_classes:\n",
        "  train_path_experiment = os.path.join(train_path, sign)\n",
        "  valid_path_experiment = os.path.join(valid_path, sign)\n",
        "  test_path_experiment = os.path.join(test_path, sign)\n",
        "  print(sign, \"\\t\\t\\t\\t\", len(os.listdir(train_path_experiment)), len(os.listdir(valid_path_experiment)), len(os.listdir(test_path_experiment)))"
      ],
      "execution_count": null,
      "outputs": []
    },
    {
      "cell_type": "markdown",
      "metadata": {
        "id": "8IwVQWUbWx9m"
      },
      "source": [
        "# Preprocess Image\n",
        "Transform images from the dataset into a format that the model expect. Applies data augmentation to increase the number of datasets used for training."
      ]
    },
    {
      "cell_type": "code",
      "metadata": {
        "id": "crCSekUeYGMm"
      },
      "source": [
        "image_size = (80, 80)"
      ],
      "execution_count": 44,
      "outputs": []
    },
    {
      "cell_type": "code",
      "metadata": {
        "colab": {
          "base_uri": "https://localhost:8080/"
        },
        "id": "W6QQD4P7XY2Z",
        "outputId": "c58f57c6-8ffb-4d0b-de48-4325b60d5508"
      },
      "source": [
        "# Augments dataset 10x\n",
        "train_batches = ImageDataGenerator(preprocessing_function=preprocess_func, horizontal_flip=True, width_shift_range=0.1, height_shift_range=0.1, shear_range=0.2, zoom_range=0.2, fill_mode='nearest') \\\n",
        "    .flow_from_directory(directory=train_path, target_size=image_size, classes=dataset_classes, batch_size=5, color_mode='grayscale')\n",
        "valid_batches = ImageDataGenerator(preprocessing_function=preprocess_func, horizontal_flip=True, width_shift_range=0.15, height_shift_range=0.1, shear_range=0.2, zoom_range=0.2, fill_mode='nearest') \\\n",
        "    .flow_from_directory(directory=valid_path, target_size=image_size, classes=dataset_classes, batch_size=5, color_mode='grayscale')\n",
        "test_batches = ImageDataGenerator(preprocessing_function=preprocess_func, horizontal_flip=True, width_shift_range=0.15, height_shift_range=0.1, shear_range=0.2, zoom_range=0.2, fill_mode='nearest') \\\n",
        "    .flow_from_directory(directory=test_path, target_size=image_size, classes=dataset_classes, batch_size=5, color_mode='grayscale')"
      ],
      "execution_count": 45,
      "outputs": [
        {
          "output_type": "stream",
          "name": "stdout",
          "text": [
            "Found 9909 images belonging to 63 classes.\n",
            "Found 3100 images belonging to 63 classes.\n",
            "Found 1240 images belonging to 63 classes.\n"
          ]
        }
      ]
    },
    {
      "cell_type": "code",
      "metadata": {
        "id": "rpAhrgnfYx9F"
      },
      "source": [
        "assert valid_batches.n == 6950\n",
        "assert test_batches.n == 2780"
      ],
      "execution_count": null,
      "outputs": []
    },
    {
      "cell_type": "code",
      "metadata": {
        "id": "XlPIF7d2ZuFm"
      },
      "source": [
        "imgs, labels = next(train_batches)"
      ],
      "execution_count": null,
      "outputs": []
    },
    {
      "cell_type": "code",
      "metadata": {
        "id": "R18knn9YZoxo"
      },
      "source": [
        "plotImages(imgs)"
      ],
      "execution_count": null,
      "outputs": []
    },
    {
      "cell_type": "markdown",
      "metadata": {
        "id": "4zPRXtDqVqWW"
      },
      "source": [
        "# Save checkpoints during training\n",
        "##Employing the following:\n",
        "\n",
        "1. Checkpoints\n",
        "\n",
        "2. CSV Logger"
      ]
    },
    {
      "cell_type": "code",
      "metadata": {
        "id": "5MJcUqbKVocz"
      },
      "source": [
        "from keras.callbacks import ModelCheckpoint, CSVLogger\n",
        "\n",
        "checkpoint_path = \"/content/drive/MyDrive/Colab Notebooks/Datasets/Part 1/weights_improvements-epoch:{epoch:02d}-val_accuracy:{val_accuracy:.2f}.hdf5\"\n",
        "checkpoint_dir = os.path.dirname(checkpoint_path)\n",
        "\n",
        "# Create a callback that saves the model's weights\n",
        "cp_callback = ModelCheckpoint(checkpoint_path,\n",
        "                              verbose=1,\n",
        "                              monitor='val_accuracy',\n",
        "                              mode='max',\n",
        "                              save_best_only=True,\n",
        "                              save_weights_only=True)\n",
        "\n",
        "log_folder = '/content/drive/MyDrive/Colab Notebooks/Datasets/Part 1'\n",
        "log_path = os.path.join(log_folder, 'FSLR_logs.csv')\n",
        "log_csv = CSVLogger(log_path, separator=',', append=False)\n",
        "\n",
        "callback_list = [cp_callback, log_csv]"
      ],
      "execution_count": 46,
      "outputs": []
    },
    {
      "cell_type": "markdown",
      "metadata": {
        "id": "JkCeD-cFZnow"
      },
      "source": [
        "# Building the model\n",
        "\n",
        "Model #1 to create a new model from scratch.\n",
        "\n",
        "Model #2 to resume the training for when the training is disrupted, stopped or first set of epoch finished. Training can continue in another time."
      ]
    },
    {
      "cell_type": "code",
      "metadata": {
        "id": "RN6hXpnWST83",
        "colab": {
          "base_uri": "https://localhost:8080/"
        },
        "outputId": "4128de76-f12e-45d7-854b-9b4853efcf36"
      },
      "source": [
        "# Count the total classes that the model must know\n",
        "total_classes = len(os.listdir(train_path))\n",
        "print(total_classes)\n",
        "assert len(dataset_classes) == total_classes"
      ],
      "execution_count": 48,
      "outputs": [
        {
          "output_type": "stream",
          "name": "stdout",
          "text": [
            "63\n"
          ]
        }
      ]
    },
    {
      "cell_type": "code",
      "metadata": {
        "id": "NRB3tdInb0nt"
      },
      "source": [
        "batch_size = 200\n",
        "epochs = 10"
      ],
      "execution_count": 49,
      "outputs": []
    },
    {
      "cell_type": "markdown",
      "metadata": {
        "id": "Fd7u-bkBWr_-"
      },
      "source": [
        "## Model #1 New Model\n",
        "Choose only one model."
      ]
    },
    {
      "cell_type": "code",
      "metadata": {
        "id": "Jy2VSh6_TNNF"
      },
      "source": [
        "# Create Model function\n",
        "model = create_model()"
      ],
      "execution_count": 50,
      "outputs": []
    },
    {
      "cell_type": "code",
      "metadata": {
        "colab": {
          "base_uri": "https://localhost:8080/"
        },
        "id": "HlwhyurfYr38",
        "outputId": "207f345c-ab8b-410d-e584-0924e75ae2d0"
      },
      "source": [
        "# Summary of layers\n",
        "model.summary()"
      ],
      "execution_count": 51,
      "outputs": [
        {
          "output_type": "stream",
          "name": "stdout",
          "text": [
            "Model: \"sequential\"\n",
            "_________________________________________________________________\n",
            "Layer (type)                 Output Shape              Param #   \n",
            "=================================================================\n",
            "conv2d (Conv2D)              (None, 80, 80, 64)        640       \n",
            "_________________________________________________________________\n",
            "conv2d_1 (Conv2D)            (None, 80, 80, 128)       73856     \n",
            "_________________________________________________________________\n",
            "conv2d_2 (Conv2D)            (None, 80, 80, 128)       147584    \n",
            "_________________________________________________________________\n",
            "max_pooling2d (MaxPooling2D) (None, 40, 40, 128)       0         \n",
            "_________________________________________________________________\n",
            "conv2d_3 (Conv2D)            (None, 40, 40, 256)       295168    \n",
            "_________________________________________________________________\n",
            "conv2d_4 (Conv2D)            (None, 40, 40, 256)       590080    \n",
            "_________________________________________________________________\n",
            "max_pooling2d_1 (MaxPooling2 (None, 20, 20, 256)       0         \n",
            "_________________________________________________________________\n",
            "flatten (Flatten)            (None, 102400)            0         \n",
            "_________________________________________________________________\n",
            "dense (Dense)                (None, 512)               52429312  \n",
            "_________________________________________________________________\n",
            "dropout (Dropout)            (None, 512)               0         \n",
            "_________________________________________________________________\n",
            "dense_1 (Dense)              (None, 63)                32319     \n",
            "=================================================================\n",
            "Total params: 53,568,959\n",
            "Trainable params: 53,568,959\n",
            "Non-trainable params: 0\n",
            "_________________________________________________________________\n"
          ]
        }
      ]
    },
    {
      "cell_type": "code",
      "metadata": {
        "id": "y-9Pwrm3XRmP"
      },
      "source": [
        "# Compile the layers into one model and create a connection\n",
        "model.compile(loss='categorical_crossentropy', optimizer=keras.optimizers.Adam(), metrics=['accuracy'])"
      ],
      "execution_count": 52,
      "outputs": []
    },
    {
      "cell_type": "code",
      "metadata": {
        "colab": {
          "base_uri": "https://localhost:8080/"
        },
        "id": "kmveCMpvZALZ",
        "outputId": "90ece69f-6af8-4095-de65-c316168f3159"
      },
      "source": [
        "# Train the model with the new callback\n",
        "history = model.fit(x=train_batches,\n",
        "                    validation_data=valid_batches,\n",
        "                    batch_size=batch_size,\n",
        "                    epochs=epochs,\n",
        "                    callbacks=callback_list)"
      ],
      "execution_count": null,
      "outputs": [
        {
          "output_type": "stream",
          "name": "stdout",
          "text": [
            "Epoch 1/10\n",
            "1982/1982 [==============================] - 5333s 3s/step - loss: 4.1250 - accuracy: 0.0152 - val_loss: 4.1326 - val_accuracy: 0.0161\n",
            "\n",
            "Epoch 00001: val_accuracy improved from -inf to 0.01613, saving model to /content/drive/MyDrive/Colab Notebooks/Datasets/Part 1/weights_improvements-epoch:01-val_accuracy:0.02.hdf5\n",
            "Epoch 2/10\n",
            " 207/1982 [==>...........................] - ETA: 1:15:00 - loss: 4.1256 - accuracy: 0.0213"
          ]
        }
      ]
    },
    {
      "cell_type": "markdown",
      "metadata": {
        "id": "QEyNJNGjXDNK"
      },
      "source": [
        "## Model #2 Resume Training\n",
        "Choose only one model"
      ]
    },
    {
      "cell_type": "code",
      "metadata": {
        "id": "FP1FQurxXoIB"
      },
      "source": [
        "# Model configuration\n",
        "new_model_name = '' # must be in this format: 'FSLR_CNN_Model(02-epochs)-accuracy:0.00-val_accuracy:0.00.h5'\n",
        "new_path = '/content/drive/MyDrive/Colab Notebooks/Datasets/CNN Model'\n",
        "new_model_path = os.path.join(new_path, new_model_name)"
      ],
      "execution_count": null,
      "outputs": []
    },
    {
      "cell_type": "code",
      "metadata": {
        "id": "J3WoUl2VW7z-"
      },
      "source": [
        "# Load Model\n",
        "new_model = load_model(new_model_path)"
      ],
      "execution_count": null,
      "outputs": []
    },
    {
      "cell_type": "code",
      "metadata": {
        "id": "co5KkWuMXNLh"
      },
      "source": [
        "# Test model before resuming training\n",
        "print(new_model.evaluate(test_batches, verbose=0))"
      ],
      "execution_count": null,
      "outputs": []
    },
    {
      "cell_type": "code",
      "metadata": {
        "id": "DjeuruZPVAYr"
      },
      "source": [
        "# Create the connection and train the model\n",
        "new_model.fit(x=train_batches,\n",
        "          batch_size=batch_size,\n",
        "          epochs=epochs,\n",
        "          validation_data=valid_batches,\n",
        "          callbacks=callback_list)\n",
        "\n",
        "# Evaluate the model with test_sets\n",
        "print(new_model.evaluate(test_batches))"
      ],
      "execution_count": null,
      "outputs": []
    },
    {
      "cell_type": "code",
      "metadata": {
        "id": "ke9mbWJjavfN"
      },
      "source": [
        "new_model.save(new_model_path)"
      ],
      "execution_count": null,
      "outputs": []
    },
    {
      "cell_type": "markdown",
      "metadata": {
        "id": "3Pf5SEbpSvNa"
      },
      "source": [
        "# Save the model"
      ]
    },
    {
      "cell_type": "code",
      "metadata": {
        "id": "zmUUYWdYP6eb"
      },
      "source": [
        "# Model configurations\n",
        "model_name = 'FSLR_CNN_Model(00-epochs)-accuracy:0.00-val_accuracy:0.00.h5'\n",
        "path = '/content/drive/MyDrive/Colab Notebooks/Datasets/CNN Model'\n",
        "model_path = os.path.join(path, model_name)"
      ],
      "execution_count": null,
      "outputs": []
    },
    {
      "cell_type": "code",
      "metadata": {
        "id": "zFfDwpRfZ-ux"
      },
      "source": [
        "# save the model\n",
        "model.save(model_path)"
      ],
      "execution_count": null,
      "outputs": []
    },
    {
      "cell_type": "markdown",
      "metadata": {
        "id": "rSA5oeG_bGo3"
      },
      "source": [
        "# Confusion Matrix\n",
        "Plot the confusion matrix."
      ]
    },
    {
      "cell_type": "code",
      "metadata": {
        "id": "oBNn_1iWbGPt"
      },
      "source": [
        "# Create a prediction\n",
        "predictions = model.predict(x=test_batches, verbose=0)"
      ],
      "execution_count": null,
      "outputs": []
    },
    {
      "cell_type": "code",
      "metadata": {
        "id": "-xEv2Luobc6f"
      },
      "source": [
        "# Setup the confusion matrix\n",
        "cm = confusion_matrix(y_true=test_batches.classes, y_pred=np.argmax(predictions, axis=-1))"
      ],
      "execution_count": null,
      "outputs": []
    },
    {
      "cell_type": "code",
      "metadata": {
        "id": "qFjaAn6Sben9"
      },
      "source": [
        "# Check class indices\n",
        "test_batches.class_indices"
      ],
      "execution_count": null,
      "outputs": []
    },
    {
      "cell_type": "code",
      "metadata": {
        "id": "Dt7oSiagbgBz"
      },
      "source": [
        "# Plot the confusion matrix\n",
        "cm_plot_labels = total_classes\n",
        "plot_confusion_matrix(cm=cm, classes=cm_plot_labels, title='Confusion Matrix')"
      ],
      "execution_count": null,
      "outputs": []
    },
    {
      "cell_type": "code",
      "metadata": {
        "colab": {
          "base_uri": "https://localhost:8080/"
        },
        "id": "qMJNfxlzc4Z6",
        "outputId": "176e50d8-04c3-4c20-8976-2d479cbf7513"
      },
      "source": [
        "import os\n",
        "from os import listdir\n",
        "from PIL import Image\n",
        "\n",
        "categ = ['Train', 'Valid', 'Test']\n",
        "dataset = '/content/drive/MyDrive/Colab Notebooks/Datasets/FSLR_Application_Dataset'\n",
        "\n",
        "for cat in categ:\n",
        "  img_path = os.path.join(dataset, cat)\n",
        "  for foldername in listdir(img_path):\n",
        "    sign_path = os.path.join(img_path, foldername)\n",
        "    print(sign_path)\n",
        "    for sign in listdir(sign_path):\n",
        "      if sign.endswith('.jpg'):\n",
        "        try:\n",
        "          img = Image.open(os.path.join(sign_path, sign)) # open the image file\n",
        "          img.verify() # verify that it is, in fact an image\n",
        "        except (IOError, SyntaxError, OSError) as e:\n",
        "          print('Bad file:', sign) # print out the names of corrupt files"
      ],
      "execution_count": 55,
      "outputs": [
        {
          "output_type": "stream",
          "name": "stdout",
          "text": [
            "/content/drive/MyDrive/Colab Notebooks/Datasets/FSLR_Application_Dataset/Train/A\n",
            "/content/drive/MyDrive/Colab Notebooks/Datasets/FSLR_Application_Dataset/Train/B\n",
            "/content/drive/MyDrive/Colab Notebooks/Datasets/FSLR_Application_Dataset/Train/C\n",
            "/content/drive/MyDrive/Colab Notebooks/Datasets/FSLR_Application_Dataset/Train/D\n",
            "/content/drive/MyDrive/Colab Notebooks/Datasets/FSLR_Application_Dataset/Train/E\n",
            "/content/drive/MyDrive/Colab Notebooks/Datasets/FSLR_Application_Dataset/Train/F\n",
            "/content/drive/MyDrive/Colab Notebooks/Datasets/FSLR_Application_Dataset/Train/G\n",
            "/content/drive/MyDrive/Colab Notebooks/Datasets/FSLR_Application_Dataset/Train/H\n",
            "/content/drive/MyDrive/Colab Notebooks/Datasets/FSLR_Application_Dataset/Train/I\n",
            "/content/drive/MyDrive/Colab Notebooks/Datasets/FSLR_Application_Dataset/Train/J\n",
            "/content/drive/MyDrive/Colab Notebooks/Datasets/FSLR_Application_Dataset/Train/K\n",
            "/content/drive/MyDrive/Colab Notebooks/Datasets/FSLR_Application_Dataset/Train/L\n",
            "/content/drive/MyDrive/Colab Notebooks/Datasets/FSLR_Application_Dataset/Train/M\n",
            "/content/drive/MyDrive/Colab Notebooks/Datasets/FSLR_Application_Dataset/Train/N\n",
            "/content/drive/MyDrive/Colab Notebooks/Datasets/FSLR_Application_Dataset/Train/O\n",
            "/content/drive/MyDrive/Colab Notebooks/Datasets/FSLR_Application_Dataset/Train/P\n",
            "/content/drive/MyDrive/Colab Notebooks/Datasets/FSLR_Application_Dataset/Train/Q\n",
            "/content/drive/MyDrive/Colab Notebooks/Datasets/FSLR_Application_Dataset/Train/R\n",
            "/content/drive/MyDrive/Colab Notebooks/Datasets/FSLR_Application_Dataset/Train/S\n",
            "/content/drive/MyDrive/Colab Notebooks/Datasets/FSLR_Application_Dataset/Train/T\n",
            "/content/drive/MyDrive/Colab Notebooks/Datasets/FSLR_Application_Dataset/Train/U\n",
            "/content/drive/MyDrive/Colab Notebooks/Datasets/FSLR_Application_Dataset/Train/V\n",
            "/content/drive/MyDrive/Colab Notebooks/Datasets/FSLR_Application_Dataset/Train/W\n",
            "/content/drive/MyDrive/Colab Notebooks/Datasets/FSLR_Application_Dataset/Train/X\n",
            "/content/drive/MyDrive/Colab Notebooks/Datasets/FSLR_Application_Dataset/Train/Y\n",
            "/content/drive/MyDrive/Colab Notebooks/Datasets/FSLR_Application_Dataset/Train/Z\n",
            "/content/drive/MyDrive/Colab Notebooks/Datasets/FSLR_Application_Dataset/Train/Fine\n",
            "/content/drive/MyDrive/Colab Notebooks/Datasets/FSLR_Application_Dataset/Train/Gabi\n",
            "/content/drive/MyDrive/Colab Notebooks/Datasets/FSLR_Application_Dataset/Train/Good\n",
            "/content/drive/MyDrive/Colab Notebooks/Datasets/FSLR_Application_Dataset/Train/Hapon\n",
            "/content/drive/MyDrive/Colab Notebooks/Datasets/FSLR_Application_Dataset/Train/He-She\n",
            "/content/drive/MyDrive/Colab Notebooks/Datasets/FSLR_Application_Dataset/Train/His-Her\n",
            "/content/drive/MyDrive/Colab Notebooks/Datasets/FSLR_Application_Dataset/Train/I Love You\n",
            "/content/drive/MyDrive/Colab Notebooks/Datasets/FSLR_Application_Dataset/Train/I-Me\n",
            "/content/drive/MyDrive/Colab Notebooks/Datasets/FSLR_Application_Dataset/Train/Mine\n",
            "/content/drive/MyDrive/Colab Notebooks/Datasets/FSLR_Application_Dataset/Train/Tanghali\n",
            "/content/drive/MyDrive/Colab Notebooks/Datasets/FSLR_Application_Dataset/Train/Umaga\n",
            "/content/drive/MyDrive/Colab Notebooks/Datasets/FSLR_Application_Dataset/Train/You\n",
            "/content/drive/MyDrive/Colab Notebooks/Datasets/FSLR_Application_Dataset/Train/Your\n",
            "/content/drive/MyDrive/Colab Notebooks/Datasets/FSLR_Application_Dataset/Train/Congratulations\n",
            "/content/drive/MyDrive/Colab Notebooks/Datasets/FSLR_Application_Dataset/Train/Great\n",
            "/content/drive/MyDrive/Colab Notebooks/Datasets/FSLR_Application_Dataset/Train/Help\n",
            "/content/drive/MyDrive/Colab Notebooks/Datasets/FSLR_Application_Dataset/Train/Meet\n",
            "/content/drive/MyDrive/Colab Notebooks/Datasets/FSLR_Application_Dataset/Train/Table\n",
            "/content/drive/MyDrive/Colab Notebooks/Datasets/FSLR_Application_Dataset/Train/Name\n",
            "/content/drive/MyDrive/Colab Notebooks/Datasets/FSLR_Application_Dataset/Train/Occupation\n",
            "/content/drive/MyDrive/Colab Notebooks/Datasets/FSLR_Application_Dataset/Train/Pray\n",
            "/content/drive/MyDrive/Colab Notebooks/Datasets/FSLR_Application_Dataset/Train/Rest\n",
            "/content/drive/MyDrive/Colab Notebooks/Datasets/FSLR_Application_Dataset/Train/Pen\n",
            "/content/drive/MyDrive/Colab Notebooks/Datasets/FSLR_Application_Dataset/Train/Stand\n",
            "/content/drive/MyDrive/Colab Notebooks/Datasets/FSLR_Application_Dataset/Train/Study\n",
            "/content/drive/MyDrive/Colab Notebooks/Datasets/FSLR_Application_Dataset/Train/To\n",
            "/content/drive/MyDrive/Colab Notebooks/Datasets/FSLR_Application_Dataset/Train/Chair\n",
            "/content/drive/MyDrive/Colab Notebooks/Datasets/FSLR_Application_Dataset/Train/Invite\n",
            "/content/drive/MyDrive/Colab Notebooks/Datasets/FSLR_Application_Dataset/Train/Late\n",
            "/content/drive/MyDrive/Colab Notebooks/Datasets/FSLR_Application_Dataset/Train/Late-2\n",
            "/content/drive/MyDrive/Colab Notebooks/Datasets/FSLR_Application_Dataset/Train/No\n",
            "/content/drive/MyDrive/Colab Notebooks/Datasets/FSLR_Application_Dataset/Train/No-2\n",
            "/content/drive/MyDrive/Colab Notebooks/Datasets/FSLR_Application_Dataset/Train/Our\n",
            "/content/drive/MyDrive/Colab Notebooks/Datasets/FSLR_Application_Dataset/Train/Our-2\n",
            "/content/drive/MyDrive/Colab Notebooks/Datasets/FSLR_Application_Dataset/Train/Sorry\n",
            "/content/drive/MyDrive/Colab Notebooks/Datasets/FSLR_Application_Dataset/Train/That\n",
            "/content/drive/MyDrive/Colab Notebooks/Datasets/FSLR_Application_Dataset/Train/Them\n",
            "/content/drive/MyDrive/Colab Notebooks/Datasets/FSLR_Application_Dataset/Train/This\n",
            "/content/drive/MyDrive/Colab Notebooks/Datasets/FSLR_Application_Dataset/Train/We\n",
            "/content/drive/MyDrive/Colab Notebooks/Datasets/FSLR_Application_Dataset/Train/Welcome\n",
            "/content/drive/MyDrive/Colab Notebooks/Datasets/FSLR_Application_Dataset/Train/Welcome-2\n",
            "/content/drive/MyDrive/Colab Notebooks/Datasets/FSLR_Application_Dataset/Train/When\n",
            "/content/drive/MyDrive/Colab Notebooks/Datasets/FSLR_Application_Dataset/Train/Who\n",
            "/content/drive/MyDrive/Colab Notebooks/Datasets/FSLR_Application_Dataset/Train/Who-2\n",
            "/content/drive/MyDrive/Colab Notebooks/Datasets/FSLR_Application_Dataset/Train/Why\n",
            "/content/drive/MyDrive/Colab Notebooks/Datasets/FSLR_Application_Dataset/Train/Why-2\n",
            "/content/drive/MyDrive/Colab Notebooks/Datasets/FSLR_Application_Dataset/Train/Yes\n",
            "/content/drive/MyDrive/Colab Notebooks/Datasets/FSLR_Application_Dataset/Train/Yesterday\n",
            "/content/drive/MyDrive/Colab Notebooks/Datasets/FSLR_Application_Dataset/Train/Ball\n",
            "/content/drive/MyDrive/Colab Notebooks/Datasets/FSLR_Application_Dataset/Train/Banana\n",
            "/content/drive/MyDrive/Colab Notebooks/Datasets/FSLR_Application_Dataset/Train/Banana-2\n",
            "/content/drive/MyDrive/Colab Notebooks/Datasets/FSLR_Application_Dataset/Train/Bread\n",
            "/content/drive/MyDrive/Colab Notebooks/Datasets/FSLR_Application_Dataset/Train/Break\n",
            "/content/drive/MyDrive/Colab Notebooks/Datasets/FSLR_Application_Dataset/Train/Egg\n",
            "/content/drive/MyDrive/Colab Notebooks/Datasets/FSLR_Application_Dataset/Train/Break-2\n",
            "/content/drive/MyDrive/Colab Notebooks/Datasets/FSLR_Application_Dataset/Train/Bring\n",
            "/content/drive/MyDrive/Colab Notebooks/Datasets/FSLR_Application_Dataset/Train/Bring-2\n",
            "/content/drive/MyDrive/Colab Notebooks/Datasets/FSLR_Application_Dataset/Train/Buy\n",
            "/content/drive/MyDrive/Colab Notebooks/Datasets/FSLR_Application_Dataset/Train/Buy-2\n",
            "/content/drive/MyDrive/Colab Notebooks/Datasets/FSLR_Application_Dataset/Train/Bye\n",
            "/content/drive/MyDrive/Colab Notebooks/Datasets/FSLR_Application_Dataset/Train/Coconut\n",
            "/content/drive/MyDrive/Colab Notebooks/Datasets/FSLR_Application_Dataset/Train/Egg-2\n",
            "/content/drive/MyDrive/Colab Notebooks/Datasets/FSLR_Application_Dataset/Train/Coffee\n",
            "/content/drive/MyDrive/Colab Notebooks/Datasets/FSLR_Application_Dataset/Train/Come\n",
            "/content/drive/MyDrive/Colab Notebooks/Datasets/FSLR_Application_Dataset/Train/Come-2\n",
            "/content/drive/MyDrive/Colab Notebooks/Datasets/FSLR_Application_Dataset/Train/Cook\n",
            "/content/drive/MyDrive/Colab Notebooks/Datasets/FSLR_Application_Dataset/Train/From\n",
            "/content/drive/MyDrive/Colab Notebooks/Datasets/FSLR_Application_Dataset/Train/From-2\n",
            "/content/drive/MyDrive/Colab Notebooks/Datasets/FSLR_Application_Dataset/Train/Get\n",
            "/content/drive/MyDrive/Colab Notebooks/Datasets/FSLR_Application_Dataset/Train/Get-2\n",
            "/content/drive/MyDrive/Colab Notebooks/Datasets/FSLR_Application_Dataset/Train/Egg-3\n",
            "/content/drive/MyDrive/Colab Notebooks/Datasets/FSLR_Application_Dataset/Train/Go\n",
            "/content/drive/MyDrive/Colab Notebooks/Datasets/FSLR_Application_Dataset/Train/Go-2\n",
            "/content/drive/MyDrive/Colab Notebooks/Datasets/FSLR_Application_Dataset/Train/Happen\n",
            "/content/drive/MyDrive/Colab Notebooks/Datasets/FSLR_Application_Dataset/Train/Happen-2\n",
            "/content/drive/MyDrive/Colab Notebooks/Datasets/FSLR_Application_Dataset/Train/How\n",
            "/content/drive/MyDrive/Colab Notebooks/Datasets/FSLR_Application_Dataset/Train/How-2\n",
            "/content/drive/MyDrive/Colab Notebooks/Datasets/FSLR_Application_Dataset/Train/Introduce\n",
            "/content/drive/MyDrive/Colab Notebooks/Datasets/FSLR_Application_Dataset/Train/Introduce-2\n",
            "/content/drive/MyDrive/Colab Notebooks/Datasets/FSLR_Application_Dataset/Train/Let\n",
            "/content/drive/MyDrive/Colab Notebooks/Datasets/FSLR_Application_Dataset/Train/Let-2\n",
            "/content/drive/MyDrive/Colab Notebooks/Datasets/FSLR_Application_Dataset/Train/Live\n",
            "/content/drive/MyDrive/Colab Notebooks/Datasets/FSLR_Application_Dataset/Train/Mango\n",
            "/content/drive/MyDrive/Colab Notebooks/Datasets/FSLR_Application_Dataset/Train/Maybe\n",
            "/content/drive/MyDrive/Colab Notebooks/Datasets/FSLR_Application_Dataset/Train/Nice\n",
            "/content/drive/MyDrive/Colab Notebooks/Datasets/FSLR_Application_Dataset/Train/Now\n",
            "/content/drive/MyDrive/Colab Notebooks/Datasets/FSLR_Application_Dataset/Train/Office\n",
            "/content/drive/MyDrive/Colab Notebooks/Datasets/FSLR_Application_Dataset/Train/Office-2\n",
            "/content/drive/MyDrive/Colab Notebooks/Datasets/FSLR_Application_Dataset/Train/School\n",
            "/content/drive/MyDrive/Colab Notebooks/Datasets/FSLR_Application_Dataset/Train/Sit\n",
            "/content/drive/MyDrive/Colab Notebooks/Datasets/FSLR_Application_Dataset/Train/Store\n",
            "/content/drive/MyDrive/Colab Notebooks/Datasets/FSLR_Application_Dataset/Train/Strawberry\n",
            "/content/drive/MyDrive/Colab Notebooks/Datasets/FSLR_Application_Dataset/Train/Thank You\n",
            "/content/drive/MyDrive/Colab Notebooks/Datasets/FSLR_Application_Dataset/Train/Thank You-2\n",
            "/content/drive/MyDrive/Colab Notebooks/Datasets/FSLR_Application_Dataset/Train/Today\n",
            "/content/drive/MyDrive/Colab Notebooks/Datasets/FSLR_Application_Dataset/Train/Today-2\n",
            "/content/drive/MyDrive/Colab Notebooks/Datasets/FSLR_Application_Dataset/Train/What\n",
            "/content/drive/MyDrive/Colab Notebooks/Datasets/FSLR_Application_Dataset/Train/Where\n",
            "/content/drive/MyDrive/Colab Notebooks/Datasets/FSLR_Application_Dataset/Train/Which\n",
            "/content/drive/MyDrive/Colab Notebooks/Datasets/FSLR_Application_Dataset/Train/Work\n",
            "/content/drive/MyDrive/Colab Notebooks/Datasets/FSLR_Application_Dataset/Valid/A\n",
            "/content/drive/MyDrive/Colab Notebooks/Datasets/FSLR_Application_Dataset/Valid/B\n",
            "/content/drive/MyDrive/Colab Notebooks/Datasets/FSLR_Application_Dataset/Valid/C\n",
            "/content/drive/MyDrive/Colab Notebooks/Datasets/FSLR_Application_Dataset/Valid/D\n",
            "/content/drive/MyDrive/Colab Notebooks/Datasets/FSLR_Application_Dataset/Valid/E\n",
            "/content/drive/MyDrive/Colab Notebooks/Datasets/FSLR_Application_Dataset/Valid/F\n",
            "/content/drive/MyDrive/Colab Notebooks/Datasets/FSLR_Application_Dataset/Valid/G\n",
            "/content/drive/MyDrive/Colab Notebooks/Datasets/FSLR_Application_Dataset/Valid/H\n",
            "/content/drive/MyDrive/Colab Notebooks/Datasets/FSLR_Application_Dataset/Valid/I\n",
            "/content/drive/MyDrive/Colab Notebooks/Datasets/FSLR_Application_Dataset/Valid/J\n",
            "/content/drive/MyDrive/Colab Notebooks/Datasets/FSLR_Application_Dataset/Valid/K\n",
            "/content/drive/MyDrive/Colab Notebooks/Datasets/FSLR_Application_Dataset/Valid/L\n",
            "/content/drive/MyDrive/Colab Notebooks/Datasets/FSLR_Application_Dataset/Valid/M\n",
            "/content/drive/MyDrive/Colab Notebooks/Datasets/FSLR_Application_Dataset/Valid/N\n",
            "/content/drive/MyDrive/Colab Notebooks/Datasets/FSLR_Application_Dataset/Valid/O\n",
            "/content/drive/MyDrive/Colab Notebooks/Datasets/FSLR_Application_Dataset/Valid/P\n",
            "/content/drive/MyDrive/Colab Notebooks/Datasets/FSLR_Application_Dataset/Valid/Q\n",
            "/content/drive/MyDrive/Colab Notebooks/Datasets/FSLR_Application_Dataset/Valid/R\n",
            "/content/drive/MyDrive/Colab Notebooks/Datasets/FSLR_Application_Dataset/Valid/S\n",
            "/content/drive/MyDrive/Colab Notebooks/Datasets/FSLR_Application_Dataset/Valid/T\n",
            "/content/drive/MyDrive/Colab Notebooks/Datasets/FSLR_Application_Dataset/Valid/U\n",
            "/content/drive/MyDrive/Colab Notebooks/Datasets/FSLR_Application_Dataset/Valid/V\n",
            "/content/drive/MyDrive/Colab Notebooks/Datasets/FSLR_Application_Dataset/Valid/W\n",
            "/content/drive/MyDrive/Colab Notebooks/Datasets/FSLR_Application_Dataset/Valid/X\n",
            "/content/drive/MyDrive/Colab Notebooks/Datasets/FSLR_Application_Dataset/Valid/Y\n",
            "/content/drive/MyDrive/Colab Notebooks/Datasets/FSLR_Application_Dataset/Valid/Z\n",
            "/content/drive/MyDrive/Colab Notebooks/Datasets/FSLR_Application_Dataset/Valid/Fine\n",
            "/content/drive/MyDrive/Colab Notebooks/Datasets/FSLR_Application_Dataset/Valid/Gabi\n",
            "/content/drive/MyDrive/Colab Notebooks/Datasets/FSLR_Application_Dataset/Valid/Good\n",
            "/content/drive/MyDrive/Colab Notebooks/Datasets/FSLR_Application_Dataset/Valid/Hapon\n",
            "/content/drive/MyDrive/Colab Notebooks/Datasets/FSLR_Application_Dataset/Valid/He-She\n",
            "/content/drive/MyDrive/Colab Notebooks/Datasets/FSLR_Application_Dataset/Valid/His-Her\n",
            "/content/drive/MyDrive/Colab Notebooks/Datasets/FSLR_Application_Dataset/Valid/I Love You\n",
            "/content/drive/MyDrive/Colab Notebooks/Datasets/FSLR_Application_Dataset/Valid/I-Me\n",
            "/content/drive/MyDrive/Colab Notebooks/Datasets/FSLR_Application_Dataset/Valid/Mine\n",
            "/content/drive/MyDrive/Colab Notebooks/Datasets/FSLR_Application_Dataset/Valid/Tanghali\n",
            "/content/drive/MyDrive/Colab Notebooks/Datasets/FSLR_Application_Dataset/Valid/Umaga\n",
            "/content/drive/MyDrive/Colab Notebooks/Datasets/FSLR_Application_Dataset/Valid/You\n",
            "/content/drive/MyDrive/Colab Notebooks/Datasets/FSLR_Application_Dataset/Valid/Your\n",
            "/content/drive/MyDrive/Colab Notebooks/Datasets/FSLR_Application_Dataset/Valid/Congratulations\n",
            "/content/drive/MyDrive/Colab Notebooks/Datasets/FSLR_Application_Dataset/Valid/Great\n",
            "/content/drive/MyDrive/Colab Notebooks/Datasets/FSLR_Application_Dataset/Valid/Help\n",
            "/content/drive/MyDrive/Colab Notebooks/Datasets/FSLR_Application_Dataset/Valid/Meet\n",
            "/content/drive/MyDrive/Colab Notebooks/Datasets/FSLR_Application_Dataset/Valid/Table\n",
            "/content/drive/MyDrive/Colab Notebooks/Datasets/FSLR_Application_Dataset/Valid/Name\n",
            "/content/drive/MyDrive/Colab Notebooks/Datasets/FSLR_Application_Dataset/Valid/Occupation\n",
            "/content/drive/MyDrive/Colab Notebooks/Datasets/FSLR_Application_Dataset/Valid/Pray\n",
            "/content/drive/MyDrive/Colab Notebooks/Datasets/FSLR_Application_Dataset/Valid/Rest\n",
            "/content/drive/MyDrive/Colab Notebooks/Datasets/FSLR_Application_Dataset/Valid/Pen\n",
            "/content/drive/MyDrive/Colab Notebooks/Datasets/FSLR_Application_Dataset/Valid/Stand\n",
            "/content/drive/MyDrive/Colab Notebooks/Datasets/FSLR_Application_Dataset/Valid/Study\n",
            "/content/drive/MyDrive/Colab Notebooks/Datasets/FSLR_Application_Dataset/Valid/To\n",
            "/content/drive/MyDrive/Colab Notebooks/Datasets/FSLR_Application_Dataset/Valid/Chair\n",
            "/content/drive/MyDrive/Colab Notebooks/Datasets/FSLR_Application_Dataset/Valid/Invite\n",
            "/content/drive/MyDrive/Colab Notebooks/Datasets/FSLR_Application_Dataset/Valid/Late\n",
            "/content/drive/MyDrive/Colab Notebooks/Datasets/FSLR_Application_Dataset/Valid/Late-2\n",
            "/content/drive/MyDrive/Colab Notebooks/Datasets/FSLR_Application_Dataset/Valid/No\n",
            "/content/drive/MyDrive/Colab Notebooks/Datasets/FSLR_Application_Dataset/Valid/No-2\n",
            "/content/drive/MyDrive/Colab Notebooks/Datasets/FSLR_Application_Dataset/Valid/Our\n",
            "/content/drive/MyDrive/Colab Notebooks/Datasets/FSLR_Application_Dataset/Valid/Our-2\n",
            "/content/drive/MyDrive/Colab Notebooks/Datasets/FSLR_Application_Dataset/Valid/Sorry\n",
            "/content/drive/MyDrive/Colab Notebooks/Datasets/FSLR_Application_Dataset/Valid/That\n",
            "/content/drive/MyDrive/Colab Notebooks/Datasets/FSLR_Application_Dataset/Valid/Them\n",
            "/content/drive/MyDrive/Colab Notebooks/Datasets/FSLR_Application_Dataset/Valid/This\n",
            "/content/drive/MyDrive/Colab Notebooks/Datasets/FSLR_Application_Dataset/Valid/We\n",
            "/content/drive/MyDrive/Colab Notebooks/Datasets/FSLR_Application_Dataset/Valid/Welcome\n",
            "/content/drive/MyDrive/Colab Notebooks/Datasets/FSLR_Application_Dataset/Valid/Welcome-2\n",
            "/content/drive/MyDrive/Colab Notebooks/Datasets/FSLR_Application_Dataset/Valid/When\n",
            "/content/drive/MyDrive/Colab Notebooks/Datasets/FSLR_Application_Dataset/Valid/Who\n",
            "/content/drive/MyDrive/Colab Notebooks/Datasets/FSLR_Application_Dataset/Valid/Who-2\n",
            "/content/drive/MyDrive/Colab Notebooks/Datasets/FSLR_Application_Dataset/Valid/Why\n",
            "/content/drive/MyDrive/Colab Notebooks/Datasets/FSLR_Application_Dataset/Valid/Why-2\n",
            "/content/drive/MyDrive/Colab Notebooks/Datasets/FSLR_Application_Dataset/Valid/Yes\n",
            "/content/drive/MyDrive/Colab Notebooks/Datasets/FSLR_Application_Dataset/Valid/Yesterday\n",
            "/content/drive/MyDrive/Colab Notebooks/Datasets/FSLR_Application_Dataset/Valid/Ball\n",
            "/content/drive/MyDrive/Colab Notebooks/Datasets/FSLR_Application_Dataset/Valid/Banana\n",
            "/content/drive/MyDrive/Colab Notebooks/Datasets/FSLR_Application_Dataset/Valid/Banana-2\n",
            "/content/drive/MyDrive/Colab Notebooks/Datasets/FSLR_Application_Dataset/Valid/Bread\n",
            "/content/drive/MyDrive/Colab Notebooks/Datasets/FSLR_Application_Dataset/Valid/Break\n",
            "/content/drive/MyDrive/Colab Notebooks/Datasets/FSLR_Application_Dataset/Valid/Egg\n",
            "/content/drive/MyDrive/Colab Notebooks/Datasets/FSLR_Application_Dataset/Valid/Break-2\n",
            "/content/drive/MyDrive/Colab Notebooks/Datasets/FSLR_Application_Dataset/Valid/Bring\n",
            "/content/drive/MyDrive/Colab Notebooks/Datasets/FSLR_Application_Dataset/Valid/Bring-2\n",
            "/content/drive/MyDrive/Colab Notebooks/Datasets/FSLR_Application_Dataset/Valid/Buy\n",
            "/content/drive/MyDrive/Colab Notebooks/Datasets/FSLR_Application_Dataset/Valid/Buy-2\n",
            "/content/drive/MyDrive/Colab Notebooks/Datasets/FSLR_Application_Dataset/Valid/Bye\n",
            "/content/drive/MyDrive/Colab Notebooks/Datasets/FSLR_Application_Dataset/Valid/Coconut\n",
            "/content/drive/MyDrive/Colab Notebooks/Datasets/FSLR_Application_Dataset/Valid/Egg-2\n",
            "/content/drive/MyDrive/Colab Notebooks/Datasets/FSLR_Application_Dataset/Valid/Coffee\n",
            "/content/drive/MyDrive/Colab Notebooks/Datasets/FSLR_Application_Dataset/Valid/Come\n",
            "/content/drive/MyDrive/Colab Notebooks/Datasets/FSLR_Application_Dataset/Valid/Come-2\n",
            "/content/drive/MyDrive/Colab Notebooks/Datasets/FSLR_Application_Dataset/Valid/Cook\n",
            "/content/drive/MyDrive/Colab Notebooks/Datasets/FSLR_Application_Dataset/Valid/From\n",
            "/content/drive/MyDrive/Colab Notebooks/Datasets/FSLR_Application_Dataset/Valid/From-2\n",
            "/content/drive/MyDrive/Colab Notebooks/Datasets/FSLR_Application_Dataset/Valid/Get\n",
            "/content/drive/MyDrive/Colab Notebooks/Datasets/FSLR_Application_Dataset/Valid/Get-2\n",
            "/content/drive/MyDrive/Colab Notebooks/Datasets/FSLR_Application_Dataset/Valid/Egg-3\n",
            "/content/drive/MyDrive/Colab Notebooks/Datasets/FSLR_Application_Dataset/Valid/Go\n",
            "/content/drive/MyDrive/Colab Notebooks/Datasets/FSLR_Application_Dataset/Valid/Go-2\n",
            "/content/drive/MyDrive/Colab Notebooks/Datasets/FSLR_Application_Dataset/Valid/Happen\n",
            "/content/drive/MyDrive/Colab Notebooks/Datasets/FSLR_Application_Dataset/Valid/Happen-2\n",
            "/content/drive/MyDrive/Colab Notebooks/Datasets/FSLR_Application_Dataset/Valid/How\n",
            "/content/drive/MyDrive/Colab Notebooks/Datasets/FSLR_Application_Dataset/Valid/How-2\n",
            "/content/drive/MyDrive/Colab Notebooks/Datasets/FSLR_Application_Dataset/Valid/Introduce\n",
            "/content/drive/MyDrive/Colab Notebooks/Datasets/FSLR_Application_Dataset/Valid/Introduce-2\n",
            "/content/drive/MyDrive/Colab Notebooks/Datasets/FSLR_Application_Dataset/Valid/Let\n",
            "/content/drive/MyDrive/Colab Notebooks/Datasets/FSLR_Application_Dataset/Valid/Let-2\n",
            "/content/drive/MyDrive/Colab Notebooks/Datasets/FSLR_Application_Dataset/Valid/Live\n",
            "/content/drive/MyDrive/Colab Notebooks/Datasets/FSLR_Application_Dataset/Valid/Mango\n",
            "/content/drive/MyDrive/Colab Notebooks/Datasets/FSLR_Application_Dataset/Valid/Maybe\n",
            "/content/drive/MyDrive/Colab Notebooks/Datasets/FSLR_Application_Dataset/Valid/Nice\n",
            "/content/drive/MyDrive/Colab Notebooks/Datasets/FSLR_Application_Dataset/Valid/Now\n",
            "/content/drive/MyDrive/Colab Notebooks/Datasets/FSLR_Application_Dataset/Valid/Office\n",
            "/content/drive/MyDrive/Colab Notebooks/Datasets/FSLR_Application_Dataset/Valid/Office-2\n",
            "/content/drive/MyDrive/Colab Notebooks/Datasets/FSLR_Application_Dataset/Valid/School\n",
            "/content/drive/MyDrive/Colab Notebooks/Datasets/FSLR_Application_Dataset/Valid/Sit\n",
            "/content/drive/MyDrive/Colab Notebooks/Datasets/FSLR_Application_Dataset/Valid/Store\n",
            "/content/drive/MyDrive/Colab Notebooks/Datasets/FSLR_Application_Dataset/Valid/Strawberry\n",
            "/content/drive/MyDrive/Colab Notebooks/Datasets/FSLR_Application_Dataset/Valid/Thank You\n",
            "/content/drive/MyDrive/Colab Notebooks/Datasets/FSLR_Application_Dataset/Valid/Thank You-2\n",
            "/content/drive/MyDrive/Colab Notebooks/Datasets/FSLR_Application_Dataset/Valid/Today\n",
            "/content/drive/MyDrive/Colab Notebooks/Datasets/FSLR_Application_Dataset/Valid/Today-2\n",
            "/content/drive/MyDrive/Colab Notebooks/Datasets/FSLR_Application_Dataset/Valid/What\n",
            "/content/drive/MyDrive/Colab Notebooks/Datasets/FSLR_Application_Dataset/Valid/Where\n",
            "/content/drive/MyDrive/Colab Notebooks/Datasets/FSLR_Application_Dataset/Valid/Which\n",
            "/content/drive/MyDrive/Colab Notebooks/Datasets/FSLR_Application_Dataset/Valid/Work\n",
            "/content/drive/MyDrive/Colab Notebooks/Datasets/FSLR_Application_Dataset/Test/A\n",
            "/content/drive/MyDrive/Colab Notebooks/Datasets/FSLR_Application_Dataset/Test/B\n",
            "/content/drive/MyDrive/Colab Notebooks/Datasets/FSLR_Application_Dataset/Test/C\n",
            "/content/drive/MyDrive/Colab Notebooks/Datasets/FSLR_Application_Dataset/Test/D\n",
            "/content/drive/MyDrive/Colab Notebooks/Datasets/FSLR_Application_Dataset/Test/E\n",
            "/content/drive/MyDrive/Colab Notebooks/Datasets/FSLR_Application_Dataset/Test/F\n",
            "/content/drive/MyDrive/Colab Notebooks/Datasets/FSLR_Application_Dataset/Test/G\n",
            "/content/drive/MyDrive/Colab Notebooks/Datasets/FSLR_Application_Dataset/Test/H\n",
            "/content/drive/MyDrive/Colab Notebooks/Datasets/FSLR_Application_Dataset/Test/I\n",
            "/content/drive/MyDrive/Colab Notebooks/Datasets/FSLR_Application_Dataset/Test/J\n",
            "/content/drive/MyDrive/Colab Notebooks/Datasets/FSLR_Application_Dataset/Test/K\n",
            "/content/drive/MyDrive/Colab Notebooks/Datasets/FSLR_Application_Dataset/Test/L\n",
            "/content/drive/MyDrive/Colab Notebooks/Datasets/FSLR_Application_Dataset/Test/M\n",
            "/content/drive/MyDrive/Colab Notebooks/Datasets/FSLR_Application_Dataset/Test/N\n",
            "/content/drive/MyDrive/Colab Notebooks/Datasets/FSLR_Application_Dataset/Test/O\n",
            "/content/drive/MyDrive/Colab Notebooks/Datasets/FSLR_Application_Dataset/Test/P\n",
            "/content/drive/MyDrive/Colab Notebooks/Datasets/FSLR_Application_Dataset/Test/Q\n",
            "/content/drive/MyDrive/Colab Notebooks/Datasets/FSLR_Application_Dataset/Test/R\n",
            "/content/drive/MyDrive/Colab Notebooks/Datasets/FSLR_Application_Dataset/Test/S\n",
            "/content/drive/MyDrive/Colab Notebooks/Datasets/FSLR_Application_Dataset/Test/T\n",
            "/content/drive/MyDrive/Colab Notebooks/Datasets/FSLR_Application_Dataset/Test/U\n",
            "/content/drive/MyDrive/Colab Notebooks/Datasets/FSLR_Application_Dataset/Test/V\n",
            "/content/drive/MyDrive/Colab Notebooks/Datasets/FSLR_Application_Dataset/Test/W\n",
            "/content/drive/MyDrive/Colab Notebooks/Datasets/FSLR_Application_Dataset/Test/X\n",
            "/content/drive/MyDrive/Colab Notebooks/Datasets/FSLR_Application_Dataset/Test/Y\n",
            "/content/drive/MyDrive/Colab Notebooks/Datasets/FSLR_Application_Dataset/Test/Z\n",
            "/content/drive/MyDrive/Colab Notebooks/Datasets/FSLR_Application_Dataset/Test/Fine\n",
            "/content/drive/MyDrive/Colab Notebooks/Datasets/FSLR_Application_Dataset/Test/Gabi\n",
            "/content/drive/MyDrive/Colab Notebooks/Datasets/FSLR_Application_Dataset/Test/Good\n",
            "/content/drive/MyDrive/Colab Notebooks/Datasets/FSLR_Application_Dataset/Test/Hapon\n",
            "/content/drive/MyDrive/Colab Notebooks/Datasets/FSLR_Application_Dataset/Test/He-She\n",
            "/content/drive/MyDrive/Colab Notebooks/Datasets/FSLR_Application_Dataset/Test/His-Her\n",
            "/content/drive/MyDrive/Colab Notebooks/Datasets/FSLR_Application_Dataset/Test/I Love You\n",
            "/content/drive/MyDrive/Colab Notebooks/Datasets/FSLR_Application_Dataset/Test/I-Me\n",
            "/content/drive/MyDrive/Colab Notebooks/Datasets/FSLR_Application_Dataset/Test/Mine\n",
            "/content/drive/MyDrive/Colab Notebooks/Datasets/FSLR_Application_Dataset/Test/Tanghali\n",
            "/content/drive/MyDrive/Colab Notebooks/Datasets/FSLR_Application_Dataset/Test/Umaga\n",
            "/content/drive/MyDrive/Colab Notebooks/Datasets/FSLR_Application_Dataset/Test/You\n",
            "/content/drive/MyDrive/Colab Notebooks/Datasets/FSLR_Application_Dataset/Test/Your\n",
            "/content/drive/MyDrive/Colab Notebooks/Datasets/FSLR_Application_Dataset/Test/Congratulations\n",
            "/content/drive/MyDrive/Colab Notebooks/Datasets/FSLR_Application_Dataset/Test/Great\n",
            "/content/drive/MyDrive/Colab Notebooks/Datasets/FSLR_Application_Dataset/Test/Help\n",
            "/content/drive/MyDrive/Colab Notebooks/Datasets/FSLR_Application_Dataset/Test/Meet\n",
            "/content/drive/MyDrive/Colab Notebooks/Datasets/FSLR_Application_Dataset/Test/Table\n",
            "/content/drive/MyDrive/Colab Notebooks/Datasets/FSLR_Application_Dataset/Test/Name\n",
            "/content/drive/MyDrive/Colab Notebooks/Datasets/FSLR_Application_Dataset/Test/Occupation\n",
            "/content/drive/MyDrive/Colab Notebooks/Datasets/FSLR_Application_Dataset/Test/Pray\n",
            "/content/drive/MyDrive/Colab Notebooks/Datasets/FSLR_Application_Dataset/Test/Rest\n",
            "/content/drive/MyDrive/Colab Notebooks/Datasets/FSLR_Application_Dataset/Test/Pen\n",
            "/content/drive/MyDrive/Colab Notebooks/Datasets/FSLR_Application_Dataset/Test/Stand\n",
            "/content/drive/MyDrive/Colab Notebooks/Datasets/FSLR_Application_Dataset/Test/Study\n",
            "/content/drive/MyDrive/Colab Notebooks/Datasets/FSLR_Application_Dataset/Test/To\n",
            "/content/drive/MyDrive/Colab Notebooks/Datasets/FSLR_Application_Dataset/Test/Chair\n",
            "/content/drive/MyDrive/Colab Notebooks/Datasets/FSLR_Application_Dataset/Test/Invite\n",
            "/content/drive/MyDrive/Colab Notebooks/Datasets/FSLR_Application_Dataset/Test/Late\n",
            "/content/drive/MyDrive/Colab Notebooks/Datasets/FSLR_Application_Dataset/Test/Late-2\n",
            "/content/drive/MyDrive/Colab Notebooks/Datasets/FSLR_Application_Dataset/Test/No\n",
            "/content/drive/MyDrive/Colab Notebooks/Datasets/FSLR_Application_Dataset/Test/No-2\n",
            "/content/drive/MyDrive/Colab Notebooks/Datasets/FSLR_Application_Dataset/Test/Our\n",
            "/content/drive/MyDrive/Colab Notebooks/Datasets/FSLR_Application_Dataset/Test/Our-2\n",
            "/content/drive/MyDrive/Colab Notebooks/Datasets/FSLR_Application_Dataset/Test/Sorry\n",
            "/content/drive/MyDrive/Colab Notebooks/Datasets/FSLR_Application_Dataset/Test/That\n",
            "/content/drive/MyDrive/Colab Notebooks/Datasets/FSLR_Application_Dataset/Test/Them\n",
            "/content/drive/MyDrive/Colab Notebooks/Datasets/FSLR_Application_Dataset/Test/This\n",
            "/content/drive/MyDrive/Colab Notebooks/Datasets/FSLR_Application_Dataset/Test/We\n",
            "/content/drive/MyDrive/Colab Notebooks/Datasets/FSLR_Application_Dataset/Test/Welcome\n",
            "/content/drive/MyDrive/Colab Notebooks/Datasets/FSLR_Application_Dataset/Test/Welcome-2\n",
            "/content/drive/MyDrive/Colab Notebooks/Datasets/FSLR_Application_Dataset/Test/When\n",
            "/content/drive/MyDrive/Colab Notebooks/Datasets/FSLR_Application_Dataset/Test/Who\n",
            "/content/drive/MyDrive/Colab Notebooks/Datasets/FSLR_Application_Dataset/Test/Who-2\n",
            "/content/drive/MyDrive/Colab Notebooks/Datasets/FSLR_Application_Dataset/Test/Why\n",
            "/content/drive/MyDrive/Colab Notebooks/Datasets/FSLR_Application_Dataset/Test/Why-2\n",
            "/content/drive/MyDrive/Colab Notebooks/Datasets/FSLR_Application_Dataset/Test/Yes\n",
            "/content/drive/MyDrive/Colab Notebooks/Datasets/FSLR_Application_Dataset/Test/Yesterday\n",
            "/content/drive/MyDrive/Colab Notebooks/Datasets/FSLR_Application_Dataset/Test/Ball\n",
            "/content/drive/MyDrive/Colab Notebooks/Datasets/FSLR_Application_Dataset/Test/Banana\n",
            "/content/drive/MyDrive/Colab Notebooks/Datasets/FSLR_Application_Dataset/Test/Banana-2\n",
            "/content/drive/MyDrive/Colab Notebooks/Datasets/FSLR_Application_Dataset/Test/Bread\n",
            "/content/drive/MyDrive/Colab Notebooks/Datasets/FSLR_Application_Dataset/Test/Break\n",
            "/content/drive/MyDrive/Colab Notebooks/Datasets/FSLR_Application_Dataset/Test/Egg\n",
            "/content/drive/MyDrive/Colab Notebooks/Datasets/FSLR_Application_Dataset/Test/Break-2\n",
            "/content/drive/MyDrive/Colab Notebooks/Datasets/FSLR_Application_Dataset/Test/Bring\n",
            "/content/drive/MyDrive/Colab Notebooks/Datasets/FSLR_Application_Dataset/Test/Bring-2\n",
            "/content/drive/MyDrive/Colab Notebooks/Datasets/FSLR_Application_Dataset/Test/Buy\n",
            "/content/drive/MyDrive/Colab Notebooks/Datasets/FSLR_Application_Dataset/Test/Buy-2\n",
            "/content/drive/MyDrive/Colab Notebooks/Datasets/FSLR_Application_Dataset/Test/Bye\n",
            "/content/drive/MyDrive/Colab Notebooks/Datasets/FSLR_Application_Dataset/Test/Coconut\n",
            "/content/drive/MyDrive/Colab Notebooks/Datasets/FSLR_Application_Dataset/Test/Egg-2\n",
            "/content/drive/MyDrive/Colab Notebooks/Datasets/FSLR_Application_Dataset/Test/Coffee\n",
            "/content/drive/MyDrive/Colab Notebooks/Datasets/FSLR_Application_Dataset/Test/Come\n",
            "/content/drive/MyDrive/Colab Notebooks/Datasets/FSLR_Application_Dataset/Test/Come-2\n",
            "/content/drive/MyDrive/Colab Notebooks/Datasets/FSLR_Application_Dataset/Test/Cook\n",
            "/content/drive/MyDrive/Colab Notebooks/Datasets/FSLR_Application_Dataset/Test/From\n",
            "/content/drive/MyDrive/Colab Notebooks/Datasets/FSLR_Application_Dataset/Test/From-2\n",
            "/content/drive/MyDrive/Colab Notebooks/Datasets/FSLR_Application_Dataset/Test/Get\n",
            "/content/drive/MyDrive/Colab Notebooks/Datasets/FSLR_Application_Dataset/Test/Get-2\n",
            "/content/drive/MyDrive/Colab Notebooks/Datasets/FSLR_Application_Dataset/Test/Egg-3\n",
            "/content/drive/MyDrive/Colab Notebooks/Datasets/FSLR_Application_Dataset/Test/Go\n",
            "/content/drive/MyDrive/Colab Notebooks/Datasets/FSLR_Application_Dataset/Test/Go-2\n",
            "/content/drive/MyDrive/Colab Notebooks/Datasets/FSLR_Application_Dataset/Test/Happen\n",
            "/content/drive/MyDrive/Colab Notebooks/Datasets/FSLR_Application_Dataset/Test/Happen-2\n",
            "/content/drive/MyDrive/Colab Notebooks/Datasets/FSLR_Application_Dataset/Test/How\n",
            "/content/drive/MyDrive/Colab Notebooks/Datasets/FSLR_Application_Dataset/Test/How-2\n",
            "/content/drive/MyDrive/Colab Notebooks/Datasets/FSLR_Application_Dataset/Test/Introduce\n",
            "/content/drive/MyDrive/Colab Notebooks/Datasets/FSLR_Application_Dataset/Test/Introduce-2\n",
            "/content/drive/MyDrive/Colab Notebooks/Datasets/FSLR_Application_Dataset/Test/Let\n",
            "/content/drive/MyDrive/Colab Notebooks/Datasets/FSLR_Application_Dataset/Test/Let-2\n",
            "/content/drive/MyDrive/Colab Notebooks/Datasets/FSLR_Application_Dataset/Test/Live\n",
            "/content/drive/MyDrive/Colab Notebooks/Datasets/FSLR_Application_Dataset/Test/Mango\n",
            "/content/drive/MyDrive/Colab Notebooks/Datasets/FSLR_Application_Dataset/Test/Maybe\n",
            "/content/drive/MyDrive/Colab Notebooks/Datasets/FSLR_Application_Dataset/Test/Nice\n",
            "/content/drive/MyDrive/Colab Notebooks/Datasets/FSLR_Application_Dataset/Test/Now\n",
            "/content/drive/MyDrive/Colab Notebooks/Datasets/FSLR_Application_Dataset/Test/Office\n",
            "/content/drive/MyDrive/Colab Notebooks/Datasets/FSLR_Application_Dataset/Test/Office-2\n",
            "/content/drive/MyDrive/Colab Notebooks/Datasets/FSLR_Application_Dataset/Test/School\n",
            "/content/drive/MyDrive/Colab Notebooks/Datasets/FSLR_Application_Dataset/Test/Sit\n",
            "/content/drive/MyDrive/Colab Notebooks/Datasets/FSLR_Application_Dataset/Test/Store\n",
            "/content/drive/MyDrive/Colab Notebooks/Datasets/FSLR_Application_Dataset/Test/Strawberry\n",
            "/content/drive/MyDrive/Colab Notebooks/Datasets/FSLR_Application_Dataset/Test/Thank You\n",
            "/content/drive/MyDrive/Colab Notebooks/Datasets/FSLR_Application_Dataset/Test/Thank You-2\n",
            "/content/drive/MyDrive/Colab Notebooks/Datasets/FSLR_Application_Dataset/Test/Today\n",
            "/content/drive/MyDrive/Colab Notebooks/Datasets/FSLR_Application_Dataset/Test/Today-2\n",
            "/content/drive/MyDrive/Colab Notebooks/Datasets/FSLR_Application_Dataset/Test/What\n",
            "/content/drive/MyDrive/Colab Notebooks/Datasets/FSLR_Application_Dataset/Test/Where\n",
            "/content/drive/MyDrive/Colab Notebooks/Datasets/FSLR_Application_Dataset/Test/Which\n",
            "/content/drive/MyDrive/Colab Notebooks/Datasets/FSLR_Application_Dataset/Test/Work\n"
          ]
        }
      ]
    }
  ]
}