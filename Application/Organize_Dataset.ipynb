{
  "nbformat": 4,
  "nbformat_minor": 0,
  "metadata": {
    "colab": {
      "name": "Organize_Dataset.ipynb",
      "provenance": [],
      "collapsed_sections": [],
      "mount_file_id": "1mk1ohG5EfjyUm7L6jNiMIvHXx4dD4Dt9",
      "authorship_tag": "ABX9TyPJdh0cwMG+8Ibx1pm/2j9g",
      "include_colab_link": true
    },
    "kernelspec": {
      "name": "python3",
      "display_name": "Python 3"
    },
    "language_info": {
      "name": "python"
    }
  },
  "cells": [
    {
      "cell_type": "markdown",
      "metadata": {
        "id": "view-in-github",
        "colab_type": "text"
      },
      "source": [
        "<a href=\"https://colab.research.google.com/github/Lorddickenstein/FSLRwithNLP/blob/main/Application/Organize_Dataset.ipynb\" target=\"_parent\"><img src=\"https://colab.research.google.com/assets/colab-badge.svg\" alt=\"Open In Colab\"/></a>"
      ]
    },
    {
      "cell_type": "markdown",
      "metadata": {
        "id": "fWrur4A0K__v"
      },
      "source": [
        "# Rename the dataset\n",
        "This program will organize the dataset from the Raw_Dataset folder in Colab Notebooks/Datasets/OurDataset/Raw_Dataset and put them in the Experiment folder in Colab Notebooks/Datgasets/OurDataset/Raw_Dataset_Renamed.\n",
        "\n",
        "The program will copy all the files extracting only the located hand images, resizing the images into 224x224, and renaming the images to their class name."
      ]
    },
    {
      "cell_type": "code",
      "metadata": {
        "colab": {
          "base_uri": "https://localhost:8080/"
        },
        "id": "ymPLd1wHPucX",
        "outputId": "6dfae25f-d2fa-4d1d-a8e4-479db53674d6"
      },
      "source": [
        "!pip install mediapipe"
      ],
      "execution_count": 1,
      "outputs": [
        {
          "output_type": "stream",
          "name": "stdout",
          "text": [
            "Collecting mediapipe\n",
            "  Downloading mediapipe-0.8.8-cp37-cp37m-manylinux_2_17_x86_64.manylinux2014_x86_64.whl (30.1 MB)\n",
            "\u001b[K     |████████████████████████████████| 30.1 MB 12 kB/s \n",
            "\u001b[?25hRequirement already satisfied: protobuf>=3.11.4 in /usr/local/lib/python3.7/dist-packages (from mediapipe) (3.17.3)\n",
            "Requirement already satisfied: six in /usr/local/lib/python3.7/dist-packages (from mediapipe) (1.15.0)\n",
            "Requirement already satisfied: attrs>=19.1.0 in /usr/local/lib/python3.7/dist-packages (from mediapipe) (21.2.0)\n",
            "Requirement already satisfied: numpy in /usr/local/lib/python3.7/dist-packages (from mediapipe) (1.19.5)\n",
            "Requirement already satisfied: opencv-contrib-python in /usr/local/lib/python3.7/dist-packages (from mediapipe) (4.1.2.30)\n",
            "Requirement already satisfied: absl-py in /usr/local/lib/python3.7/dist-packages (from mediapipe) (0.12.0)\n",
            "Requirement already satisfied: wheel in /usr/local/lib/python3.7/dist-packages (from mediapipe) (0.37.0)\n",
            "Requirement already satisfied: matplotlib in /usr/local/lib/python3.7/dist-packages (from mediapipe) (3.2.2)\n",
            "Requirement already satisfied: python-dateutil>=2.1 in /usr/local/lib/python3.7/dist-packages (from matplotlib->mediapipe) (2.8.2)\n",
            "Requirement already satisfied: pyparsing!=2.0.4,!=2.1.2,!=2.1.6,>=2.0.1 in /usr/local/lib/python3.7/dist-packages (from matplotlib->mediapipe) (2.4.7)\n",
            "Requirement already satisfied: kiwisolver>=1.0.1 in /usr/local/lib/python3.7/dist-packages (from matplotlib->mediapipe) (1.3.2)\n",
            "Requirement already satisfied: cycler>=0.10 in /usr/local/lib/python3.7/dist-packages (from matplotlib->mediapipe) (0.10.0)\n",
            "Installing collected packages: mediapipe\n",
            "Successfully installed mediapipe-0.8.8\n"
          ]
        }
      ]
    },
    {
      "cell_type": "code",
      "metadata": {
        "id": "1OBiLqzyK9G4"
      },
      "source": [
        "import os\n",
        "import cv2\n",
        "import mediapipe as mp"
      ],
      "execution_count": 2,
      "outputs": []
    },
    {
      "cell_type": "code",
      "metadata": {
        "id": "v0W0HK4ALIVa"
      },
      "source": [
        "dataset_raw = '/content/drive/MyDrive/Colab Notebooks/Datasets/OurDataset/Raw_Dataset'\n",
        "dataset_raw_renamed = '/content/drive/MyDrive/Colab Notebooks/Datasets/OurDataset/Raw_Dataset_Renamed'\n"
      ],
      "execution_count": 4,
      "outputs": []
    },
    {
      "cell_type": "code",
      "metadata": {
        "id": "1_P0cYo7L3Ae"
      },
      "source": [
        "letters = ['A', 'B', 'C', 'D', 'E',\n",
        "           'F', 'G', 'H', 'I', 'J',\n",
        "           'K', 'L', 'M', 'N', 'O',\n",
        "           'P', 'Q', 'R', 'S', 'T',\n",
        "           'U', 'V', 'W', 'X', 'Y',\n",
        "           'Z']\n",
        "numbers = ['1', '2', '3', '4', '5', '6', '7', '8', '9']"
      ],
      "execution_count": 5,
      "outputs": []
    },
    {
      "cell_type": "code",
      "metadata": {
        "id": "jjLNwbw_P_Cm"
      },
      "source": [
        "def make_dir(path, class_obj):\n",
        "  for obj in class_obj:\n",
        "    path_class = os.path.join(path, obj)\n",
        "    os.makedirs(path_class)"
      ],
      "execution_count": 6,
      "outputs": []
    },
    {
      "cell_type": "code",
      "metadata": {
        "id": "DpbA5L_mQYy2"
      },
      "source": [
        "dataset_raw_renamed_letters = os.path.join(dataset_raw_renamed, 'Letters')\n",
        "if os.path.isdir(os.path.join(dataset_raw_renamed_letters, 'A')) is False:\n",
        "  make_dir(dataset_raw_renamed_letters, letters)\n",
        "else:\n",
        "  print('Path already exist')"
      ],
      "execution_count": 7,
      "outputs": []
    },
    {
      "cell_type": "code",
      "metadata": {
        "id": "JR5KZL66NGBv"
      },
      "source": [
        "class HandDetector():\n",
        "    def __init__(self, mode=False, maxHands=2, detectionConf=0.5, trackingConf=0.5):\n",
        "        # Arguments\n",
        "        self.mode = mode\n",
        "        self.maxHands = maxHands\n",
        "        self.detectionConf = detectionConf\n",
        "        self.trackingConf = trackingConf\n",
        "\n",
        "        # Initialize mediapipe variables\n",
        "        self.mpHands = mp.solutions.hands\n",
        "        self.hands = self.mpHands.Hands(self.mode, self.maxHands,\n",
        "                                        self.detectionConf, self.trackingConf)\n",
        "        self.mpDraw = mp.solutions.drawing_utils\n",
        "\n",
        "\n",
        "    def find_hands(self, src_img, draw=False):\n",
        "        # Convert frame to rgb for mediapipe\n",
        "        rgb = cv2.cvtColor(src_img, cv2.COLOR_BGR2RGB)\n",
        "\n",
        "        # To improve performance, optionally mark the image as not writeable to\n",
        "        # pass by reference.\n",
        "        rgb.flags.writeable = False\n",
        "        self.results = self.hands.process(rgb)\n",
        "\n",
        "        if self.results.multi_hand_landmarks:\n",
        "            x_pts, y_pts = [], []\n",
        "            for handLMs in self.results.multi_hand_landmarks:\n",
        "                for id, lm in enumerate(handLMs.landmark):\n",
        "                    h, w, c = src_img.shape\n",
        "                    cx, cy = int(lm.x * w), int(lm.y * h)\n",
        "                    x_pts.append(cx)\n",
        "                    y_pts.append(cy)\n",
        "                if draw:\n",
        "                    self.mpDraw.draw_landmarks(src_img, handLMs, self.mpHands.HAND_CONNECTIONS)\n",
        "\n",
        "            # Find the max and min points\n",
        "            y_max, y_min, x_max, x_min = max(y_pts), min(y_pts), max(x_pts), min(x_pts)\n",
        "            extra_space = src_img.shape[0] * 0.14\n",
        "            return True, (x_min - extra_space, y_max + extra_space), (x_max + extra_space, y_min - extra_space)\n",
        "\n",
        "        return False, (), ()"
      ],
      "execution_count": 16,
      "outputs": []
    },
    {
      "cell_type": "code",
      "metadata": {
        "id": "bD4zG_ETNBVz"
      },
      "source": [
        "detector = HandDetector()"
      ],
      "execution_count": 10,
      "outputs": []
    },
    {
      "cell_type": "code",
      "metadata": {
        "id": "-Vd9CM-6PZyI"
      },
      "source": [
        "def resize_image(src_img, img_size=(224, 224)):\n",
        "  return cv2.resize(src_img, img_size, interpolation=cv2.INTER_CUBIC)"
      ],
      "execution_count": 11,
      "outputs": []
    },
    {
      "cell_type": "markdown",
      "metadata": {
        "id": "-E2dSt7Dpsfy"
      },
      "source": [
        "Take the images from Raw_Dataset.\n",
        "\n",
        "Extract the hands from each images.\n",
        "\n",
        "Make a copy and save them to Raw_Dataset_Renamed.\n",
        "\n",
        "Name them from 0 to N number of images.\n"
      ]
    },
    {
      "cell_type": "code",
      "metadata": {
        "id": "fFbT72_hL4aV"
      },
      "source": [
        "# Letters\n",
        "dataset_raw_letters = os.path.join(dataset_raw, 'Letters')\n",
        "dataset_raw_renamed_letters = os.path.join(dataset_raw_renamed, 'Letters')\n",
        "for letter in letters:\n",
        "  path_class = os.path.join(dataset_raw_letters, letter)\n",
        "  path_class_renamed = os.path.join(dataset_raw_renamed_letters, letter)\n",
        "  i = 0\n",
        "  for item in os.listdir(path_class):\n",
        "    img = cv2.imread(os.path.join(path_class, item))\n",
        "    detected, pts_upper_left, pts_lower_right = detector.find_hands(img)\n",
        "    if detected:\n",
        "      file_name = letter + \"_\" + str(i) + \".jpg\"\n",
        "      roi = img[abs(int(pts_lower_right[1])):abs(int(pts_upper_left[1])), abs(int(pts_upper_left[0])):abs(int(pts_lower_right[0]))]\n",
        "      roi = resize_image(roi)\n",
        "      cv2.imwrite(os.path.join(path_class_renamed, file_name), roi)\n",
        "      i += 1\n"
      ],
      "execution_count": 20,
      "outputs": []
    },
    {
      "cell_type": "markdown",
      "metadata": {
        "id": "LiSNkxQsmpOW"
      },
      "source": [
        "Count the total number of images in the experiment and raw dataset folders"
      ]
    },
    {
      "cell_type": "code",
      "metadata": {
        "colab": {
          "base_uri": "https://localhost:8080/"
        },
        "id": "10RJZ9x-R-fn",
        "outputId": "4e6cb2b0-bc60-435f-fdc5-ae0ef4f7558f"
      },
      "source": [
        "# Raw Dataset Folder\n",
        "\n",
        "# letters\n",
        "dataset_raw_letters = os.path.join(dataset_raw, 'Letters')\n",
        "dataset_raw_renamed_letters = os.path.join(dataset_raw_renamed, 'Letters')\n",
        "for letter in letters:\n",
        "  path_class = os.path.join(dataset_raw_letters, letter)\n",
        "  print(letter, len(os.listdir(path_class)))"
      ],
      "execution_count": 21,
      "outputs": [
        {
          "output_type": "stream",
          "name": "stdout",
          "text": [
            "A 96\n",
            "B 97\n",
            "C 100\n",
            "D 100\n",
            "E 102\n",
            "F 98\n",
            "G 100\n",
            "H 100\n",
            "I 100\n",
            "J 0\n",
            "K 100\n",
            "L 97\n",
            "M 95\n",
            "N 91\n",
            "O 92\n",
            "P 92\n",
            "Q 91\n",
            "R 91\n",
            "S 91\n",
            "T 91\n",
            "U 91\n",
            "V 100\n",
            "W 100\n",
            "X 100\n",
            "Y 100\n",
            "Z 0\n"
          ]
        }
      ]
    },
    {
      "cell_type": "code",
      "metadata": {
        "colab": {
          "base_uri": "https://localhost:8080/"
        },
        "id": "1HAF1QaJHu59",
        "outputId": "6f95df0a-70cf-40c0-e6cb-36ab35c81881"
      },
      "source": [
        "# Raw Dataset Renamed Folder\n",
        "\n",
        "# letters\n",
        "dataset_raw_letters = os.path.join(dataset_raw, 'Letters')\n",
        "dataset_raw_renamed_letters = os.path.join(dataset_raw_renamed, 'Letters')\n",
        "for letter in letters:\n",
        "  path_class_renamed = os.path.join(dataset_raw_renamed_letters, letter)\n",
        "  print(letter, len(os.listdir(path_class_renamed)))"
      ],
      "execution_count": 22,
      "outputs": [
        {
          "output_type": "stream",
          "name": "stdout",
          "text": [
            "A 94\n",
            "B 93\n",
            "C 90\n",
            "D 94\n",
            "E 98\n",
            "F 94\n",
            "G 93\n",
            "H 90\n",
            "I 95\n",
            "J 0\n",
            "K 97\n",
            "L 92\n",
            "M 90\n",
            "N 87\n",
            "O 89\n",
            "P 87\n",
            "Q 85\n",
            "R 83\n",
            "S 87\n",
            "T 86\n",
            "U 82\n",
            "V 95\n",
            "W 96\n",
            "X 93\n",
            "Y 99\n",
            "Z 0\n"
          ]
        }
      ]
    }
  ]
}