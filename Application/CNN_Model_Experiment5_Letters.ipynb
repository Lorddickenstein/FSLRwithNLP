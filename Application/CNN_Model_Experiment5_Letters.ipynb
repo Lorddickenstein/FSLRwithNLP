{
  "nbformat": 4,
  "nbformat_minor": 0,
  "metadata": {
    "colab": {
      "name": "CNN_Model_Experiment5_Letters.ipynb",
      "provenance": [],
      "collapsed_sections": [],
      "mount_file_id": "1EPD2_tlIQdt6f_aupoE1PA5SdAr5AsVG",
      "authorship_tag": "ABX9TyMFvEI+NGbmd9uS4lqtxht6",
      "include_colab_link": true
    },
    "kernelspec": {
      "display_name": "Python 3",
      "name": "python3"
    },
    "language_info": {
      "name": "python"
    }
  },
  "cells": [
    {
      "cell_type": "markdown",
      "metadata": {
        "id": "view-in-github",
        "colab_type": "text"
      },
      "source": [
        "<a href=\"https://colab.research.google.com/github/Lorddickenstein/FSLRwithNLP/blob/main/Application/CNN_Model_Experiment5_Letters.ipynb\" target=\"_parent\"><img src=\"https://colab.research.google.com/assets/colab-badge.svg\" alt=\"Open In Colab\"/></a>"
      ]
    },
    {
      "cell_type": "markdown",
      "metadata": {
        "id": "oDPZ_4HVWHcM"
      },
      "source": [
        "# Experiment 5\n",
        "Folder: Experiment_5\n",
        "\n",
        "Dataset Root: Preprocessed_Raw_Dataset\n",
        "\n",
        "Dataset Experiment Root: Dataset_Preprocessed\n",
        "\n",
        "Model: Custom Model"
      ]
    },
    {
      "cell_type": "code",
      "metadata": {
        "colab": {
          "base_uri": "https://localhost:8080/"
        },
        "id": "foRvmAbYjZfR",
        "outputId": "4e0de5da-cf92-44d8-dca4-4a01956ee199"
      },
      "source": [
        "!pip install pyyaml h5py  # Required to save models in HDF5 format"
      ],
      "execution_count": null,
      "outputs": [
        {
          "output_type": "stream",
          "name": "stdout",
          "text": [
            "Requirement already satisfied: pyyaml in /usr/local/lib/python3.7/dist-packages (3.13)\n",
            "Requirement already satisfied: h5py in /usr/local/lib/python3.7/dist-packages (3.1.0)\n",
            "Requirement already satisfied: cached-property in /usr/local/lib/python3.7/dist-packages (from h5py) (1.5.2)\n",
            "Requirement already satisfied: numpy>=1.14.5 in /usr/local/lib/python3.7/dist-packages (from h5py) (1.19.5)\n"
          ]
        }
      ]
    },
    {
      "cell_type": "code",
      "metadata": {
        "id": "V7olocDE1a8h"
      },
      "source": [
        "import tensorflow as tf\n",
        "from tensorflow import keras\n",
        "from keras.models import Sequential, load_model\n",
        "from keras.layers import Activation, Dense, Flatten, MaxPool2D, Conv2D, Dropout, BatchNormalization\n",
        "from keras.metrics import categorical_crossentropy\n",
        "from keras.preprocessing.image import ImageDataGenerator\n",
        "from sklearn.metrics import confusion_matrix\n",
        "\n",
        "import matplotlib.pyplot as plt\n",
        "import numpy as np\n",
        "import pandas as pd\n",
        "import os\n",
        "import cv2\n",
        "import glob\n",
        "import warnings\n",
        "import random\n",
        "import shutil\n",
        "import itertools\n",
        "warnings.simplefilter(action='ignore', category=FutureWarning)\n",
        "%matplotlib inline"
      ],
      "execution_count": null,
      "outputs": []
    },
    {
      "cell_type": "markdown",
      "metadata": {
        "id": "ABnE5PcZ3GqA"
      },
      "source": [
        "# Data Preparation"
      ]
    },
    {
      "cell_type": "code",
      "metadata": {
        "id": "YVj4UZo53Iny"
      },
      "source": [
        "# Change the root folder when experimenting on a different folder\n",
        "root = '/content/drive/MyDrive/Colab Notebooks/Datasets/OurDataset/Experiments/Experiment_4'\n",
        "\n",
        "# Create Train, Valid, Test directories\n",
        "train_path = os.path.join(root, 'Train')\n",
        "valid_path = os.path.join(root, 'Valid')\n",
        "test_path = os.path.join(root, 'Test')\n",
        "\n",
        "letters = ['A', 'B', 'C', 'D', 'E',\n",
        "           'F', 'G', 'H', 'I', 'J',\n",
        "           'K', 'L', 'M', 'N', 'O',\n",
        "           'P', 'Q', 'R', 'S', 'T',\n",
        "           'U', 'V', 'W', 'X', 'Y',\n",
        "           'Z']"
      ],
      "execution_count": null,
      "outputs": []
    },
    {
      "cell_type": "code",
      "metadata": {
        "id": "mEa-fSO34kbM"
      },
      "source": [
        "# Function that creates the directory\n",
        "def make_dir(path, class_obj):\n",
        "  for obj in class_obj:\n",
        "    path_class = os.path.join(path, obj)\n",
        "    os.makedirs(path_class)"
      ],
      "execution_count": null,
      "outputs": []
    },
    {
      "cell_type": "code",
      "metadata": {
        "id": "_92RpHb13_jn",
        "colab": {
          "base_uri": "https://localhost:8080/"
        },
        "outputId": "390a74d2-7fd6-4b73-ba88-753c20c938fe"
      },
      "source": [
        "# Create a directory if train, valid, and test folders is empty or non-existent\n",
        "if os.path.isdir(train_path) is False:\n",
        "  make_dir(train_path, letters)\n",
        "  make_dir(valid_path, letters)\n",
        "  make_dir(test_path, letters)\n",
        "else:\n",
        "  print(\"Directory already exists.\")\n"
      ],
      "execution_count": null,
      "outputs": [
        {
          "output_type": "stream",
          "name": "stdout",
          "text": [
            "Directory already exists.\n"
          ]
        }
      ]
    },
    {
      "cell_type": "markdown",
      "metadata": {
        "id": "1C5mBur54_Q8"
      },
      "source": [
        "# Populate Train, Valid and Test Folders\n",
        "Don't run if Train, Test, and Valid folders are populated"
      ]
    },
    {
      "cell_type": "code",
      "metadata": {
        "id": "1ulSUr3h8CiV",
        "colab": {
          "base_uri": "https://localhost:8080/"
        },
        "outputId": "16946e3e-fee3-4b51-9514-6f9b5039faad"
      },
      "source": [
        "# Copy all images from preprocessed datasets folder to train folder\n",
        "dataset_root = '/content/drive/MyDrive/Colab Notebooks/Datasets/OurDataset/Preprocessed_Raw_Dataset'\n",
        "dataset_path = os.path.join(dataset_root, 'Letters')\n",
        "flag = '/content/drive/MyDrive/Colab Notebooks/Datasets/OurDataset/Experiments/Experiment_4/Train/A'\n",
        "if len(os.listdir(flag)) == 0:\n",
        "  for letter in letters:\n",
        "    path_class = os.path.join(dataset_path, letter)\n",
        "    path_class_dest = os.path.join(train_path, letter)\n",
        "    for item in os.listdir(path_class):\n",
        "      shutil.copy(os.path.join(path_class, item), path_class_dest)\n",
        "else:\n",
        "  print(\"Directory already exists.\")"
      ],
      "execution_count": null,
      "outputs": [
        {
          "output_type": "stream",
          "name": "stdout",
          "text": [
            "Directory already exists.\n"
          ]
        }
      ]
    },
    {
      "cell_type": "markdown",
      "metadata": {
        "id": "-ipgro-KZS-a"
      },
      "source": [
        "Take samples from Train folder and put them to valid and test folders\n",
        "\n",
        "Valid = 20 images\n",
        "\n",
        "Test = 10 images"
      ]
    },
    {
      "cell_type": "code",
      "metadata": {
        "id": "XpQPIZK-49ag"
      },
      "source": [
        "valid_size = 20\n",
        "test_size = 10\n",
        "\n",
        "# Valid\n",
        "for letter in letters:\n",
        "  path_class = os.path.join(train_path, letter)\n",
        "  os.chdir(path_class)\n",
        "  if len(os.listdir(path_class)) != 0:\n",
        "    for item in random.sample(glob.glob(letter + '_*'), valid_size):\n",
        "      shutil.move(item, os.path.join(valid_path, letter))\n",
        "\n",
        "# Test\n",
        "for letter in letters:\n",
        "  path_class = os.path.join(train_path, letter)\n",
        "  os.chdir(path_class)\n",
        "  if len(os.listdir(path_class)) != 0:\n",
        "    for item in random.sample(glob.glob(letter + '_*'), test_size):\n",
        "      shutil.move(item, os.path.join(test_path, letter))"
      ],
      "execution_count": null,
      "outputs": []
    },
    {
      "cell_type": "code",
      "metadata": {
        "colab": {
          "base_uri": "https://localhost:8080/"
        },
        "id": "0c2BXkIMAbs-",
        "outputId": "c36a8e3e-bfd0-48c8-b21a-0bdb888fdb47"
      },
      "source": [
        "# Verify number of images in Experiment\n",
        "for letter in letters:\n",
        "  train_path_experiment = os.path.join(train_path, letter)\n",
        "  valid_path_experiment = os.path.join(valid_path, letter)\n",
        "  test_path_experiment = os.path.join(test_path, letter)\n",
        "  print(letter, len(os.listdir(train_path_experiment)), len(os.listdir(valid_path_experiment)), len(os.listdir(test_path_experiment)))"
      ],
      "execution_count": null,
      "outputs": [
        {
          "output_type": "stream",
          "name": "stdout",
          "text": [
            "A 64 20 10\n",
            "B 63 20 10\n",
            "C 60 20 10\n",
            "D 64 20 10\n",
            "E 68 20 10\n",
            "F 64 20 10\n",
            "G 63 20 10\n",
            "H 60 20 10\n",
            "I 65 20 10\n",
            "J 0 0 0\n",
            "K 67 20 10\n",
            "L 62 20 10\n",
            "M 60 20 10\n",
            "N 57 20 10\n",
            "O 59 20 10\n",
            "P 57 20 10\n",
            "Q 55 20 10\n",
            "R 53 20 10\n",
            "S 57 20 10\n",
            "T 56 20 10\n",
            "U 52 20 10\n",
            "V 65 20 10\n",
            "W 66 20 10\n",
            "X 63 20 10\n",
            "Y 69 20 10\n",
            "Z 0 0 0\n"
          ]
        }
      ]
    },
    {
      "cell_type": "markdown",
      "metadata": {
        "id": "9nNm0ZepRw7Y"
      },
      "source": [
        "# Preprocess Image"
      ]
    },
    {
      "cell_type": "code",
      "metadata": {
        "id": "L3qntRwj7san"
      },
      "source": [
        "image_size = (120, 120)"
      ],
      "execution_count": null,
      "outputs": []
    },
    {
      "cell_type": "code",
      "metadata": {
        "id": "C3DQx7_GvZQb"
      },
      "source": [
        "def preprocess_func(src_img):\n",
        "  norm = src_img.astype('float32')\n",
        "  norm /= 255\n",
        "  return norm"
      ],
      "execution_count": null,
      "outputs": []
    },
    {
      "cell_type": "code",
      "metadata": {
        "colab": {
          "base_uri": "https://localhost:8080/"
        },
        "id": "13PbGi0HNhx-",
        "outputId": "55d901cb-8278-4b52-f5cf-1418543c92c1"
      },
      "source": [
        "# Run if first time\n",
        "train_batches = ImageDataGenerator(preprocessing_function=preprocess_func, horizontal_flip=True, width_shift_range=0.1, height_shift_range=0.1, shear_range=0.2, zoom_range=0.2, fill_mode='constant') \\\n",
        "    .flow_from_directory(directory=train_path, target_size=image_size, classes=letters, batch_size=10)\n",
        "valid_batches = ImageDataGenerator(preprocessing_function=preprocess_func,horizontal_flip=True, width_shift_range=0.15, height_shift_range=0.1, shear_range=0.2, zoom_range=0.2, fill_mode='constant') \\\n",
        "    .flow_from_directory(directory=valid_path, target_size=image_size, classes=letters, batch_size=10)\n",
        "test_batches = ImageDataGenerator(preprocessing_function=preprocess_func,horizontal_flip=True, width_shift_range=0.15, height_shift_range=0.1, shear_range=0.2, zoom_range=0.2, fill_mode='constant') \\\n",
        "    .flow_from_directory(directory=test_path, target_size=image_size, classes=letters, batch_size=10)"
      ],
      "execution_count": null,
      "outputs": [
        {
          "output_type": "stream",
          "name": "stdout",
          "text": [
            "Found 1469 images belonging to 26 classes.\n",
            "Found 480 images belonging to 26 classes.\n",
            "Found 240 images belonging to 26 classes.\n"
          ]
        }
      ]
    },
    {
      "cell_type": "code",
      "metadata": {
        "id": "l0nLqUsRQTPt"
      },
      "source": [
        "# Subtract empty class\n",
        "assert train_batches.n == 1469\n",
        "assert valid_batches.n == (20*26) - 40\n",
        "assert test_batches.n == (10*26) - 20"
      ],
      "execution_count": null,
      "outputs": []
    },
    {
      "cell_type": "code",
      "metadata": {
        "id": "P-MqRzvBRD_F"
      },
      "source": [
        "imgs, labels = next(valid_batches)"
      ],
      "execution_count": null,
      "outputs": []
    },
    {
      "cell_type": "code",
      "metadata": {
        "colab": {
          "base_uri": "https://localhost:8080/",
          "height": 268
        },
        "id": "avU6bgmlrBap",
        "outputId": "7f469d29-2e58-4f1e-aedf-13bf29b72ec6"
      },
      "source": [
        "plt.imshow(imgs[0], cmap='gray')\n",
        "plt.show()"
      ],
      "execution_count": null,
      "outputs": [
        {
          "output_type": "display_data",
          "data": {
            "image/png": "[encoded data removed]",
            "text/plain": [
              "<Figure size 432x288 with 1 Axes>"
            ]
          },
          "metadata": {
            "needs_background": "light"
          }
        }
      ]
    },
    {
      "cell_type": "code",
      "metadata": {
        "id": "axby_T73RExW"
      },
      "source": [
        "# Plot 10 sample images\n",
        "def plotImages(images_arr):\n",
        "  fig, axes = plt.subplots(1, 10, figsize=(20, 20))\n",
        "  axes = axes.flatten()\n",
        "  for img, ax in zip(images_arr, axes):\n",
        "    ax.imshow(img)\n",
        "    ax.axis('off')\n",
        "  plt.tight_layout()\n",
        "  plt.show()"
      ],
      "execution_count": null,
      "outputs": []
    },
    {
      "cell_type": "code",
      "metadata": {
        "colab": {
          "base_uri": "https://localhost:8080/",
          "height": 135
        },
        "id": "SgmiD9sEnnxO",
        "outputId": "3ddbd811-63f8-40fb-efdc-3e77c7350225"
      },
      "source": [
        "plotImages(imgs)"
      ],
      "execution_count": null,
      "outputs": [
        {
          "output_type": "display_data",
          "data": {
            "image/png": "[encoded data removed]",
            "text/plain": [
              "<Figure size 1440x1440 with 10 Axes>"
            ]
          },
          "metadata": {
            "needs_background": "light"
          }
        }
      ]
    },
    {
      "cell_type": "markdown",
      "metadata": {
        "id": "w2CvOCafRu6c"
      },
      "source": [
        "# Build the Model"
      ]
    },
    {
      "cell_type": "code",
      "metadata": {
        "colab": {
          "base_uri": "https://localhost:8080/"
        },
        "id": "M24s9czMRp6o",
        "outputId": "c16a9e0f-3eab-4d52-a3cc-b9f1c130980d"
      },
      "source": [
        "# Count the total classes that the model must know\n",
        "total_classes = len(os.listdir(train_path))\n",
        "print(total_classes)"
      ],
      "execution_count": null,
      "outputs": [
        {
          "output_type": "stream",
          "name": "stdout",
          "text": [
            "26\n"
          ]
        }
      ]
    },
    {
      "cell_type": "markdown",
      "metadata": {
        "id": "7ph5O2WfxGmF"
      },
      "source": [
        "# Model #1 Custom Model\n",
        "Choose only one model."
      ]
    },
    {
      "cell_type": "code",
      "metadata": {
        "id": "r1_iQEv7Ruhm"
      },
      "source": [
        "# Create the Sequential Model\n",
        "def create_model():\n",
        "  model = Sequential()\n",
        "\n",
        "  # Layers\n",
        "  model.add(Conv2D(32, kernel_size=(3, 3), activation='relu', input_shape=(120, 120, 3), padding='same'))\n",
        "  model.add(Conv2D(64, kernel_size=(3, 3), activation='relu', padding='same'))\n",
        "  model.add(MaxPool2D(pool_size=(2, 2), strides=2))\n",
        "  model.add(Conv2D(128, kernel_size=(3, 3), activation='relu', padding='same'))\n",
        "  model.add(Conv2D(256, kernel_size=(3, 3), activation='relu', padding='same'))\n",
        "  model.add(MaxPool2D(pool_size=(2, 2), strides=2))\n",
        "  model.add(Flatten())\n",
        "  model.add(Dense(512, activation='relu'))\n",
        "  model.add(Dropout(0.20))\n",
        "  model.add(Dense(total_classes, activation='softmax'))\n",
        "\n",
        "  return model"
      ],
      "execution_count": null,
      "outputs": []
    },
    {
      "cell_type": "markdown",
      "metadata": {
        "id": "s-NL2hIyxJd2"
      },
      "source": [
        "# Model #2 VGG16\n",
        "Choose only one model."
      ]
    },
    {
      "cell_type": "code",
      "metadata": {
        "colab": {
          "base_uri": "https://localhost:8080/"
        },
        "id": "8vuqtFgu_xfy",
        "outputId": "8c2faa31-fa68-4dc7-d958-a60e59802785"
      },
      "source": [
        "# VGG16 Model\n",
        "vgg16_model = keras.applications.vgg16.VGG16()"
      ],
      "execution_count": null,
      "outputs": [
        {
          "name": "stdout",
          "output_type": "stream",
          "text": [
            "Downloading data from https://storage.googleapis.com/tensorflow/keras-applications/vgg16/vgg16_weights_tf_dim_ordering_tf_kernels.h5\n",
            "553467904/553467096 [==============================] - 4s 0us/step\n",
            "553476096/553467096 [==============================] - 4s 0us/step\n"
          ]
        }
      ]
    },
    {
      "cell_type": "code",
      "metadata": {
        "colab": {
          "base_uri": "https://localhost:8080/"
        },
        "id": "4dlyVBs2AdC-",
        "outputId": "d49886f1-7cd3-4380-ab0e-1dc9dd728e70"
      },
      "source": [
        "vgg16_model.summary()"
      ],
      "execution_count": null,
      "outputs": [
        {
          "name": "stdout",
          "output_type": "stream",
          "text": [
            "Model: \"vgg16\"\n",
            "_________________________________________________________________\n",
            "Layer (type)                 Output Shape              Param #   \n",
            "=================================================================\n",
            "input_1 (InputLayer)         [(None, 224, 224, 3)]     0         \n",
            "_________________________________________________________________\n",
            "block1_conv1 (Conv2D)        (None, 224, 224, 64)      1792      \n",
            "_________________________________________________________________\n",
            "block1_conv2 (Conv2D)        (None, 224, 224, 64)      36928     \n",
            "_________________________________________________________________\n",
            "block1_pool (MaxPooling2D)   (None, 112, 112, 64)      0         \n",
            "_________________________________________________________________\n",
            "block2_conv1 (Conv2D)        (None, 112, 112, 128)     73856     \n",
            "_________________________________________________________________\n",
            "block2_conv2 (Conv2D)        (None, 112, 112, 128)     147584    \n",
            "_________________________________________________________________\n",
            "block2_pool (MaxPooling2D)   (None, 56, 56, 128)       0         \n",
            "_________________________________________________________________\n",
            "block3_conv1 (Conv2D)        (None, 56, 56, 256)       295168    \n",
            "_________________________________________________________________\n",
            "block3_conv2 (Conv2D)        (None, 56, 56, 256)       590080    \n",
            "_________________________________________________________________\n",
            "block3_conv3 (Conv2D)        (None, 56, 56, 256)       590080    \n",
            "_________________________________________________________________\n",
            "block3_pool (MaxPooling2D)   (None, 28, 28, 256)       0         \n",
            "_________________________________________________________________\n",
            "block4_conv1 (Conv2D)        (None, 28, 28, 512)       1180160   \n",
            "_________________________________________________________________\n",
            "block4_conv2 (Conv2D)        (None, 28, 28, 512)       2359808   \n",
            "_________________________________________________________________\n",
            "block4_conv3 (Conv2D)        (None, 28, 28, 512)       2359808   \n",
            "_________________________________________________________________\n",
            "block4_pool (MaxPooling2D)   (None, 14, 14, 512)       0         \n",
            "_________________________________________________________________\n",
            "block5_conv1 (Conv2D)        (None, 14, 14, 512)       2359808   \n",
            "_________________________________________________________________\n",
            "block5_conv2 (Conv2D)        (None, 14, 14, 512)       2359808   \n",
            "_________________________________________________________________\n",
            "block5_conv3 (Conv2D)        (None, 14, 14, 512)       2359808   \n",
            "_________________________________________________________________\n",
            "block5_pool (MaxPooling2D)   (None, 7, 7, 512)         0         \n",
            "_________________________________________________________________\n",
            "flatten (Flatten)            (None, 25088)             0         \n",
            "_________________________________________________________________\n",
            "fc1 (Dense)                  (None, 4096)              102764544 \n",
            "_________________________________________________________________\n",
            "fc2 (Dense)                  (None, 4096)              16781312  \n",
            "_________________________________________________________________\n",
            "predictions (Dense)          (None, 1000)              4097000   \n",
            "=================================================================\n",
            "Total params: 138,357,544\n",
            "Trainable params: 138,357,544\n",
            "Non-trainable params: 0\n",
            "_________________________________________________________________\n"
          ]
        }
      ]
    },
    {
      "cell_type": "code",
      "metadata": {
        "id": "3l4Dnen1AnWn"
      },
      "source": [
        "# Create the model\n",
        "model = Sequential()\n",
        "\n",
        "# Copy the layer from the vgg16_model to model\n",
        "for layer in vgg16_model.layers[:-1]:\n",
        "  model.add(layer)"
      ],
      "execution_count": null,
      "outputs": []
    },
    {
      "cell_type": "code",
      "metadata": {
        "colab": {
          "base_uri": "https://localhost:8080/"
        },
        "id": "xsagqoozA6_B",
        "outputId": "5ffd8ae4-1aef-4c6b-9ce2-2702092b276b"
      },
      "source": [
        "model.summary()"
      ],
      "execution_count": null,
      "outputs": [
        {
          "name": "stdout",
          "output_type": "stream",
          "text": [
            "Model: \"sequential\"\n",
            "_________________________________________________________________\n",
            "Layer (type)                 Output Shape              Param #   \n",
            "=================================================================\n",
            "block1_conv1 (Conv2D)        (None, 224, 224, 64)      1792      \n",
            "_________________________________________________________________\n",
            "block1_conv2 (Conv2D)        (None, 224, 224, 64)      36928     \n",
            "_________________________________________________________________\n",
            "block1_pool (MaxPooling2D)   (None, 112, 112, 64)      0         \n",
            "_________________________________________________________________\n",
            "block2_conv1 (Conv2D)        (None, 112, 112, 128)     73856     \n",
            "_________________________________________________________________\n",
            "block2_conv2 (Conv2D)        (None, 112, 112, 128)     147584    \n",
            "_________________________________________________________________\n",
            "block2_pool (MaxPooling2D)   (None, 56, 56, 128)       0         \n",
            "_________________________________________________________________\n",
            "block3_conv1 (Conv2D)        (None, 56, 56, 256)       295168    \n",
            "_________________________________________________________________\n",
            "block3_conv2 (Conv2D)        (None, 56, 56, 256)       590080    \n",
            "_________________________________________________________________\n",
            "block3_conv3 (Conv2D)        (None, 56, 56, 256)       590080    \n",
            "_________________________________________________________________\n",
            "block3_pool (MaxPooling2D)   (None, 28, 28, 256)       0         \n",
            "_________________________________________________________________\n",
            "block4_conv1 (Conv2D)        (None, 28, 28, 512)       1180160   \n",
            "_________________________________________________________________\n",
            "block4_conv2 (Conv2D)        (None, 28, 28, 512)       2359808   \n",
            "_________________________________________________________________\n",
            "block4_conv3 (Conv2D)        (None, 28, 28, 512)       2359808   \n",
            "_________________________________________________________________\n",
            "block4_pool (MaxPooling2D)   (None, 14, 14, 512)       0         \n",
            "_________________________________________________________________\n",
            "block5_conv1 (Conv2D)        (None, 14, 14, 512)       2359808   \n",
            "_________________________________________________________________\n",
            "block5_conv2 (Conv2D)        (None, 14, 14, 512)       2359808   \n",
            "_________________________________________________________________\n",
            "block5_conv3 (Conv2D)        (None, 14, 14, 512)       2359808   \n",
            "_________________________________________________________________\n",
            "block5_pool (MaxPooling2D)   (None, 7, 7, 512)         0         \n",
            "_________________________________________________________________\n",
            "flatten (Flatten)            (None, 25088)             0         \n",
            "_________________________________________________________________\n",
            "fc1 (Dense)                  (None, 4096)              102764544 \n",
            "_________________________________________________________________\n",
            "fc2 (Dense)                  (None, 4096)              16781312  \n",
            "=================================================================\n",
            "Total params: 134,260,544\n",
            "Trainable params: 134,260,544\n",
            "Non-trainable params: 0\n",
            "_________________________________________________________________\n"
          ]
        }
      ]
    },
    {
      "cell_type": "code",
      "metadata": {
        "id": "5cc0R8dUBLJp"
      },
      "source": [
        "# Add the prediction layer\n",
        "model.add(Dense(total_classes, activation='softmax'))"
      ],
      "execution_count": null,
      "outputs": []
    },
    {
      "cell_type": "code",
      "metadata": {
        "colab": {
          "base_uri": "https://localhost:8080/"
        },
        "id": "agaWT-DwBqif",
        "outputId": "43c0af23-e798-42f9-df83-e20c8c29f04f"
      },
      "source": [
        "model.summary()"
      ],
      "execution_count": null,
      "outputs": [
        {
          "name": "stdout",
          "output_type": "stream",
          "text": [
            "Model: \"sequential\"\n",
            "_________________________________________________________________\n",
            "Layer (type)                 Output Shape              Param #   \n",
            "=================================================================\n",
            "block1_conv1 (Conv2D)        (None, 224, 224, 64)      1792      \n",
            "_________________________________________________________________\n",
            "block1_conv2 (Conv2D)        (None, 224, 224, 64)      36928     \n",
            "_________________________________________________________________\n",
            "block1_pool (MaxPooling2D)   (None, 112, 112, 64)      0         \n",
            "_________________________________________________________________\n",
            "block2_conv1 (Conv2D)        (None, 112, 112, 128)     73856     \n",
            "_________________________________________________________________\n",
            "block2_conv2 (Conv2D)        (None, 112, 112, 128)     147584    \n",
            "_________________________________________________________________\n",
            "block2_pool (MaxPooling2D)   (None, 56, 56, 128)       0         \n",
            "_________________________________________________________________\n",
            "block3_conv1 (Conv2D)        (None, 56, 56, 256)       295168    \n",
            "_________________________________________________________________\n",
            "block3_conv2 (Conv2D)        (None, 56, 56, 256)       590080    \n",
            "_________________________________________________________________\n",
            "block3_conv3 (Conv2D)        (None, 56, 56, 256)       590080    \n",
            "_________________________________________________________________\n",
            "block3_pool (MaxPooling2D)   (None, 28, 28, 256)       0         \n",
            "_________________________________________________________________\n",
            "block4_conv1 (Conv2D)        (None, 28, 28, 512)       1180160   \n",
            "_________________________________________________________________\n",
            "block4_conv2 (Conv2D)        (None, 28, 28, 512)       2359808   \n",
            "_________________________________________________________________\n",
            "block4_conv3 (Conv2D)        (None, 28, 28, 512)       2359808   \n",
            "_________________________________________________________________\n",
            "block4_pool (MaxPooling2D)   (None, 14, 14, 512)       0         \n",
            "_________________________________________________________________\n",
            "block5_conv1 (Conv2D)        (None, 14, 14, 512)       2359808   \n",
            "_________________________________________________________________\n",
            "block5_conv2 (Conv2D)        (None, 14, 14, 512)       2359808   \n",
            "_________________________________________________________________\n",
            "block5_conv3 (Conv2D)        (None, 14, 14, 512)       2359808   \n",
            "_________________________________________________________________\n",
            "block5_pool (MaxPooling2D)   (None, 7, 7, 512)         0         \n",
            "_________________________________________________________________\n",
            "flatten (Flatten)            (None, 25088)             0         \n",
            "_________________________________________________________________\n",
            "fc1 (Dense)                  (None, 4096)              102764544 \n",
            "_________________________________________________________________\n",
            "fc2 (Dense)                  (None, 4096)              16781312  \n",
            "_________________________________________________________________\n",
            "dense (Dense)                (None, 26)                106522    \n",
            "=================================================================\n",
            "Total params: 134,367,066\n",
            "Trainable params: 134,367,066\n",
            "Non-trainable params: 0\n",
            "_________________________________________________________________\n"
          ]
        }
      ]
    },
    {
      "cell_type": "markdown",
      "metadata": {
        "id": "KUQU-lmPQ8hx"
      },
      "source": [
        "# Create the model"
      ]
    },
    {
      "cell_type": "code",
      "metadata": {
        "colab": {
          "base_uri": "https://localhost:8080/"
        },
        "id": "CR9quKTBQsw8",
        "outputId": "5c1cdead-6bb7-4e49-d469-9750adce655c"
      },
      "source": [
        "# Create Model function\n",
        "model = create_model()\n",
        "# Summary of layers\n",
        "model.summary()"
      ],
      "execution_count": null,
      "outputs": [
        {
          "output_type": "stream",
          "name": "stdout",
          "text": [
            "Model: \"sequential\"\n",
            "_________________________________________________________________\n",
            "Layer (type)                 Output Shape              Param #   \n",
            "=================================================================\n",
            "conv2d (Conv2D)              (None, 120, 120, 32)      896       \n",
            "_________________________________________________________________\n",
            "conv2d_1 (Conv2D)            (None, 120, 120, 64)      18496     \n",
            "_________________________________________________________________\n",
            "max_pooling2d (MaxPooling2D) (None, 60, 60, 64)        0         \n",
            "_________________________________________________________________\n",
            "conv2d_2 (Conv2D)            (None, 60, 60, 128)       73856     \n",
            "_________________________________________________________________\n",
            "conv2d_3 (Conv2D)            (None, 60, 60, 256)       295168    \n",
            "_________________________________________________________________\n",
            "max_pooling2d_1 (MaxPooling2 (None, 30, 30, 256)       0         \n",
            "_________________________________________________________________\n",
            "flatten (Flatten)            (None, 230400)            0         \n",
            "_________________________________________________________________\n",
            "dense (Dense)                (None, 512)               117965312 \n",
            "_________________________________________________________________\n",
            "dropout (Dropout)            (None, 512)               0         \n",
            "_________________________________________________________________\n",
            "dense_1 (Dense)              (None, 26)                13338     \n",
            "=================================================================\n",
            "Total params: 118,367,066\n",
            "Trainable params: 118,367,066\n",
            "Non-trainable params: 0\n",
            "_________________________________________________________________\n"
          ]
        }
      ]
    },
    {
      "cell_type": "markdown",
      "metadata": {
        "id": "LBZxAmCnmYz4"
      },
      "source": [
        "# Save checkpoints during training\n",
        "##Employing the following:\n",
        "\n",
        "Checkpoints\n",
        "\n",
        "CSV Logger"
      ]
    },
    {
      "cell_type": "code",
      "metadata": {
        "id": "qL03_wRQmWjC",
        "colab": {
          "base_uri": "https://localhost:8080/"
        },
        "outputId": "f19979fc-1186-4684-8e3c-95534694ab9d"
      },
      "source": [
        "from keras.callbacks import ModelCheckpoint, CSVLogger\n",
        "\n",
        "checkpoint_path = \"/content/drive/MyDrive/Colab Notebooks/CNN Models/Experiment_5/weights_improvements-{epoch:02d}-{val_accuracy:.2f}.hdf5\"\n",
        "checkpoint_dir = os.path.dirname(checkpoint_path)\n",
        "\n",
        "batch_size = 20\n",
        "epochs = 10\n",
        "\n",
        "# Create a callback that saves the model's weights\n",
        "cp_callback = ModelCheckpoint(filepath=checkpoint_path,\n",
        "                              verbose=1,\n",
        "                              monitor='val_accuracy',\n",
        "                              mode='max',\n",
        "                              save_best_only=True,\n",
        "                              period=5)\n",
        "\n",
        "log_folder = '/content/drive/MyDrive/Colab Notebooks/CNN Models/Experiment_5'\n",
        "log_path = os.path.join(log_folder, 'Experiment_5_logs.csv')\n",
        "log_csv = CSVLogger(log_path, separator=',', append=True)\n",
        "\n",
        "callback_list = [cp_callback, log_csv]"
      ],
      "execution_count": null,
      "outputs": [
        {
          "output_type": "stream",
          "name": "stdout",
          "text": [
            "WARNING:tensorflow:`period` argument is deprecated. Please use `save_freq` to specify the frequency in number of batches seen.\n"
          ]
        }
      ]
    },
    {
      "cell_type": "markdown",
      "metadata": {
        "id": "hs45ERh5xX2S"
      },
      "source": [
        "# Train the model"
      ]
    },
    {
      "cell_type": "code",
      "metadata": {
        "colab": {
          "base_uri": "https://localhost:8080/"
        },
        "id": "uhg7QQtsR_ec",
        "outputId": "e62b53c4-f832-48fe-accb-74e95aee6c8e"
      },
      "source": [
        "# Create the connection and train the model\n",
        "model.compile(loss='categorical_crossentropy',\n",
        "              optimizer=keras.optimizers.Adam(),\n",
        "              metrics=['accuracy'])\n",
        "\n",
        "# Train the model with the new callback\n",
        "history = model.fit(x=train_batches,\n",
        "                    validation_data=valid_batches,\n",
        "                    batch_size=batch_size,\n",
        "                    epochs=epochs,\n",
        "                    callbacks=callback_list)\n",
        "\n",
        "# This may generate warnings related to saving the state of the optimizer.\n",
        "# These warnings (and similar warnings throughout this notebook)\n",
        "# are in place to discourage outdated usage, and can be ignored."
      ],
      "execution_count": null,
      "outputs": [
        {
          "output_type": "stream",
          "name": "stdout",
          "text": [
            "Epoch 1/10\n",
            "147/147 [==============================] - 394s 3s/step - loss: 3.1791 - accuracy: 0.0796 - val_loss: 2.9128 - val_accuracy: 0.0958\n",
            "\n",
            "Epoch 00001: val_accuracy improved from -inf to 0.09583, saving model to /content/drive/MyDrive/Colab Notebooks/CNN Models/Experiment_5/weights_improvements-01-0.10.hdf5\n",
            "Epoch 2/10\n",
            "147/147 [==============================] - 393s 3s/step - loss: 2.5240 - accuracy: 0.2471 - val_loss: 2.2247 - val_accuracy: 0.3229\n",
            "\n",
            "Epoch 00002: val_accuracy improved from 0.09583 to 0.32292, saving model to /content/drive/MyDrive/Colab Notebooks/CNN Models/Experiment_5/weights_improvements-02-0.32.hdf5\n",
            "Epoch 3/10\n",
            "147/147 [==============================] - 392s 3s/step - loss: 2.0632 - accuracy: 0.3601 - val_loss: 2.0385 - val_accuracy: 0.3792\n",
            "\n",
            "Epoch 00003: val_accuracy improved from 0.32292 to 0.37917, saving model to /content/drive/MyDrive/Colab Notebooks/CNN Models/Experiment_5/weights_improvements-03-0.38.hdf5\n",
            "Epoch 4/10\n",
            "147/147 [==============================] - 394s 3s/step - loss: 1.7720 - accuracy: 0.4336 - val_loss: 1.8327 - val_accuracy: 0.4104\n",
            "\n",
            "Epoch 00004: val_accuracy improved from 0.37917 to 0.41042, saving model to /content/drive/MyDrive/Colab Notebooks/CNN Models/Experiment_5/weights_improvements-04-0.41.hdf5\n",
            "Epoch 5/10\n",
            "147/147 [==============================] - 395s 3s/step - loss: 1.5103 - accuracy: 0.5126 - val_loss: 1.6708 - val_accuracy: 0.4729\n",
            "\n",
            "Epoch 00005: val_accuracy improved from 0.41042 to 0.47292, saving model to /content/drive/MyDrive/Colab Notebooks/CNN Models/Experiment_5/weights_improvements-05-0.47.hdf5\n",
            "Epoch 6/10\n",
            "147/147 [==============================] - 397s 3s/step - loss: 1.4258 - accuracy: 0.5446 - val_loss: 1.7330 - val_accuracy: 0.4833\n",
            "\n",
            "Epoch 00006: val_accuracy improved from 0.47292 to 0.48333, saving model to /content/drive/MyDrive/Colab Notebooks/CNN Models/Experiment_5/weights_improvements-06-0.48.hdf5\n",
            "Epoch 7/10\n",
            "147/147 [==============================] - 398s 3s/step - loss: 1.3295 - accuracy: 0.5745 - val_loss: 1.5289 - val_accuracy: 0.5146\n",
            "\n",
            "Epoch 00007: val_accuracy improved from 0.48333 to 0.51458, saving model to /content/drive/MyDrive/Colab Notebooks/CNN Models/Experiment_5/weights_improvements-07-0.51.hdf5\n",
            "Epoch 8/10\n",
            "147/147 [==============================] - 398s 3s/step - loss: 1.2226 - accuracy: 0.6052 - val_loss: 1.4391 - val_accuracy: 0.5458\n",
            "\n",
            "Epoch 00008: val_accuracy improved from 0.51458 to 0.54583, saving model to /content/drive/MyDrive/Colab Notebooks/CNN Models/Experiment_5/weights_improvements-08-0.55.hdf5\n",
            "Epoch 9/10\n",
            "147/147 [==============================] - 398s 3s/step - loss: 1.1713 - accuracy: 0.6099 - val_loss: 1.3787 - val_accuracy: 0.6000\n",
            "\n",
            "Epoch 00009: val_accuracy improved from 0.54583 to 0.60000, saving model to /content/drive/MyDrive/Colab Notebooks/CNN Models/Experiment_5/weights_improvements-09-0.60.hdf5\n",
            "Epoch 10/10\n",
            "147/147 [==============================] - 397s 3s/step - loss: 1.0670 - accuracy: 0.6685 - val_loss: 1.2441 - val_accuracy: 0.5833\n",
            "\n",
            "Epoch 00010: val_accuracy did not improve from 0.60000\n"
          ]
        }
      ]
    },
    {
      "cell_type": "code",
      "metadata": {
        "id": "sGx3wxwYT3RE",
        "colab": {
          "base_uri": "https://localhost:8080/"
        },
        "outputId": "6af5b4fd-d508-4c0d-e7b9-dfb6f9df7eb7"
      },
      "source": [
        "# Evaluate the model with test_sets\n",
        "print(model.evaluate(test_batches))"
      ],
      "execution_count": null,
      "outputs": [
        {
          "output_type": "stream",
          "name": "stdout",
          "text": [
            "24/24 [==============================] - 15s 611ms/step - loss: 1.1750 - accuracy: 0.6292\n",
            "[1.175017237663269, 0.6291666626930237]\n"
          ]
        }
      ]
    },
    {
      "cell_type": "code",
      "metadata": {
        "id": "JP5oSmZqSIT0"
      },
      "source": [
        "predictions = model.predict(x=test_batches, verbose=0)"
      ],
      "execution_count": null,
      "outputs": []
    },
    {
      "cell_type": "markdown",
      "metadata": {
        "id": "0aMGUFH2_sz3"
      },
      "source": [
        "# Confusion Matrix"
      ]
    },
    {
      "cell_type": "code",
      "metadata": {
        "id": "-K5NoFEbJsfF"
      },
      "source": [
        "# Setup the confusion matrix\n",
        "cm = confusion_matrix(y_true=test_batches.classes, y_pred=np.argmax(predictions, axis=-1))"
      ],
      "execution_count": null,
      "outputs": []
    },
    {
      "cell_type": "code",
      "metadata": {
        "colab": {
          "base_uri": "https://localhost:8080/"
        },
        "id": "EitDckh2KApn",
        "outputId": "5e0dca73-947d-49d9-b0ea-f2ed4f0138f9"
      },
      "source": [
        "test_batches.class_indices"
      ],
      "execution_count": null,
      "outputs": [
        {
          "data": {
            "text/plain": [
              "{'A': 0,\n",
              " 'B': 1,\n",
              " 'C': 2,\n",
              " 'D': 3,\n",
              " 'E': 4,\n",
              " 'F': 5,\n",
              " 'G': 6,\n",
              " 'H': 7,\n",
              " 'I': 8,\n",
              " 'J': 9,\n",
              " 'K': 10,\n",
              " 'L': 11,\n",
              " 'M': 12,\n",
              " 'N': 13,\n",
              " 'O': 14,\n",
              " 'P': 15,\n",
              " 'Q': 16,\n",
              " 'R': 17,\n",
              " 'S': 18,\n",
              " 'T': 19,\n",
              " 'U': 20,\n",
              " 'V': 21,\n",
              " 'W': 22,\n",
              " 'X': 23,\n",
              " 'Y': 24,\n",
              " 'Z': 25}"
            ]
          },
          "execution_count": 25,
          "metadata": {},
          "output_type": "execute_result"
        }
      ]
    },
    {
      "cell_type": "code",
      "metadata": {
        "id": "AxJgz9fRS7iJ"
      },
      "source": [
        "def plot_confusion_matrix(cm, classes,\n",
        "                        normalize=False,\n",
        "                        title='Confusion matrix',\n",
        "                        cmap=plt.cm.Blues):\n",
        "    \"\"\"\n",
        "    This function prints and plots the confusion matrix.\n",
        "    Normalization can be applied by setting `normalize=True`.\n",
        "    \"\"\"\n",
        "    plt.imshow(cm, interpolation='nearest', cmap=cmap)\n",
        "    plt.title(title)\n",
        "    plt.colorbar()\n",
        "    tick_marks = np.arange(len(classes))\n",
        "    plt.xticks(tick_marks, classes, rotation=45)\n",
        "    plt.yticks(tick_marks, classes)\n",
        "\n",
        "    if normalize:\n",
        "        cm = cm.astype('float') / cm.sum(axis=1)[:, np.newaxis]\n",
        "        print(\"Normalized confusion matrix\")\n",
        "    else:\n",
        "        print('Confusion matrix, without normalization')\n",
        "\n",
        "    print(cm)\n",
        "\n",
        "    thresh = cm.max() / 2.\n",
        "    for i, j in itertools.product(range(cm.shape[0]), range(cm.shape[1])):\n",
        "        plt.text(j, i, cm[i, j],\n",
        "            horizontalalignment=\"center\",\n",
        "            color=\"white\" if cm[i, j] > thresh else \"black\")\n",
        "\n",
        "    plt.tight_layout()\n",
        "    plt.ylabel('True label')\n",
        "    plt.xlabel('Predicted label')"
      ],
      "execution_count": null,
      "outputs": []
    },
    {
      "cell_type": "code",
      "metadata": {
        "colab": {
          "base_uri": "https://localhost:8080/",
          "height": 736
        },
        "id": "tsMVbMYQKHwN",
        "outputId": "65354f78-d646-4824-85f1-29e656f5b839"
      },
      "source": [
        "# Plot the confusion matrix\n",
        "cm_plot_labels = letters\n",
        "plot_confusion_matrix(cm=cm, classes=cm_plot_labels, title='Confusion Matrix')"
      ],
      "execution_count": null,
      "outputs": [
        {
          "name": "stdout",
          "output_type": "stream",
          "text": [
            "Confusion matrix, without normalization\n",
            "[[0 0 1 1 1 0 0 1 0 0 0 0 0 1 0 0 0 0 2 1 0 0 1 1]\n",
            " [0 0 0 3 0 0 0 2 0 0 0 0 2 0 0 0 0 1 1 0 0 0 0 1]\n",
            " [0 0 0 2 1 0 0 0 0 0 1 0 1 0 1 0 1 1 0 0 0 1 1 0]\n",
            " [0 0 0 1 1 1 0 0 0 1 0 0 1 0 0 1 0 0 0 0 2 1 1 0]\n",
            " [0 1 0 0 0 0 1 0 0 0 2 0 0 0 1 1 0 1 0 1 1 0 1 0]\n",
            " [0 0 0 1 0 0 0 0 1 0 0 0 0 2 1 0 1 0 0 1 0 2 0 1]\n",
            " [0 0 0 1 0 0 1 0 0 0 1 0 0 0 2 1 1 0 1 1 0 0 1 0]\n",
            " [1 0 1 0 1 1 0 1 0 0 1 0 0 1 0 1 0 1 0 1 0 0 0 0]\n",
            " [0 3 2 0 0 0 0 0 0 0 1 1 0 0 0 0 0 2 0 0 0 0 0 1]\n",
            " [0 0 0 0 0 0 0 0 1 0 0 1 1 1 1 0 0 1 0 0 3 0 1 0]\n",
            " [0 0 1 1 0 0 0 0 0 3 0 0 0 0 1 0 2 1 0 1 0 0 0 0]\n",
            " [0 0 2 0 1 0 0 0 0 1 0 0 0 0 0 0 2 0 0 1 0 1 0 2]\n",
            " [0 1 0 0 1 0 0 1 1 0 3 0 1 0 0 0 0 0 0 0 0 1 1 0]\n",
            " [0 1 0 0 2 1 1 0 0 0 0 0 0 1 0 0 0 2 0 0 0 0 2 0]\n",
            " [0 0 0 0 0 0 0 3 0 2 1 1 0 1 0 0 0 1 0 1 0 0 0 0]\n",
            " [1 1 0 0 1 0 0 1 0 0 1 0 0 2 1 1 0 0 0 0 0 0 1 0]\n",
            " [0 0 2 0 1 0 0 1 1 0 0 1 0 1 0 1 1 0 0 1 0 0 0 0]\n",
            " [0 1 0 0 0 0 0 1 1 1 0 0 0 1 0 2 0 0 1 0 1 0 1 0]\n",
            " [0 0 1 0 0 0 0 0 0 0 1 1 1 2 0 0 1 1 0 1 0 0 0 1]\n",
            " [0 1 0 1 1 1 0 1 0 0 0 1 0 0 0 0 1 1 0 0 0 1 1 0]\n",
            " [0 0 0 0 1 0 0 0 2 2 0 0 1 0 1 2 0 1 0 0 0 0 0 0]\n",
            " [1 2 0 0 0 0 0 1 0 0 0 0 0 1 0 1 0 0 1 2 0 0 1 0]\n",
            " [1 1 0 0 1 0 0 0 0 1 1 0 2 0 0 0 0 1 1 0 0 0 0 1]\n",
            " [0 1 1 0 1 2 1 0 1 0 0 0 0 1 0 1 0 0 0 0 1 0 0 0]]\n"
          ]
        },
        {
          "data": {
            "image/png": "[encoded data removed]",
            "text/plain": [
              "<Figure size 432x288 with 2 Axes>"
            ]
          },
          "metadata": {},
          "output_type": "display_data"
        }
      ]
    },
    {
      "cell_type": "markdown",
      "metadata": {
        "id": "_YhpASZsjpBy"
      },
      "source": [
        "Model Path Config"
      ]
    },
    {
      "cell_type": "code",
      "metadata": {
        "id": "H1HJvtHmbyNN"
      },
      "source": [
        "model_name = 'Fingerspell_Detector_Experiment5(40-epochs).h5'\n",
        "path = '/content/drive/MyDrive/Colab Notebooks/CNN Models/Experiment_5'\n",
        "model_path = os.path.join(path, model_name)"
      ],
      "execution_count": null,
      "outputs": []
    },
    {
      "cell_type": "markdown",
      "metadata": {
        "id": "D5V_raoXSruL"
      },
      "source": [
        "# Save the Model"
      ]
    },
    {
      "cell_type": "code",
      "metadata": {
        "id": "e_cAf6BnSqN2"
      },
      "source": [
        "# save the model\n",
        "model.save(model_path)"
      ],
      "execution_count": null,
      "outputs": []
    },
    {
      "cell_type": "markdown",
      "metadata": {
        "id": "NzDllii2-x3V"
      },
      "source": [
        "# Resume Training"
      ]
    },
    {
      "cell_type": "code",
      "metadata": {
        "id": "UKZo00n8-xga"
      },
      "source": [
        "# Load Model\n",
        "new_model = load_model(model_path)"
      ],
      "execution_count": null,
      "outputs": []
    },
    {
      "cell_type": "code",
      "metadata": {
        "colab": {
          "base_uri": "https://localhost:8080/"
        },
        "id": "NvTHa5tCli4o",
        "outputId": "fca4789e-6bb7-44e5-96b4-633b5e802f4a"
      },
      "source": [
        "# Test model before resuming training\n",
        "print(new_model.evaluate(test_batches, verbose=0))"
      ],
      "execution_count": null,
      "outputs": [
        {
          "output_type": "stream",
          "name": "stdout",
          "text": [
            "[0.453910231590271, 0.8583333492279053]\n"
          ]
        }
      ]
    },
    {
      "cell_type": "code",
      "metadata": {
        "colab": {
          "base_uri": "https://localhost:8080/"
        },
        "id": "swuR31T8QiiP",
        "outputId": "5a14ab09-80aa-4fdc-bbfa-2df38bf11645"
      },
      "source": [
        "# Resume Training\n",
        "new_model.fit(x=train_batches,\n",
        "          batch_size=batch_size,\n",
        "          epochs=epochs,\n",
        "          validation_data=valid_batches,\n",
        "          callbacks=callback_list)"
      ],
      "execution_count": null,
      "outputs": [
        {
          "output_type": "stream",
          "name": "stdout",
          "text": [
            "Epoch 1/10\n",
            "147/147 [==============================] - 451s 3s/step - loss: 0.3548 - accuracy: 0.8781 - val_loss: 0.6654 - val_accuracy: 0.7958\n",
            "Epoch 2/10\n",
            "147/147 [==============================] - 450s 3s/step - loss: 0.3237 - accuracy: 0.8931 - val_loss: 0.7116 - val_accuracy: 0.7792\n",
            "Epoch 3/10\n",
            "147/147 [==============================] - 452s 3s/step - loss: 0.3094 - accuracy: 0.8993 - val_loss: 0.6212 - val_accuracy: 0.8167\n",
            "Epoch 4/10\n",
            "147/147 [==============================] - 450s 3s/step - loss: 0.2856 - accuracy: 0.9047 - val_loss: 0.5653 - val_accuracy: 0.8271\n",
            "Epoch 5/10\n",
            "147/147 [==============================] - 453s 3s/step - loss: 0.3167 - accuracy: 0.8945 - val_loss: 0.5852 - val_accuracy: 0.8417\n",
            "\n",
            "Epoch 00005: val_accuracy improved from -inf to 0.84167, saving model to /content/drive/MyDrive/Colab Notebooks/CNN Models/Experiment_5/weights_improvements-05-0.84.hdf5\n",
            "Epoch 6/10\n",
            "147/147 [==============================] - 449s 3s/step - loss: 0.3046 - accuracy: 0.8904 - val_loss: 0.5537 - val_accuracy: 0.8417\n",
            "Epoch 7/10\n",
            "147/147 [==============================] - 445s 3s/step - loss: 0.3163 - accuracy: 0.8965 - val_loss: 0.6164 - val_accuracy: 0.8271\n",
            "Epoch 8/10\n",
            "147/147 [==============================] - 445s 3s/step - loss: 0.2948 - accuracy: 0.9020 - val_loss: 0.6747 - val_accuracy: 0.8146\n",
            "Epoch 9/10\n",
            "147/147 [==============================] - 445s 3s/step - loss: 0.3485 - accuracy: 0.8781 - val_loss: 0.5722 - val_accuracy: 0.8354\n",
            "Epoch 10/10\n",
            "147/147 [==============================] - 446s 3s/step - loss: 0.2888 - accuracy: 0.9047 - val_loss: 0.6589 - val_accuracy: 0.8125\n",
            "\n",
            "Epoch 00010: val_accuracy did not improve from 0.84167\n"
          ]
        },
        {
          "output_type": "execute_result",
          "data": {
            "text/plain": [
              "<keras.callbacks.History at 0x7f71107a5e10>"
            ]
          },
          "metadata": {},
          "execution_count": 36
        }
      ]
    },
    {
      "cell_type": "code",
      "metadata": {
        "colab": {
          "base_uri": "https://localhost:8080/"
        },
        "id": "EEwa-35bltce",
        "outputId": "b497c40e-f901-4b71-88e3-b24f7bb6f3fa"
      },
      "source": [
        "# Test model after training\n",
        "print(new_model.evaluate(test_batches))"
      ],
      "execution_count": null,
      "outputs": [
        {
          "output_type": "stream",
          "name": "stdout",
          "text": [
            "24/24 [==============================] - 17s 698ms/step - loss: 0.4702 - accuracy: 0.8583\n",
            "[0.47017353773117065, 0.8583333492279053]\n"
          ]
        }
      ]
    },
    {
      "cell_type": "code",
      "metadata": {
        "id": "AiMHrLbo8FES"
      },
      "source": [
        "model_name = 'Fingerspell_Detector_Experiment5(50-epochs).h5'\n",
        "path = '/content/drive/MyDrive/Colab Notebooks/CNN Models/Experiment_5'\n",
        "model_path = os.path.join(path, model_name)\n",
        "new_model.save(model_path)"
      ],
      "execution_count": null,
      "outputs": []
    }
  ]
}