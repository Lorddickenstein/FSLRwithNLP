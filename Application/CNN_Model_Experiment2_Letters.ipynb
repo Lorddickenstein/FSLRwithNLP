{
  "nbformat": 4,
  "nbformat_minor": 0,
  "metadata": {
    "colab": {
      "name": "CNN_Model_Experiment2_Letters.ipynb",
      "provenance": [],
      "collapsed_sections": [],
      "mount_file_id": "1UFtzwuGPGorjDEbpzVPeFdb2KR3tXPEM",
      "authorship_tag": "ABX9TyPP2mhGh0v9/u9sTaAfQbh/",
      "include_colab_link": true
    },
    "kernelspec": {
      "name": "python3",
      "display_name": "Python 3"
    },
    "language_info": {
      "name": "python"
    }
  },
  "cells": [
    {
      "cell_type": "markdown",
      "metadata": {
        "id": "view-in-github",
        "colab_type": "text"
      },
      "source": [
        "<a href=\"https://colab.research.google.com/github/Lorddickenstein/FSLRwithNLP/blob/main/Application/CNN_Model_Experiment2_Letters.ipynb\" target=\"_parent\"><img src=\"https://colab.research.google.com/assets/colab-badge.svg\" alt=\"Open In Colab\"/></a>"
      ]
    },
    {
      "cell_type": "code",
      "metadata": {
        "id": "V7olocDE1a8h"
      },
      "source": [
        "from tensorflow import keras\n",
        "from keras.models import Sequential, load_model\n",
        "from keras.layers import Activation, Dense, Flatten, MaxPool2D, Conv2D, Dropout, BatchNormalization\n",
        "from keras.metrics import categorical_crossentropy\n",
        "from keras.preprocessing.image import ImageDataGenerator\n",
        "from sklearn.metrics import confusion_matrix\n",
        "\n",
        "import matplotlib.pyplot as plt\n",
        "import numpy as np\n",
        "import pandas as pd\n",
        "import os\n",
        "import cv2\n",
        "import glob\n",
        "import warnings\n",
        "import random\n",
        "import shutil\n",
        "import itertools\n",
        "warnings.simplefilter(action='ignore', category=FutureWarning)\n",
        "%matplotlib inline"
      ],
      "execution_count": 2,
      "outputs": []
    },
    {
      "cell_type": "code",
      "metadata": {
        "colab": {
          "base_uri": "https://localhost:8080/"
        },
        "id": "EYk1fJHRoWT9",
        "outputId": "f0437b69-83ae-490e-872b-b05259f63afb"
      },
      "source": [
        "from google.colab import drive\n",
        "drive.mount('/content/drive')"
      ],
      "execution_count": 1,
      "outputs": [
        {
          "output_type": "stream",
          "name": "stdout",
          "text": [
            "Mounted at /content/drive\n"
          ]
        }
      ]
    },
    {
      "cell_type": "markdown",
      "metadata": {
        "id": "ABnE5PcZ3GqA"
      },
      "source": [
        "# Data Preparation"
      ]
    },
    {
      "cell_type": "code",
      "metadata": {
        "id": "YVj4UZo53Iny"
      },
      "source": [
        "# Change the root folder when experimenting on a different folder\n",
        "root = '/content/drive/MyDrive/Colab Notebooks/Datasets/OurDataset/Experiments/Experiment_2'\n",
        "\n",
        "letters = ['A', 'B', 'C', 'D', 'E',\n",
        "           'F', 'G', 'H', 'I', 'J',\n",
        "           'K', 'L', 'M', 'N', 'O',\n",
        "           'P', 'Q', 'R', 'S', 'T',\n",
        "           'U', 'V', 'W', 'X', 'Y',\n",
        "           'Z']"
      ],
      "execution_count": 9,
      "outputs": []
    },
    {
      "cell_type": "code",
      "metadata": {
        "id": "mEa-fSO34kbM"
      },
      "source": [
        "def make_dir(path, class_obj):\n",
        "  for obj in class_obj:\n",
        "    path_class = os.path.join(path, obj)\n",
        "    os.makedirs(path_class)"
      ],
      "execution_count": 4,
      "outputs": []
    },
    {
      "cell_type": "code",
      "metadata": {
        "id": "_92RpHb13_jn"
      },
      "source": [
        "letters_root = os.path.join(root, 'Letters')\n",
        "\n",
        "# Create Train, Valid, Test directories\n",
        "train_path = os.path.join(letters_root, 'Train')\n",
        "valid_path = os.path.join(letters_root, 'Valid')\n",
        "test_path = os.path.join(letters_root, 'Test')\n",
        "\n",
        "if os.path.isdir(train_path) is False:\n",
        "  make_dir(train_path, letters)\n",
        "  make_dir(valid_path, letters)\n",
        "  make_dir(test_path, letters)\n",
        "else:\n",
        "  print(\"Directory already exists.\")\n"
      ],
      "execution_count": 5,
      "outputs": []
    },
    {
      "cell_type": "markdown",
      "metadata": {
        "id": "1C5mBur54_Q8"
      },
      "source": [
        "# Populate Train, Valid and Test Folders"
      ]
    },
    {
      "cell_type": "code",
      "metadata": {
        "id": "DWBcgx8e8zx3"
      },
      "source": [
        "# Make a folder for every classes\n",
        "dataset_experiment = '/content/drive/MyDrive/Colab Notebooks/Datasets/OurDataset/Experiments/Dataset_Experiments/Letters'\n",
        "if os.path.isdir(dataset_experiment) is False:\n",
        "  make_dir(dataset_experiment, letters)\n",
        "else:\n",
        "  print(\"Directory already exists.\")"
      ],
      "execution_count": 6,
      "outputs": []
    },
    {
      "cell_type": "code",
      "metadata": {
        "id": "2e7CfkMk7k-B"
      },
      "source": [
        "# Copy Dataset from Renamed Dataset to Experiment Dataset\n",
        "dataset_root = '/content/drive/MyDrive/Colab Notebooks/Datasets/OurDataset/Raw_Dataset_Renamed'\n",
        "dataset_path = os.path.join(dataset_root, 'Letters')\n",
        "for letter in letters:\n",
        "  path_class = os.path.join(dataset_path, letter)\n",
        "  path_class_dest = os.path.join(dataset_experiment, letter)\n",
        "  for item in os.listdir(path_class):\n",
        "    shutil.copy(os.path.join(path_class, item), path_class_dest)"
      ],
      "execution_count": 7,
      "outputs": []
    },
    {
      "cell_type": "code",
      "metadata": {
        "id": "1ulSUr3h8CiV"
      },
      "source": [
        "# Copy all images from dataset experiments folder to train folder\n",
        "for letter in letters:\n",
        "  path_class = os.path.join(dataset_experiment, letter)\n",
        "  path_class_dest = os.path.join(train_path, letter)\n",
        "  for item in os.listdir(path_class):\n",
        "    shutil.copy(os.path.join(path_class, item), path_class_dest)"
      ],
      "execution_count": 8,
      "outputs": []
    },
    {
      "cell_type": "code",
      "metadata": {
        "id": "XpQPIZK-49ag"
      },
      "source": [
        "valid_size = 20\n",
        "test_size = 10\n",
        "\n",
        "# Valid\n",
        "for letter in letters:\n",
        "  path_class = os.path.join(train_path, letter)\n",
        "  os.chdir(path_class)\n",
        "  if len(os.listdir(path_class)) != 0:\n",
        "    for item in random.sample(glob.glob(letter + '_*'), valid_size):\n",
        "      shutil.move(item, os.path.join(valid_path, letter))\n",
        "\n",
        "# Test\n",
        "for letter in letters:\n",
        "  path_class = os.path.join(train_path, letter)\n",
        "  os.chdir(path_class)\n",
        "  if len(os.listdir(path_class)) != 0:\n",
        "    for item in random.sample(glob.glob(letter + '_*'), test_size):\n",
        "      shutil.move(item, os.path.join(test_path, letter))"
      ],
      "execution_count": 10,
      "outputs": []
    },
    {
      "cell_type": "code",
      "metadata": {
        "colab": {
          "base_uri": "https://localhost:8080/"
        },
        "id": "0c2BXkIMAbs-",
        "outputId": "2ccd90ac-8e63-493b-9423-5905a6f13061"
      },
      "source": [
        "# Verify number of images in Experiment\n",
        "for letter in letters:\n",
        "  train_path_experiment = os.path.join(train_path, letter)\n",
        "  valid_path_experiment = os.path.join(valid_path, letter)\n",
        "  test_path_experiment = os.path.join(test_path, letter)\n",
        "  print(letter, len(os.listdir(train_path_experiment)), len(os.listdir(valid_path_experiment)), len(os.listdir(test_path_experiment)))"
      ],
      "execution_count": 11,
      "outputs": [
        {
          "output_type": "stream",
          "name": "stdout",
          "text": [
            "A 64 20 10\n",
            "B 63 20 10\n",
            "C 60 20 10\n",
            "D 64 20 10\n",
            "E 68 20 10\n",
            "F 64 20 10\n",
            "G 63 20 10\n",
            "H 60 20 10\n",
            "I 65 20 10\n",
            "J 0 0 0\n",
            "K 67 20 10\n",
            "L 62 20 10\n",
            "M 60 20 10\n",
            "N 57 20 10\n",
            "O 59 20 10\n",
            "P 57 20 10\n",
            "Q 55 20 10\n",
            "R 53 20 10\n",
            "S 57 20 10\n",
            "T 56 20 10\n",
            "U 52 20 10\n",
            "V 65 20 10\n",
            "W 66 20 10\n",
            "X 63 20 10\n",
            "Y 69 20 10\n",
            "Z 0 0 0\n"
          ]
        }
      ]
    },
    {
      "cell_type": "markdown",
      "metadata": {
        "id": "9nNm0ZepRw7Y"
      },
      "source": [
        "# Preprocess Image"
      ]
    },
    {
      "cell_type": "code",
      "metadata": {
        "id": "L3qntRwj7san"
      },
      "source": [
        "image_size = (224, 224)"
      ],
      "execution_count": 12,
      "outputs": []
    },
    {
      "cell_type": "code",
      "metadata": {
        "colab": {
          "base_uri": "https://localhost:8080/"
        },
        "id": "13PbGi0HNhx-",
        "outputId": "68650d23-ccc8-46eb-ecba-6adf5f289c0c"
      },
      "source": [
        "train_batches = ImageDataGenerator(preprocessing_function=keras.applications.vgg16.preprocess_input) \\\n",
        "    .flow_from_directory(directory=train_path, target_size=image_size, classes=letters, batch_size=10)\n",
        "valid_batches = ImageDataGenerator(preprocessing_function=keras.applications.vgg16.preprocess_input) \\\n",
        "    .flow_from_directory(directory=valid_path, target_size=image_size, classes=letters, batch_size=10)\n",
        "test_batches = ImageDataGenerator(preprocessing_function=keras.applications.vgg16.preprocess_input) \\\n",
        "    .flow_from_directory(directory=test_path, target_size=image_size, classes=letters, batch_size=10)"
      ],
      "execution_count": 13,
      "outputs": [
        {
          "output_type": "stream",
          "name": "stdout",
          "text": [
            "Found 1469 images belonging to 26 classes.\n",
            "Found 480 images belonging to 26 classes.\n",
            "Found 240 images belonging to 26 classes.\n"
          ]
        }
      ]
    },
    {
      "cell_type": "code",
      "metadata": {
        "id": "l0nLqUsRQTPt"
      },
      "source": [
        "# Subtract empty class\n",
        "assert train_batches.n == 1469\n",
        "assert valid_batches.n == (20*26) - 40\n",
        "assert test_batches.n == (10*26) - 20"
      ],
      "execution_count": 14,
      "outputs": []
    },
    {
      "cell_type": "code",
      "metadata": {
        "id": "P-MqRzvBRD_F"
      },
      "source": [
        "imgs, labels = next(train_batches)"
      ],
      "execution_count": 15,
      "outputs": []
    },
    {
      "cell_type": "code",
      "metadata": {
        "id": "axby_T73RExW"
      },
      "source": [
        "# Plot 10 sample images\n",
        "def plotImages(images_arr):\n",
        "  fig, axes = plt.subplots(1, 10, figsize=(20, 20))\n",
        "  axes = axes.flatten()\n",
        "  for img, ax in zip(images_arr, axes):\n",
        "    ax.imshow(img)\n",
        "    ax.axis('off')\n",
        "  plt.tight_layout()\n",
        "  plt.show()"
      ],
      "execution_count": 16,
      "outputs": []
    },
    {
      "cell_type": "code",
      "metadata": {
        "colab": {
          "base_uri": "https://localhost:8080/",
          "height": 645
        },
        "id": "r5DQPu9MRGbN",
        "outputId": "602098df-8f63-4f54-d1d2-7bbfedc337c3"
      },
      "source": [
        "plotImages(imgs)\n",
        "print(labels)"
      ],
      "execution_count": 17,
      "outputs": [
        {
          "output_type": "stream",
          "name": "stderr",
          "text": [
            "Clipping input data to the valid range for imshow with RGB data ([0..1] for floats or [0..255] for integers).\n",
            "Clipping input data to the valid range for imshow with RGB data ([0..1] for floats or [0..255] for integers).\n",
            "Clipping input data to the valid range for imshow with RGB data ([0..1] for floats or [0..255] for integers).\n",
            "Clipping input data to the valid range for imshow with RGB data ([0..1] for floats or [0..255] for integers).\n",
            "Clipping input data to the valid range for imshow with RGB data ([0..1] for floats or [0..255] for integers).\n",
            "Clipping input data to the valid range for imshow with RGB data ([0..1] for floats or [0..255] for integers).\n",
            "Clipping input data to the valid range for imshow with RGB data ([0..1] for floats or [0..255] for integers).\n",
            "Clipping input data to the valid range for imshow with RGB data ([0..1] for floats or [0..255] for integers).\n",
            "Clipping input data to the valid range for imshow with RGB data ([0..1] for floats or [0..255] for integers).\n",
            "Clipping input data to the valid range for imshow with RGB data ([0..1] for floats or [0..255] for integers).\n"
          ]
        },
        {
          "output_type": "display_data",
          "data": {
            "image/png": "[encoded data removed]",
            "text/plain": [
              "<Figure size 1440x1440 with 10 Axes>"
            ]
          },
          "metadata": {
            "needs_background": "light"
          }
        },
        {
          "output_type": "stream",
          "name": "stdout",
          "text": [
            "[[1. 0. 0. 0. 0. 0. 0. 0. 0. 0. 0. 0. 0. 0. 0. 0. 0. 0. 0. 0. 0. 0. 0. 0.\n",
            "  0. 0.]\n",
            " [0. 0. 0. 0. 0. 0. 0. 0. 1. 0. 0. 0. 0. 0. 0. 0. 0. 0. 0. 0. 0. 0. 0. 0.\n",
            "  0. 0.]\n",
            " [0. 0. 0. 0. 0. 0. 0. 0. 0. 0. 0. 0. 0. 0. 0. 0. 0. 0. 0. 0. 0. 0. 0. 0.\n",
            "  1. 0.]\n",
            " [0. 0. 0. 0. 0. 0. 0. 0. 0. 0. 0. 0. 0. 0. 0. 0. 0. 0. 0. 1. 0. 0. 0. 0.\n",
            "  0. 0.]\n",
            " [0. 0. 0. 0. 0. 0. 0. 0. 0. 0. 0. 0. 0. 0. 0. 0. 0. 0. 0. 0. 0. 0. 0. 1.\n",
            "  0. 0.]\n",
            " [0. 0. 0. 0. 0. 0. 0. 0. 0. 0. 0. 0. 0. 0. 0. 0. 0. 0. 0. 0. 0. 0. 0. 1.\n",
            "  0. 0.]\n",
            " [0. 0. 0. 0. 0. 0. 0. 0. 0. 0. 0. 0. 0. 0. 0. 0. 0. 0. 1. 0. 0. 0. 0. 0.\n",
            "  0. 0.]\n",
            " [0. 0. 0. 0. 0. 0. 0. 0. 0. 0. 0. 0. 0. 0. 0. 0. 0. 0. 0. 0. 0. 0. 0. 1.\n",
            "  0. 0.]\n",
            " [0. 0. 0. 0. 0. 1. 0. 0. 0. 0. 0. 0. 0. 0. 0. 0. 0. 0. 0. 0. 0. 0. 0. 0.\n",
            "  0. 0.]\n",
            " [0. 0. 0. 0. 0. 0. 0. 0. 0. 0. 0. 0. 1. 0. 0. 0. 0. 0. 0. 0. 0. 0. 0. 0.\n",
            "  0. 0.]]\n"
          ]
        }
      ]
    },
    {
      "cell_type": "markdown",
      "metadata": {
        "id": "w2CvOCafRu6c"
      },
      "source": [
        "# Build and Train Model"
      ]
    },
    {
      "cell_type": "code",
      "metadata": {
        "colab": {
          "base_uri": "https://localhost:8080/"
        },
        "id": "M24s9czMRp6o",
        "outputId": "0eaffd42-40f5-4468-f49d-9f50ed7712fe"
      },
      "source": [
        "# Count the total classes that the model must know\n",
        "total_classes = len(os.listdir(train_path))\n",
        "print(total_classes)"
      ],
      "execution_count": 18,
      "outputs": [
        {
          "output_type": "stream",
          "name": "stdout",
          "text": [
            "26\n"
          ]
        }
      ]
    },
    {
      "cell_type": "markdown",
      "metadata": {
        "id": "7ph5O2WfxGmF"
      },
      "source": [
        "# Model #1\n",
        "Choose only one model."
      ]
    },
    {
      "cell_type": "code",
      "metadata": {
        "colab": {
          "base_uri": "https://localhost:8080/"
        },
        "id": "r1_iQEv7Ruhm",
        "outputId": "fcf0b32f-8a03-4555-998f-61661db13ddf"
      },
      "source": [
        "# Create the Sequential Model\n",
        "model = Sequential()\n",
        "\n",
        "# Add Layers\n",
        "model.add(Conv2D(32, kernel_size=(3, 3), activation='relu', input_shape=(224, 224, 3), padding='same'))\n",
        "model.add(MaxPool2D(pool_size=(2, 2), strides=2))\n",
        "model.add(Conv2D(64, kernel_size=(3, 3), activation='relu', padding='same'))\n",
        "model.add(MaxPool2D(pool_size=(2, 2), strides=2))\n",
        "model.add(Flatten())\n",
        "model.add(Dense(128, activation='relu'))\n",
        "model.add(Dropout(0.50))\n",
        "model.add(Dense(total_classes, activation='softmax'))\n",
        "\n",
        "# Summary of layers\n",
        "model.summary()"
      ],
      "execution_count": 20,
      "outputs": [
        {
          "output_type": "stream",
          "name": "stdout",
          "text": [
            "Model: \"sequential\"\n",
            "_________________________________________________________________\n",
            "Layer (type)                 Output Shape              Param #   \n",
            "=================================================================\n",
            "conv2d (Conv2D)              (None, 224, 224, 32)      896       \n",
            "_________________________________________________________________\n",
            "max_pooling2d (MaxPooling2D) (None, 112, 112, 32)      0         \n",
            "_________________________________________________________________\n",
            "conv2d_1 (Conv2D)            (None, 112, 112, 64)      18496     \n",
            "_________________________________________________________________\n",
            "max_pooling2d_1 (MaxPooling2 (None, 56, 56, 64)        0         \n",
            "_________________________________________________________________\n",
            "dropout (Dropout)            (None, 56, 56, 64)        0         \n",
            "_________________________________________________________________\n",
            "flatten (Flatten)            (None, 200704)            0         \n",
            "_________________________________________________________________\n",
            "dense (Dense)                (None, 128)               25690240  \n",
            "_________________________________________________________________\n",
            "dropout_1 (Dropout)          (None, 128)               0         \n",
            "_________________________________________________________________\n",
            "dense_1 (Dense)              (None, 26)                3354      \n",
            "=================================================================\n",
            "Total params: 25,712,986\n",
            "Trainable params: 25,712,986\n",
            "Non-trainable params: 0\n",
            "_________________________________________________________________\n"
          ]
        }
      ]
    },
    {
      "cell_type": "markdown",
      "metadata": {
        "id": "s-NL2hIyxJd2"
      },
      "source": [
        "# Model #2 VGG16\n",
        "Choose only one model."
      ]
    },
    {
      "cell_type": "code",
      "metadata": {
        "colab": {
          "base_uri": "https://localhost:8080/"
        },
        "id": "8vuqtFgu_xfy",
        "outputId": "8c2faa31-fa68-4dc7-d958-a60e59802785"
      },
      "source": [
        "# VGG16 Model\n",
        "vgg16_model = keras.applications.vgg16.VGG16()"
      ],
      "execution_count": null,
      "outputs": [
        {
          "output_type": "stream",
          "name": "stdout",
          "text": [
            "Downloading data from https://storage.googleapis.com/tensorflow/keras-applications/vgg16/vgg16_weights_tf_dim_ordering_tf_kernels.h5\n",
            "553467904/553467096 [==============================] - 4s 0us/step\n",
            "553476096/553467096 [==============================] - 4s 0us/step\n"
          ]
        }
      ]
    },
    {
      "cell_type": "code",
      "metadata": {
        "colab": {
          "base_uri": "https://localhost:8080/"
        },
        "id": "4dlyVBs2AdC-",
        "outputId": "d49886f1-7cd3-4380-ab0e-1dc9dd728e70"
      },
      "source": [
        "vgg16_model.summary()"
      ],
      "execution_count": null,
      "outputs": [
        {
          "output_type": "stream",
          "name": "stdout",
          "text": [
            "Model: \"vgg16\"\n",
            "_________________________________________________________________\n",
            "Layer (type)                 Output Shape              Param #   \n",
            "=================================================================\n",
            "input_1 (InputLayer)         [(None, 224, 224, 3)]     0         \n",
            "_________________________________________________________________\n",
            "block1_conv1 (Conv2D)        (None, 224, 224, 64)      1792      \n",
            "_________________________________________________________________\n",
            "block1_conv2 (Conv2D)        (None, 224, 224, 64)      36928     \n",
            "_________________________________________________________________\n",
            "block1_pool (MaxPooling2D)   (None, 112, 112, 64)      0         \n",
            "_________________________________________________________________\n",
            "block2_conv1 (Conv2D)        (None, 112, 112, 128)     73856     \n",
            "_________________________________________________________________\n",
            "block2_conv2 (Conv2D)        (None, 112, 112, 128)     147584    \n",
            "_________________________________________________________________\n",
            "block2_pool (MaxPooling2D)   (None, 56, 56, 128)       0         \n",
            "_________________________________________________________________\n",
            "block3_conv1 (Conv2D)        (None, 56, 56, 256)       295168    \n",
            "_________________________________________________________________\n",
            "block3_conv2 (Conv2D)        (None, 56, 56, 256)       590080    \n",
            "_________________________________________________________________\n",
            "block3_conv3 (Conv2D)        (None, 56, 56, 256)       590080    \n",
            "_________________________________________________________________\n",
            "block3_pool (MaxPooling2D)   (None, 28, 28, 256)       0         \n",
            "_________________________________________________________________\n",
            "block4_conv1 (Conv2D)        (None, 28, 28, 512)       1180160   \n",
            "_________________________________________________________________\n",
            "block4_conv2 (Conv2D)        (None, 28, 28, 512)       2359808   \n",
            "_________________________________________________________________\n",
            "block4_conv3 (Conv2D)        (None, 28, 28, 512)       2359808   \n",
            "_________________________________________________________________\n",
            "block4_pool (MaxPooling2D)   (None, 14, 14, 512)       0         \n",
            "_________________________________________________________________\n",
            "block5_conv1 (Conv2D)        (None, 14, 14, 512)       2359808   \n",
            "_________________________________________________________________\n",
            "block5_conv2 (Conv2D)        (None, 14, 14, 512)       2359808   \n",
            "_________________________________________________________________\n",
            "block5_conv3 (Conv2D)        (None, 14, 14, 512)       2359808   \n",
            "_________________________________________________________________\n",
            "block5_pool (MaxPooling2D)   (None, 7, 7, 512)         0         \n",
            "_________________________________________________________________\n",
            "flatten (Flatten)            (None, 25088)             0         \n",
            "_________________________________________________________________\n",
            "fc1 (Dense)                  (None, 4096)              102764544 \n",
            "_________________________________________________________________\n",
            "fc2 (Dense)                  (None, 4096)              16781312  \n",
            "_________________________________________________________________\n",
            "predictions (Dense)          (None, 1000)              4097000   \n",
            "=================================================================\n",
            "Total params: 138,357,544\n",
            "Trainable params: 138,357,544\n",
            "Non-trainable params: 0\n",
            "_________________________________________________________________\n"
          ]
        }
      ]
    },
    {
      "cell_type": "code",
      "metadata": {
        "id": "3l4Dnen1AnWn"
      },
      "source": [
        "# Create the model\n",
        "model = Sequential()\n",
        "\n",
        "# Copy the layer from the vgg16_model to model\n",
        "for layer in vgg16_model.layers[:-1]:\n",
        "  model.add(layer)"
      ],
      "execution_count": null,
      "outputs": []
    },
    {
      "cell_type": "code",
      "metadata": {
        "colab": {
          "base_uri": "https://localhost:8080/"
        },
        "id": "xsagqoozA6_B",
        "outputId": "5ffd8ae4-1aef-4c6b-9ce2-2702092b276b"
      },
      "source": [
        "model.summary()"
      ],
      "execution_count": null,
      "outputs": [
        {
          "output_type": "stream",
          "name": "stdout",
          "text": [
            "Model: \"sequential\"\n",
            "_________________________________________________________________\n",
            "Layer (type)                 Output Shape              Param #   \n",
            "=================================================================\n",
            "block1_conv1 (Conv2D)        (None, 224, 224, 64)      1792      \n",
            "_________________________________________________________________\n",
            "block1_conv2 (Conv2D)        (None, 224, 224, 64)      36928     \n",
            "_________________________________________________________________\n",
            "block1_pool (MaxPooling2D)   (None, 112, 112, 64)      0         \n",
            "_________________________________________________________________\n",
            "block2_conv1 (Conv2D)        (None, 112, 112, 128)     73856     \n",
            "_________________________________________________________________\n",
            "block2_conv2 (Conv2D)        (None, 112, 112, 128)     147584    \n",
            "_________________________________________________________________\n",
            "block2_pool (MaxPooling2D)   (None, 56, 56, 128)       0         \n",
            "_________________________________________________________________\n",
            "block3_conv1 (Conv2D)        (None, 56, 56, 256)       295168    \n",
            "_________________________________________________________________\n",
            "block3_conv2 (Conv2D)        (None, 56, 56, 256)       590080    \n",
            "_________________________________________________________________\n",
            "block3_conv3 (Conv2D)        (None, 56, 56, 256)       590080    \n",
            "_________________________________________________________________\n",
            "block3_pool (MaxPooling2D)   (None, 28, 28, 256)       0         \n",
            "_________________________________________________________________\n",
            "block4_conv1 (Conv2D)        (None, 28, 28, 512)       1180160   \n",
            "_________________________________________________________________\n",
            "block4_conv2 (Conv2D)        (None, 28, 28, 512)       2359808   \n",
            "_________________________________________________________________\n",
            "block4_conv3 (Conv2D)        (None, 28, 28, 512)       2359808   \n",
            "_________________________________________________________________\n",
            "block4_pool (MaxPooling2D)   (None, 14, 14, 512)       0         \n",
            "_________________________________________________________________\n",
            "block5_conv1 (Conv2D)        (None, 14, 14, 512)       2359808   \n",
            "_________________________________________________________________\n",
            "block5_conv2 (Conv2D)        (None, 14, 14, 512)       2359808   \n",
            "_________________________________________________________________\n",
            "block5_conv3 (Conv2D)        (None, 14, 14, 512)       2359808   \n",
            "_________________________________________________________________\n",
            "block5_pool (MaxPooling2D)   (None, 7, 7, 512)         0         \n",
            "_________________________________________________________________\n",
            "flatten (Flatten)            (None, 25088)             0         \n",
            "_________________________________________________________________\n",
            "fc1 (Dense)                  (None, 4096)              102764544 \n",
            "_________________________________________________________________\n",
            "fc2 (Dense)                  (None, 4096)              16781312  \n",
            "=================================================================\n",
            "Total params: 134,260,544\n",
            "Trainable params: 134,260,544\n",
            "Non-trainable params: 0\n",
            "_________________________________________________________________\n"
          ]
        }
      ]
    },
    {
      "cell_type": "code",
      "metadata": {
        "id": "5cc0R8dUBLJp"
      },
      "source": [
        "# Add the prediction layer\n",
        "model.add(Dense(total_classes, activation='softmax'))"
      ],
      "execution_count": null,
      "outputs": []
    },
    {
      "cell_type": "code",
      "metadata": {
        "colab": {
          "base_uri": "https://localhost:8080/"
        },
        "id": "agaWT-DwBqif",
        "outputId": "43c0af23-e798-42f9-df83-e20c8c29f04f"
      },
      "source": [
        "model.summary()"
      ],
      "execution_count": null,
      "outputs": [
        {
          "output_type": "stream",
          "name": "stdout",
          "text": [
            "Model: \"sequential\"\n",
            "_________________________________________________________________\n",
            "Layer (type)                 Output Shape              Param #   \n",
            "=================================================================\n",
            "block1_conv1 (Conv2D)        (None, 224, 224, 64)      1792      \n",
            "_________________________________________________________________\n",
            "block1_conv2 (Conv2D)        (None, 224, 224, 64)      36928     \n",
            "_________________________________________________________________\n",
            "block1_pool (MaxPooling2D)   (None, 112, 112, 64)      0         \n",
            "_________________________________________________________________\n",
            "block2_conv1 (Conv2D)        (None, 112, 112, 128)     73856     \n",
            "_________________________________________________________________\n",
            "block2_conv2 (Conv2D)        (None, 112, 112, 128)     147584    \n",
            "_________________________________________________________________\n",
            "block2_pool (MaxPooling2D)   (None, 56, 56, 128)       0         \n",
            "_________________________________________________________________\n",
            "block3_conv1 (Conv2D)        (None, 56, 56, 256)       295168    \n",
            "_________________________________________________________________\n",
            "block3_conv2 (Conv2D)        (None, 56, 56, 256)       590080    \n",
            "_________________________________________________________________\n",
            "block3_conv3 (Conv2D)        (None, 56, 56, 256)       590080    \n",
            "_________________________________________________________________\n",
            "block3_pool (MaxPooling2D)   (None, 28, 28, 256)       0         \n",
            "_________________________________________________________________\n",
            "block4_conv1 (Conv2D)        (None, 28, 28, 512)       1180160   \n",
            "_________________________________________________________________\n",
            "block4_conv2 (Conv2D)        (None, 28, 28, 512)       2359808   \n",
            "_________________________________________________________________\n",
            "block4_conv3 (Conv2D)        (None, 28, 28, 512)       2359808   \n",
            "_________________________________________________________________\n",
            "block4_pool (MaxPooling2D)   (None, 14, 14, 512)       0         \n",
            "_________________________________________________________________\n",
            "block5_conv1 (Conv2D)        (None, 14, 14, 512)       2359808   \n",
            "_________________________________________________________________\n",
            "block5_conv2 (Conv2D)        (None, 14, 14, 512)       2359808   \n",
            "_________________________________________________________________\n",
            "block5_conv3 (Conv2D)        (None, 14, 14, 512)       2359808   \n",
            "_________________________________________________________________\n",
            "block5_pool (MaxPooling2D)   (None, 7, 7, 512)         0         \n",
            "_________________________________________________________________\n",
            "flatten (Flatten)            (None, 25088)             0         \n",
            "_________________________________________________________________\n",
            "fc1 (Dense)                  (None, 4096)              102764544 \n",
            "_________________________________________________________________\n",
            "fc2 (Dense)                  (None, 4096)              16781312  \n",
            "_________________________________________________________________\n",
            "dense (Dense)                (None, 26)                106522    \n",
            "=================================================================\n",
            "Total params: 134,367,066\n",
            "Trainable params: 134,367,066\n",
            "Non-trainable params: 0\n",
            "_________________________________________________________________\n"
          ]
        }
      ]
    },
    {
      "cell_type": "markdown",
      "metadata": {
        "id": "hs45ERh5xX2S"
      },
      "source": [
        "# Train the model"
      ]
    },
    {
      "cell_type": "code",
      "metadata": {
        "colab": {
          "base_uri": "https://localhost:8080/"
        },
        "id": "uhg7QQtsR_ec",
        "outputId": "b93156c6-d0b3-4d9c-ce17-c06b9eba33aa"
      },
      "source": [
        "# Create the connection and train the model\n",
        "model.compile(loss='categorical_crossentropy', optimizer=keras.optimizers.Adam(), metrics=['accuracy'])\n",
        "model.fit(x=train_batches, validation_data=valid_batches, batch_size=15, epochs=20)"
      ],
      "execution_count": 21,
      "outputs": [
        {
          "output_type": "stream",
          "name": "stdout",
          "text": [
            "Epoch 1/20\n",
            "147/147 [==============================] - 147s 992ms/step - loss: 32.5017 - accuracy: 0.0674 - val_loss: 2.8809 - val_accuracy: 0.2188\n",
            "Epoch 2/20\n",
            "147/147 [==============================] - 145s 989ms/step - loss: 2.6345 - accuracy: 0.2791 - val_loss: 2.3627 - val_accuracy: 0.3562\n",
            "Epoch 3/20\n",
            "147/147 [==============================] - 146s 991ms/step - loss: 1.6788 - accuracy: 0.5085 - val_loss: 2.0474 - val_accuracy: 0.4208\n",
            "Epoch 4/20\n",
            "147/147 [==============================] - 146s 991ms/step - loss: 1.0387 - accuracy: 0.6991 - val_loss: 2.1660 - val_accuracy: 0.4500\n",
            "Epoch 5/20\n",
            "147/147 [==============================] - 146s 990ms/step - loss: 0.6447 - accuracy: 0.8026 - val_loss: 2.1739 - val_accuracy: 0.4979\n",
            "Epoch 6/20\n",
            "147/147 [==============================] - 145s 984ms/step - loss: 0.4902 - accuracy: 0.8496 - val_loss: 2.1383 - val_accuracy: 0.4750\n",
            "Epoch 7/20\n",
            "147/147 [==============================] - 145s 988ms/step - loss: 0.3296 - accuracy: 0.9013 - val_loss: 2.3144 - val_accuracy: 0.4958\n",
            "Epoch 8/20\n",
            "147/147 [==============================] - 144s 983ms/step - loss: 0.3306 - accuracy: 0.9013 - val_loss: 2.0691 - val_accuracy: 0.4688\n",
            "Epoch 9/20\n",
            "147/147 [==============================] - 146s 990ms/step - loss: 0.2470 - accuracy: 0.9272 - val_loss: 2.3490 - val_accuracy: 0.5208\n",
            "Epoch 10/20\n",
            "147/147 [==============================] - 146s 990ms/step - loss: 0.5776 - accuracy: 0.8938 - val_loss: 2.7519 - val_accuracy: 0.4938\n",
            "Epoch 11/20\n",
            "147/147 [==============================] - 145s 988ms/step - loss: 0.2735 - accuracy: 0.9285 - val_loss: 3.0351 - val_accuracy: 0.5063\n",
            "Epoch 12/20\n",
            "147/147 [==============================] - 145s 989ms/step - loss: 0.2228 - accuracy: 0.9292 - val_loss: 3.1624 - val_accuracy: 0.5042\n",
            "Epoch 13/20\n",
            "147/147 [==============================] - 145s 986ms/step - loss: 0.2142 - accuracy: 0.9469 - val_loss: 3.7393 - val_accuracy: 0.5208\n",
            "Epoch 14/20\n",
            "147/147 [==============================] - 145s 985ms/step - loss: 0.2721 - accuracy: 0.9278 - val_loss: 3.3779 - val_accuracy: 0.4938\n",
            "Epoch 15/20\n",
            "147/147 [==============================] - 148s 1s/step - loss: 0.2665 - accuracy: 0.9346 - val_loss: 3.5048 - val_accuracy: 0.5083\n",
            "Epoch 16/20\n",
            "147/147 [==============================] - 146s 992ms/step - loss: 0.2468 - accuracy: 0.9421 - val_loss: 3.6720 - val_accuracy: 0.5000\n",
            "Epoch 17/20\n",
            "147/147 [==============================] - 147s 1s/step - loss: 0.2241 - accuracy: 0.9476 - val_loss: 3.0203 - val_accuracy: 0.5042\n",
            "Epoch 18/20\n",
            "147/147 [==============================] - 147s 1s/step - loss: 0.1723 - accuracy: 0.9564 - val_loss: 2.6864 - val_accuracy: 0.5104\n",
            "Epoch 19/20\n",
            "147/147 [==============================] - 146s 994ms/step - loss: 0.1936 - accuracy: 0.9449 - val_loss: 3.2458 - val_accuracy: 0.4938\n",
            "Epoch 20/20\n",
            "147/147 [==============================] - 146s 996ms/step - loss: 0.1766 - accuracy: 0.9578 - val_loss: 2.8490 - val_accuracy: 0.5063\n"
          ]
        },
        {
          "output_type": "execute_result",
          "data": {
            "text/plain": [
              "<keras.callbacks.History at 0x7ff564b97dd0>"
            ]
          },
          "metadata": {},
          "execution_count": 21
        }
      ]
    },
    {
      "cell_type": "code",
      "metadata": {
        "colab": {
          "base_uri": "https://localhost:8080/"
        },
        "id": "sGx3wxwYT3RE",
        "outputId": "ee459598-9a20-48a0-aad5-b9b8c2515fee"
      },
      "source": [
        "# Evaluate the model with test_sets\n",
        "print(model.evaluate(test_batches))"
      ],
      "execution_count": 22,
      "outputs": [
        {
          "output_type": "stream",
          "name": "stdout",
          "text": [
            "24/24 [==============================] - 6s 232ms/step - loss: 2.7944 - accuracy: 0.5167\n",
            "[2.7943549156188965, 0.5166666507720947]\n"
          ]
        }
      ]
    },
    {
      "cell_type": "code",
      "metadata": {
        "id": "JP5oSmZqSIT0"
      },
      "source": [
        "predictions = model.predict(x=test_batches, verbose=0)"
      ],
      "execution_count": 23,
      "outputs": []
    },
    {
      "cell_type": "markdown",
      "metadata": {
        "id": "0aMGUFH2_sz3"
      },
      "source": [
        "# Confusion Matrix"
      ]
    },
    {
      "cell_type": "code",
      "metadata": {
        "id": "-K5NoFEbJsfF"
      },
      "source": [
        "# Setup the confusion matrix\n",
        "cm = confusion_matrix(y_true=test_batches.classes, y_pred=np.argmax(predictions, axis=-1))"
      ],
      "execution_count": 24,
      "outputs": []
    },
    {
      "cell_type": "code",
      "metadata": {
        "colab": {
          "base_uri": "https://localhost:8080/"
        },
        "id": "EitDckh2KApn",
        "outputId": "5e0dca73-947d-49d9-b0ea-f2ed4f0138f9"
      },
      "source": [
        "test_batches.class_indices"
      ],
      "execution_count": 25,
      "outputs": [
        {
          "output_type": "execute_result",
          "data": {
            "text/plain": [
              "{'A': 0,\n",
              " 'B': 1,\n",
              " 'C': 2,\n",
              " 'D': 3,\n",
              " 'E': 4,\n",
              " 'F': 5,\n",
              " 'G': 6,\n",
              " 'H': 7,\n",
              " 'I': 8,\n",
              " 'J': 9,\n",
              " 'K': 10,\n",
              " 'L': 11,\n",
              " 'M': 12,\n",
              " 'N': 13,\n",
              " 'O': 14,\n",
              " 'P': 15,\n",
              " 'Q': 16,\n",
              " 'R': 17,\n",
              " 'S': 18,\n",
              " 'T': 19,\n",
              " 'U': 20,\n",
              " 'V': 21,\n",
              " 'W': 22,\n",
              " 'X': 23,\n",
              " 'Y': 24,\n",
              " 'Z': 25}"
            ]
          },
          "metadata": {},
          "execution_count": 25
        }
      ]
    },
    {
      "cell_type": "code",
      "metadata": {
        "id": "AxJgz9fRS7iJ"
      },
      "source": [
        "def plot_confusion_matrix(cm, classes,\n",
        "                        normalize=False,\n",
        "                        title='Confusion matrix',\n",
        "                        cmap=plt.cm.Blues):\n",
        "    \"\"\"\n",
        "    This function prints and plots the confusion matrix.\n",
        "    Normalization can be applied by setting `normalize=True`.\n",
        "    \"\"\"\n",
        "    plt.imshow(cm, interpolation='nearest', cmap=cmap)\n",
        "    plt.title(title)\n",
        "    plt.colorbar()\n",
        "    tick_marks = np.arange(len(classes))\n",
        "    plt.xticks(tick_marks, classes, rotation=45)\n",
        "    plt.yticks(tick_marks, classes)\n",
        "\n",
        "    if normalize:\n",
        "        cm = cm.astype('float') / cm.sum(axis=1)[:, np.newaxis]\n",
        "        print(\"Normalized confusion matrix\")\n",
        "    else:\n",
        "        print('Confusion matrix, without normalization')\n",
        "\n",
        "    print(cm)\n",
        "\n",
        "    thresh = cm.max() / 2.\n",
        "    for i, j in itertools.product(range(cm.shape[0]), range(cm.shape[1])):\n",
        "        plt.text(j, i, cm[i, j],\n",
        "            horizontalalignment=\"center\",\n",
        "            color=\"white\" if cm[i, j] > thresh else \"black\")\n",
        "\n",
        "    plt.tight_layout()\n",
        "    plt.ylabel('True label')\n",
        "    plt.xlabel('Predicted label')"
      ],
      "execution_count": 26,
      "outputs": []
    },
    {
      "cell_type": "code",
      "metadata": {
        "colab": {
          "base_uri": "https://localhost:8080/",
          "height": 736
        },
        "id": "tsMVbMYQKHwN",
        "outputId": "8b2e246e-d8c6-455c-fe29-53dcd8675e0c"
      },
      "source": [
        "# Plot the confusion matrix\n",
        "cm_plot_labels = letters\n",
        "plot_confusion_matrix(cm=cm, classes=cm_plot_labels, title='Confusion Matrix')"
      ],
      "execution_count": 27,
      "outputs": [
        {
          "output_type": "stream",
          "name": "stdout",
          "text": [
            "Confusion matrix, without normalization\n",
            "[[0 0 1 1 2 0 0 0 0 0 0 0 0 0 0 0 1 0 1 1 0 1 0 2]\n",
            " [0 1 0 2 0 0 0 0 0 2 0 2 0 1 1 0 0 0 0 0 1 0 0 0]\n",
            " [2 1 0 0 2 0 0 1 1 0 0 0 0 1 0 0 0 0 1 0 1 0 0 0]\n",
            " [0 1 0 1 0 2 1 1 0 2 0 0 1 0 0 0 0 0 0 0 0 0 1 0]\n",
            " [0 1 0 0 1 0 0 0 0 2 1 1 0 0 1 0 0 1 0 0 1 0 0 1]\n",
            " [0 0 1 0 0 1 1 0 0 2 0 1 0 1 0 0 0 1 1 0 0 0 1 0]\n",
            " [1 0 0 0 0 0 0 1 0 0 0 0 0 0 1 1 1 0 0 0 1 2 2 0]\n",
            " [0 0 0 1 0 0 1 1 1 0 0 0 1 0 0 0 1 0 1 0 0 2 1 0]\n",
            " [0 0 3 0 0 2 0 0 0 1 0 1 0 0 0 0 0 0 0 0 0 1 1 1]\n",
            " [0 0 0 1 0 3 0 0 0 1 0 1 0 1 0 1 0 1 0 0 0 0 0 1]\n",
            " [2 0 1 1 0 0 2 0 1 0 0 0 0 0 0 0 1 0 1 0 0 1 0 0]\n",
            " [1 0 1 0 0 0 0 3 0 0 1 0 0 0 1 0 0 0 0 1 0 1 0 1]\n",
            " [0 1 0 0 0 0 1 2 0 0 0 0 0 2 0 0 0 0 0 0 0 2 2 0]\n",
            " [1 0 0 2 0 0 0 1 0 2 0 0 0 1 3 0 0 0 0 0 0 0 0 0]\n",
            " [0 1 0 0 1 0 0 0 0 1 0 0 1 0 0 0 0 0 0 0 2 1 1 2]\n",
            " [1 1 0 0 1 1 0 0 1 0 0 0 1 0 1 1 0 0 1 0 0 0 1 0]\n",
            " [1 1 0 0 0 0 0 1 1 0 0 0 1 0 0 1 1 0 0 0 0 1 1 1]\n",
            " [0 0 1 0 1 0 0 1 1 1 1 0 1 0 1 0 0 0 0 1 0 0 1 0]\n",
            " [0 0 1 0 1 1 0 1 0 0 0 0 0 0 0 0 0 2 0 0 2 0 1 1]\n",
            " [1 0 0 1 3 0 0 0 1 1 0 0 0 0 0 0 0 0 0 0 1 1 1 0]\n",
            " [0 1 1 1 0 0 1 0 0 0 0 0 1 0 1 0 0 1 0 1 0 0 0 2]\n",
            " [0 2 0 0 2 1 0 0 1 0 1 0 0 1 1 0 1 0 0 0 0 0 0 0]\n",
            " [0 1 0 0 1 2 1 0 0 0 1 0 1 0 0 0 1 1 1 0 0 0 0 0]\n",
            " [0 0 0 0 2 0 0 1 1 0 1 0 1 0 0 0 1 2 0 0 1 0 0 0]]\n"
          ]
        },
        {
          "output_type": "display_data",
          "data": {
            "image/png": "[encoded data removed]",
            "text/plain": [
              "<Figure size 432x288 with 2 Axes>"
            ]
          },
          "metadata": {
            "needs_background": "light"
          }
        }
      ]
    },
    {
      "cell_type": "markdown",
      "metadata": {
        "id": "D5V_raoXSruL"
      },
      "source": [
        "# Save the Model"
      ]
    },
    {
      "cell_type": "code",
      "metadata": {
        "id": "e_cAf6BnSqN2"
      },
      "source": [
        "# save the model\n",
        "model_name = 'Fingerspell_Detector_Experiment2.h5'\n",
        "path = '/content/drive/MyDrive/Colab Notebooks/CNN Models/' + model_name\n",
        "model.save(path)"
      ],
      "execution_count": 28,
      "outputs": []
    }
  ]
}