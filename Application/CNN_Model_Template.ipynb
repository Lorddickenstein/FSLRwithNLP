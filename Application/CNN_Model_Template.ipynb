{
  "nbformat": 4,
  "nbformat_minor": 0,
  "metadata": {
    "colab": {
      "name": "CNN_Model_Template.ipynb",
      "provenance": [],
      "collapsed_sections": [],
      "authorship_tag": "ABX9TyMf5sk/ldHReJYPKQC+g+zb",
      "include_colab_link": true
    },
    "kernelspec": {
      "name": "python3",
      "display_name": "Python 3"
    },
    "language_info": {
      "name": "python"
    }
  },
  "cells": [
    {
      "cell_type": "markdown",
      "metadata": {
        "id": "view-in-github",
        "colab_type": "text"
      },
      "source": [
        "<a href=\"https://colab.research.google.com/github/Lorddickenstein/FSLRwithNLP/blob/main/Application/CNN_Model_Template.ipynb\" target=\"_parent\"><img src=\"https://colab.research.google.com/assets/colab-badge.svg\" alt=\"Open In Colab\"/></a>"
      ]
    },
    {
      "cell_type": "markdown",
      "metadata": {
        "id": "x6-ySqGHJmxc"
      },
      "source": [
        "Imports"
      ]
    },
    {
      "cell_type": "code",
      "metadata": {
        "id": "5AKWcsFAJhnH"
      },
      "source": [
        "from tensorflow import keras\n",
        "from keras.models import Sequential, load_model\n",
        "from keras.layers import Activation, Dense, Flatten, MaxPool2D, Conv2D, Dropout\n",
        "from keras.metrics import categorical_crossentropy\n",
        "\n",
        "import numpy as np\n",
        "import matplotlib.pyplot as plt\n",
        "import os\n",
        "import cv2\n",
        "import pandas as pd\n",
        "import glob\n",
        "import warnings"
      ],
      "execution_count": null,
      "outputs": []
    },
    {
      "cell_type": "code",
      "metadata": {
        "id": "8LUdKevkJpep"
      },
      "source": [
        "def import_data():\n",
        "  pass"
      ],
      "execution_count": null,
      "outputs": []
    },
    {
      "cell_type": "code",
      "metadata": {
        "id": "6DWp6ik0M7bM"
      },
      "source": [
        "def create_model(dataset):\n",
        "  # load data\n",
        "  (x_train, y_train, x_valid, y_valid, x_test, y_test) = dataset\n",
        "  print(\"x_train: {}, x_valid: {}, x_test: {}\".format(x_train.ndim, x_valid.ndim, x_test.ndim))\n",
        "\n",
        "\n",
        "  # Create the Sequential Model\n",
        "  model = Sequential()\n",
        "\n",
        "  # Add Layers\n",
        "  model.add(Conv2D(32, kernel_size=(3, 3), activation='relu', input_shape=(28, 28, 1), padding='same'))\n",
        "  model.add(MaxPool2D(pool_size=(2, 2)))\n",
        "  model.add(Conv2D(64, kernel_size=(3, 3), activation='relu', padding='same'))\n",
        "  model.add(MaxPool2D(pool_size=(2, 2)))\n",
        "  model.add(Dropout(0.25))\n",
        "  model.add(Flatten())\n",
        "  model.add(Dense(128, activation='relu'))\n",
        "  model.add(Dropout(0.50))\n",
        "  model.add(Dense(26, activation='softmax'))\n",
        "\n",
        "  # Summary of layers\n",
        "  model.summary()\n",
        "\n",
        "  model.compile(loss='categorical_crossentropy', optimizer=keras.optimizers.Adam(), metrics=['accuracy'])\n",
        "  model.fit(x=x_train, y=y_train, validation_data=(x_valid, y_valid), batch_size=15, epochs=30)\n",
        "  print(model.evaluate(x_test, y_test))\n",
        "  return model"
      ],
      "execution_count": null,
      "outputs": []
    },
    {
      "cell_type": "code",
      "metadata": {
        "id": "El5LkIUHRpLT"
      },
      "source": [
        "def save_model(model, model_name):\n",
        "  path = '/content/drive/MyDrive/Colab Notebooks/CNN Models/' + model_name\n",
        "  model.save(path)"
      ],
      "execution_count": null,
      "outputs": []
    },
    {
      "cell_type": "code",
      "metadata": {
        "id": "6KMw4lzDXOws"
      },
      "source": [
        "model_name = 'test.h5'\n",
        "path = '/content/drive/MyDrive/Colab Notebooks/CNN Models/' + model_name\n",
        "save_model(model, path)"
      ],
      "execution_count": null,
      "outputs": []
    }
  ]
}