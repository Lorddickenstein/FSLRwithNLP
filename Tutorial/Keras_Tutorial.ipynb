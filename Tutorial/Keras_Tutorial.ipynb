{
  "nbformat": 4,
  "nbformat_minor": 0,
  "metadata": {
    "colab": {
      "name": "Keras_Tutorial.ipynb",
      "provenance": [],
      "collapsed_sections": [],
      "mount_file_id": "1tll76QmL7ggE00E3N3Dqtl_cIl9h9bll",
      "authorship_tag": "ABX9TyO13QYf8++rOz74yqpKu7c7"
    },
    "kernelspec": {
      "name": "python3",
      "display_name": "Python 3"
    },
    "language_info": {
      "name": "python"
    }
  },
  "cells": [
    {
      "cell_type": "markdown",
      "metadata": {
        "id": "dh5XiPzVQcJO"
      },
      "source": [
        "# Logical Regression Tutorial\n",
        "Tutorial by Adam.\n",
        "\n",
        "Youtube: https://www.youtube.com/channel/UCP4MTfO-3ZM9uv2rHpnPiGg"
      ]
    },
    {
      "cell_type": "code",
      "metadata": {
        "id": "WRqzMaFaGo6v"
      },
      "source": [
        "import tensorflow\n",
        "from tensorflow import keras # machine learning library\n",
        "import numpy as np # allows us to do our maths\n",
        "import pandas as pd # reads our data\n",
        "import matplotlib.pyplot as plt"
      ],
      "execution_count": null,
      "outputs": []
    },
    {
      "cell_type": "markdown",
      "metadata": {
        "id": "K6DVzTQeQ1Ta"
      },
      "source": [
        "import file from the google drive\n",
        "\n",
        "(CSV - \"Comma-Separated Values\", which is like a spreadsheet)"
      ]
    },
    {
      "cell_type": "code",
      "metadata": {
        "id": "EPLVp32hMxX3"
      },
      "source": [
        "df = pd.read_csv('/content/drive/MyDrive/Colab Notebooks/LearnKeras-master/1.LinearRegression/IowaHousingPrices.csv')"
      ],
      "execution_count": null,
      "outputs": []
    },
    {
      "cell_type": "markdown",
      "metadata": {
        "id": "usmQ-NySQ9Dx"
      },
      "source": [
        "Set our x and y."
      ]
    },
    {
      "cell_type": "code",
      "metadata": {
        "id": "w3MyN72pP_jD"
      },
      "source": [
        "squareFeet = df[['SquareFeet']].values\n",
        "salePrice = df[['SalePrice']].values"
      ],
      "execution_count": null,
      "outputs": []
    },
    {
      "cell_type": "markdown",
      "metadata": {
        "id": "QFpwzJLXRc-i"
      },
      "source": [
        "Building the model"
      ]
    },
    {
      "cell_type": "code",
      "metadata": {
        "colab": {
          "base_uri": "https://localhost:8080/"
        },
        "id": "-V8JtnSBQW07",
        "outputId": "21b151d4-e0b2-4771-d7ce-39da23c832f0"
      },
      "source": [
        "# This model runs on sequential data\n",
        "model = keras.Sequential()\n",
        "\n",
        "# Add a layer to the model\n",
        "model.add(keras.layers.Dense(1, input_shape=(1,)))\n",
        "\n",
        "# Compile the model\n",
        "model.compile(keras.optimizers.Adam(learning_rate=1), 'mean_squared_error')\n",
        "  # optimizers - algorithms that minimize the errors\n",
        "  # lr - \"learning rate\", how fast or how big the jump when adjusting the model\n",
        "  # mean_squared_error - error = (yError - yTrue)^2 and not absolute\n",
        "\n",
        "# Fit the model / Train the model\n",
        "model.fit(squareFeet, salePrice, epochs=30, batch_size=10)\n",
        "  # epochs = neural network runs through the data 30x\n",
        "  # batch_size = how many data points are going through the network at a time"
      ],
      "execution_count": null,
      "outputs": [
        {
          "output_type": "stream",
          "name": "stdout",
          "text": [
            "Epoch 1/30\n",
            "146/146 [==============================] - 1s 888us/step - loss: 14396128256.0000\n",
            "Epoch 2/30\n",
            "146/146 [==============================] - 0s 1ms/step - loss: 3317502976.0000\n",
            "Epoch 3/30\n",
            "146/146 [==============================] - 0s 990us/step - loss: 3190861312.0000\n",
            "Epoch 4/30\n",
            "146/146 [==============================] - 0s 942us/step - loss: 3191140352.0000\n",
            "Epoch 5/30\n",
            "146/146 [==============================] - 0s 910us/step - loss: 3192692992.0000\n",
            "Epoch 6/30\n",
            "146/146 [==============================] - 0s 978us/step - loss: 3187119872.0000\n",
            "Epoch 7/30\n",
            "146/146 [==============================] - 0s 889us/step - loss: 3200035328.0000\n",
            "Epoch 8/30\n",
            "146/146 [==============================] - 0s 982us/step - loss: 3187160320.0000\n",
            "Epoch 9/30\n",
            "146/146 [==============================] - 0s 950us/step - loss: 3184179968.0000\n",
            "Epoch 10/30\n",
            "146/146 [==============================] - 0s 1ms/step - loss: 3196175360.0000\n",
            "Epoch 11/30\n",
            "146/146 [==============================] - 0s 932us/step - loss: 3197157120.0000\n",
            "Epoch 12/30\n",
            "146/146 [==============================] - 0s 925us/step - loss: 3200128512.0000\n",
            "Epoch 13/30\n",
            "146/146 [==============================] - 0s 952us/step - loss: 3200475392.0000\n",
            "Epoch 14/30\n",
            "146/146 [==============================] - 0s 1ms/step - loss: 3195005440.0000\n",
            "Epoch 15/30\n",
            "146/146 [==============================] - 0s 1ms/step - loss: 3195083008.0000\n",
            "Epoch 16/30\n",
            "146/146 [==============================] - 0s 1ms/step - loss: 3203057920.0000\n",
            "Epoch 17/30\n",
            "146/146 [==============================] - 0s 1ms/step - loss: 3206222592.0000\n",
            "Epoch 18/30\n",
            "146/146 [==============================] - 0s 900us/step - loss: 3185628928.0000\n",
            "Epoch 19/30\n",
            "146/146 [==============================] - 0s 937us/step - loss: 3187187712.0000\n",
            "Epoch 20/30\n",
            "146/146 [==============================] - 0s 918us/step - loss: 3204569600.0000\n",
            "Epoch 21/30\n",
            "146/146 [==============================] - 0s 935us/step - loss: 3199020544.0000\n",
            "Epoch 22/30\n",
            "146/146 [==============================] - 0s 970us/step - loss: 3212178944.0000\n",
            "Epoch 23/30\n",
            "146/146 [==============================] - 0s 1ms/step - loss: 3207775744.0000\n",
            "Epoch 24/30\n",
            "146/146 [==============================] - 0s 1ms/step - loss: 3196313600.0000\n",
            "Epoch 25/30\n",
            "146/146 [==============================] - 0s 905us/step - loss: 3190043904.0000\n",
            "Epoch 26/30\n",
            "146/146 [==============================] - 0s 900us/step - loss: 3210705152.0000\n",
            "Epoch 27/30\n",
            "146/146 [==============================] - 0s 933us/step - loss: 3196974336.0000\n",
            "Epoch 28/30\n",
            "146/146 [==============================] - 0s 877us/step - loss: 3192751360.0000\n",
            "Epoch 29/30\n",
            "146/146 [==============================] - 0s 896us/step - loss: 3207306752.0000\n",
            "Epoch 30/30\n",
            "146/146 [==============================] - 0s 955us/step - loss: 3196021248.0000\n"
          ]
        },
        {
          "output_type": "execute_result",
          "data": {
            "text/plain": [
              "<keras.callbacks.History at 0x7f2b08707490>"
            ]
          },
          "metadata": {},
          "execution_count": 23
        }
      ]
    },
    {
      "cell_type": "markdown",
      "metadata": {
        "id": "6xA3cU7NZsPC"
      },
      "source": [
        "Plot the Linear Regression with the y prediction"
      ]
    },
    {
      "cell_type": "code",
      "metadata": {
        "colab": {
          "base_uri": "https://localhost:8080/",
          "height": 312
        },
        "id": "DC9Yox0sVHGo",
        "outputId": "9b7ba246-2fb7-4c5e-e7f2-5412df529c3b"
      },
      "source": [
        "df.plot(kind='scatter', x='SquareFeet', y='SalePrice', title='Title')\n",
        "y_pred = model.predict(squareFeet)\n",
        "\n",
        "plt.plot(squareFeet, y_pred, color='red')"
      ],
      "execution_count": null,
      "outputs": [
        {
          "output_type": "execute_result",
          "data": {
            "text/plain": [
              "[<matplotlib.lines.Line2D at 0x7f2b07f09a10>]"
            ]
          },
          "metadata": {},
          "execution_count": 25
        },
        {
          "output_type": "display_data",
          "data": {
            "image/png": "[encoded data removed]",
            "text/plain": [
              "<Figure size 432x288 with 1 Axes>"
            ]
          },
          "metadata": {
            "needs_background": "light"
          }
        }
      ]
    },
    {
      "cell_type": "markdown",
      "metadata": {
        "id": "0GFlWaH-aERa"
      },
      "source": [
        "Predict a new data set"
      ]
    },
    {
      "cell_type": "code",
      "metadata": {
        "colab": {
          "base_uri": "https://localhost:8080/"
        },
        "id": "yWVcJ-wpZiDo",
        "outputId": "33435f4d-9875-4dc2-e705-eace3e95f52b"
      },
      "source": [
        "newSF = 2000\n",
        "print(model.predict([newSF]))"
      ],
      "execution_count": null,
      "outputs": [
        {
          "output_type": "stream",
          "name": "stdout",
          "text": [
            "[[240436.3]]\n"
          ]
        }
      ]
    }
  ]
}