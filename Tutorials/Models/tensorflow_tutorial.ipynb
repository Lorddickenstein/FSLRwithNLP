{
  "nbformat": 4,
  "nbformat_minor": 0,
  "metadata": {
    "colab": {
      "name": "Untitled3.ipynb",
      "provenance": [],
      "collapsed_sections": [],
      "authorship_tag": "ABX9TyOwSc4nVbWDtf7Eh7CYBGYu"
    },
    "kernelspec": {
      "name": "python3",
      "display_name": "Python 3"
    },
    "language_info": {
      "name": "python"
    }
  },
  "cells": [
    {
      "cell_type": "code",
      "metadata": {
        "colab": {
          "base_uri": "https://localhost:8080/"
        },
        "id": "u2p7rvSzUgM1",
        "outputId": "602b1b7e-7592-4aeb-f800-011e38ed7c0a"
      },
      "source": [
        "# !pip install tensorflow\n",
        "import tensorflow as tf\n",
        "\n",
        "# print(tf.__version__)\n",
        "# print(\"Hello\")\n",
        "\n",
        "def sigmoid(z):\n",
        "  # ===== Start construction phase ===== #\n",
        "\n",
        "  # Create a placeholder for x\n",
        "  x = tf.placeholder(tf.float32, name='x')\n",
        "\n",
        "  # Compute the sigmoid(x)\n",
        "  sigmoid = tf.sigmoid(x)\n",
        "\n",
        "  # ===== End construction phase ===== #\n",
        "\n",
        "\n",
        "  # ===== Start computation phase ===== #\n",
        "\n",
        "  # Create and run session\n",
        "  with tf.Session() as sess:\n",
        "    result = sess.run(sigmoid, feed_dict={x: z})\n",
        "  \n",
        "  # ===== End Computation phase ===== #\n",
        "\n",
        "  return result"
      ],
      "execution_count": 3,
      "outputs": [
        {
          "output_type": "stream",
          "name": "stdout",
          "text": [
            "2.6.0\n",
            "Hello\n"
          ]
        }
      ]
    }
  ]
}