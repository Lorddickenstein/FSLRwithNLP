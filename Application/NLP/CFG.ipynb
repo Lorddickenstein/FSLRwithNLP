{
  "nbformat": 4,
  "nbformat_minor": 0,
  "metadata": {
    "colab": {
      "name": "CFG.ipynb",
      "provenance": [],
      "authorship_tag": "ABX9TyNS8alKiVU+imOIoewygY6j",
      "include_colab_link": true
    },
    "kernelspec": {
      "name": "python3",
      "display_name": "Python 3"
    },
    "language_info": {
      "name": "python"
    }
  },
  "cells": [
    {
      "cell_type": "markdown",
      "metadata": {
        "id": "view-in-github",
        "colab_type": "text"
      },
      "source": [
        "<a href=\"https://colab.research.google.com/github/Lorddickenstein/FSLRwithNLP/blob/main/Application/NLP/CFG.ipynb\" target=\"_parent\"><img src=\"https://colab.research.google.com/assets/colab-badge.svg\" alt=\"Open In Colab\"/></a>"
      ]
    },
    {
      "cell_type": "code",
      "metadata": {
        "id": "bMQiiBYiWCkD"
      },
      "source": [
        "import nltk\n",
        "from nltk import Tree\n",
        "from subprocess import *\n",
        "grammar1 = nltk.CFG.fromstring(\"\"\"\n",
        "  S -> QP | VP SP | QP SP | O VP | WP | O JJ \n",
        "  SP -> PRP NN | PRP IN | NN | PRP |\n",
        "  QP -> WP NN | WRB A2 | WP | WRB\n",
        "  O -> SP A1 | SP A2 A3 | SP\n",
        "  VP -> VB RB | VB WRB | VB TO | QP\n",
        "  A1 -> \"is\"\n",
        "  A2 -> \"are\"\n",
        "  A3 -> \"am\"\n",
        "  IN -> \"from\"\n",
        "  JJ -> \"good\"\n",
        "  WP -> \"what\" | \"when\"\n",
        "  WDT -> \"which\"\n",
        "  WRB -> \"where\" | \"how\"\n",
        "  NN -> \"name\" | \"okay\" | \"office\" | \"work\"\n",
        "  PRP -> \"you\" | \"i\"\n",
        "  RB -> \"here\" \n",
        "  TO -> \"to\"\n",
        "  VB -> \"live\" | \"go\"\n",
        "  \"\"\")\n",
        "\n",
        "\n",
        "# (S (QP (WP What)) (SP (PRP you) (NN name)))\n",
        "grammar2 = nltk.CFG.fromstring(\"\"\"\n",
        "  S -> QP | VP SP | QP A1 SP | O SP | O VBP\n",
        "  SP -> NN | PRP NN \n",
        "  QP ->  WP\n",
        "  WP -> \"what\"\n",
        "  A1 -> \"is\"\n",
        "  NN -> \"name\"\n",
        "  PRP -> \"your\"\n",
        "  \"\"\")\n",
        "\n",
        "grammar4 = nltk.CFG.fromstring(\"\"\"\n",
        "  S -> A\n",
        "  A -> QP SP  \n",
        "  SP -> NN\n",
        "  QP -> WP O\n",
        "  O -> PRP\n",
        "  WP -> \"what\"\n",
        "  PRP -> \"your\"\n",
        "  NN -> \"name\"\n",
        "  A1 -> \"is\"\n",
        "  \"\"\")\n",
        "\n",
        "grammar7= nltk.CFG.fromstring(\"\"\"\n",
        "  S -> A\n",
        "  A -> QP SP  \n",
        "  SP -> NN\n",
        "  QP -> WP O\n",
        "  O -> PRP\n",
        "  WP -> \"what\"\n",
        "  PRP -> \"your\"\n",
        "  NN -> \"name\"\n",
        "  A1 -> \"is\"\n",
        "  \"\"\")\n",
        " \t\n",
        "grammar3 = nltk.CFG.fromstring(\"\"\"\n",
        "  S -> NP VP\n",
        "  VP -> V NP | V NP PP\n",
        "  PP -> P NP\n",
        "  V -> \"saw\" | \"ate\" | \"walked\"\n",
        "  NP -> \"John\" | \"Mary\" | \"Bob\" | Det N | Det N PP\n",
        "  Det -> \"a\" | \"an\" | \"the\" | \"my\"\n",
        "  N -> \"man\" | \"dog\" | \"cat\" | \"telescope\" | \"park\"\n",
        "  P -> \"in\" | \"on\" | \"by\" | \"with\"\n",
        "  \"\"\")\n",
        "\n",
        "grammar6 = nltk.CFG.fromstring(\"\"\"\n",
        "  S -> NP VP\n",
        "  PP -> P NP\n",
        "  NP -> Det N | Det N PP\n",
        "  VP -> V NP | VP PP\n",
        "  Det -> 'DT'\n",
        "  N -> 'NN'\n",
        "  V -> 'VBZ'\n",
        "  P -> 'PP'\n",
        "  \"\"\")\n",
        "# What's your name (you name what?) - (S (O (SP (PRP you) (NN name))) (VBP (QP (WP what))))\n",
        "# I'm good (I good) - (S (O (SP (PRP i))) (JJ good))\n",
        "# Where you from (you from where) -> (S (O (SP (PRP you) (IN from))) (VBP (QP (WRB where))))\n",
        "# I live here -> (S (O (SP (PRP i))) (VBP (VB live) (RB here)))\n",
        "# How are you (How you?) -> (S (QP (WRB how)) (SP (PRP you)))\n",
        "# Where do you live? (you, live, where?) -> (S (O (SP (PRP you))) (VBP (VB live) (WRB where)))\n",
        "# Are you okay? (you, okay) ->(S (O (SP (PRP you) (NN okay))))\n",
        "# My name is (I-Me, name) -> (S (O (SP (PRP i) (NN name))))\n",
        "# Go to the Office (Go, to, Office) -> (S (VP (VB go) (TO to)) (SP (NN office)))\n",
        "# Go to work (Go, to, work) -> (S (VBP (VB go) (TO to)) (SP (NN work)))"
      ],
      "execution_count": 2,
      "outputs": []
    },
    {
      "cell_type": "code",
      "metadata": {
        "id": "qcHvdJvGlNPp"
      },
      "source": [
        ""
      ],
      "execution_count": null,
      "outputs": []
    },
    {
      "cell_type": "code",
      "metadata": {
        "colab": {
          "base_uri": "https://localhost:8080/"
        },
        "id": "zZ9PAlsHttOD",
        "outputId": "58948bed-2e13-45fb-e857-c0badd27f65e"
      },
      "source": [
        "grammar1.productions()"
      ],
      "execution_count": null,
      "outputs": [
        {
          "output_type": "execute_result",
          "data": {
            "text/plain": [
              "[S -> QP,\n",
              " S -> VP SP,\n",
              " S -> QP SP,\n",
              " S -> O VBP,\n",
              " S -> WP,\n",
              " S -> O JJ,\n",
              " S -> VBP SP,\n",
              " SP -> PRP NN,\n",
              " SP -> PRP IN,\n",
              " SP -> NN,\n",
              " SP -> PRP,\n",
              " SP -> ,\n",
              " QP -> WP NN,\n",
              " QP -> WRB A2,\n",
              " QP -> WP,\n",
              " QP -> WRB,\n",
              " O -> SP A1,\n",
              " O -> SP A2 A3,\n",
              " O -> SP,\n",
              " VBP -> VB RB,\n",
              " VBP -> VB WRB,\n",
              " VBP -> VB TO,\n",
              " VBP -> QP,\n",
              " A1 -> 'is',\n",
              " A2 -> 'are',\n",
              " A3 -> 'am',\n",
              " IN -> 'from',\n",
              " JJ -> 'good',\n",
              " WP -> 'what',\n",
              " WP -> 'when',\n",
              " WDT -> 'which',\n",
              " WRB -> 'where',\n",
              " WRB -> 'how',\n",
              " NN -> 'name',\n",
              " NN -> 'okay',\n",
              " NN -> 'office',\n",
              " NN -> 'work',\n",
              " PRP -> 'you',\n",
              " PRP -> 'i',\n",
              " RB -> 'here',\n",
              " TO -> 'to',\n",
              " VB -> 'live',\n",
              " VB -> 'go']"
            ]
          },
          "metadata": {},
          "execution_count": 109
        }
      ]
    },
    {
      "cell_type": "code",
      "metadata": {
        "colab": {
          "base_uri": "https://localhost:8080/"
        },
        "id": "zdzz078kQLoz",
        "outputId": "efb5ac62-ce78-449f-aa0b-ba5115d64a2c"
      },
      "source": [
        "import random\n",
        "\n",
        "\n",
        "d = {}\n",
        " \n",
        "d[\"s\"]=[[\"a\", \"b\"]]\n",
        "d[\"a\"]=[[\"what\", \"e\"],[\"when\", \"e\"]]\n",
        "d[\"b\"]=[[\"c\", \"d\"]]\n",
        "d[\"c\"]=[[\"you\"]]\n",
        "d[\"d\"]=[[\"name\"],[\"bday\"]]\n",
        "d[\"e\"]=[[\"is\"]]\n",
        "\n",
        "expansion = []\n",
        "seed = \"s\"\n",
        "\n",
        "\n",
        "def expand(start, expansion):\n",
        "    if start in d:\n",
        "    #Grab one possible expansion\n",
        "        possible = d[start]\n",
        "        random_expansion = random.choice(possible)\n",
        "    # Call this method again with the current element\n",
        "        for i in range(len(random_expansion)):\n",
        "            expand(random_expansion[i], expansion);\n",
        " \n",
        "  # if the rule wasn't found, then it's a terminal:\n",
        "  # append the string to the expansion\n",
        "    else:\n",
        "        expansion.append(start)\n",
        "\n",
        "expand(seed, expansion)\n",
        "\n",
        "print(expansion)"
      ],
      "execution_count": null,
      "outputs": [
        {
          "output_type": "stream",
          "name": "stdout",
          "text": [
            "['when', 'is', 'you', 'bday']\n"
          ]
        }
      ]
    },
    {
      "cell_type": "code",
      "metadata": {
        "colab": {
          "base_uri": "https://localhost:8080/"
        },
        "id": "chdxWByqOJse",
        "outputId": "a0024560-bfe0-4924-b518-f9ca795b1ba3"
      },
      "source": [
        "import re\n",
        "\n",
        "class ParseError(Exception):\n",
        "    pass\n",
        "\n",
        "# Tokenize a string.\n",
        "# Tokens yielded are of the form (type, string)\n",
        "# Possible values for 'type' are '(', ')' and 'WORD'\n",
        "def tokenize(s):\n",
        "    toks = re.compile(' +|[A-Za-z]+|[()]')\n",
        "    for match in toks.finditer(s):\n",
        "        s = match.group(0)\n",
        "        if s[0] == ' ':\n",
        "            continue\n",
        "        if s[0] in '()':\n",
        "            yield (s, s)\n",
        "        else:\n",
        "            yield ('word', s)\n",
        "\n",
        "\n",
        "# Parse once we're inside an opening bracket.\n",
        "def parse_inner(toks):\n",
        "    ty, name = next(toks)\n",
        "    if ty != 'word': raise ParseError\n",
        "    children = []\n",
        "    while True:\n",
        "        ty, s = next(toks)\n",
        "        if ty == '(':\n",
        "            children.append(parse_inner(toks))\n",
        "        elif ty == ')':\n",
        "            return (name, children)\n",
        "\n",
        "# Parse this grammar:\n",
        "# ROOT ::= '(' INNER\n",
        "# INNER ::= WORD ROOT* ')'\n",
        "# WORD ::= [A-Za-z]+\n",
        "def parse_root(toks):\n",
        "    ty, _ = next(toks)\n",
        "    if ty != '(': raise ParseError\n",
        "    return parse_inner(toks)\n",
        "\n",
        "def show_children(tree):\n",
        "    name, children = tree\n",
        "    if not children: return\n",
        "    print (\"%s -> %s\" % (name, ' '.join(child[0] for child in children)))\n",
        "    for child in children:\n",
        "        show_children(child)\n",
        "\n",
        "example = '(S (O (SP (PRP you) (NN name))) (VP (QP (WP what))))'\n",
        "show_children(parse_root(tokenize(example)))"
      ],
      "execution_count": 14,
      "outputs": [
        {
          "output_type": "stream",
          "name": "stdout",
          "text": [
            "S -> O VP\n",
            "O -> SP\n",
            "SP -> PRP NN\n",
            "VP -> QP\n",
            "QP -> WP\n"
          ]
        }
      ]
    },
    {
      "cell_type": "code",
      "metadata": {
        "id": "R2zRkFp3WMQt",
        "colab": {
          "base_uri": "https://localhost:8080/"
        },
        "outputId": "e485f9d9-10ca-407c-a36d-859464ddc917"
      },
      "source": [
        "\n",
        "text = \"you name what\"\n",
        "sent = text.split()\n",
        "# rd_parser = nltk.parse.shiftreduce.ShiftReduceParser(grammar6, trace=3)\n",
        "rd_parser = nltk.parse.recursivedescent.RecursiveDescentParser(grammar1)\n",
        "for tree in rd_parser.parse(sent):\n",
        "  print(tree)\n",
        "  length = len(tree)\n",
        "  print(length)\n",
        "  # while length >= 0:\n",
        "  #   length = length - 1\n",
        "  #   for tree in tree:      \n",
        "  #     # if tree[0] == 'what':\n",
        "  #     #       print(tree[0] + ' ' 'is')\n",
        "  #     # else:\n",
        "  #     #       print(tree[0])  \n",
        "  #     print(tree[0])\n",
        "\n",
        "  for tree in tree:\n",
        "    # print(tree[0])\n",
        "    for tree in tree:\n",
        "      # print(tree[0])\n",
        "      for tree in tree:\n",
        "        if tree == 'what':\n",
        "          print(tree + ' ' 'is')\n",
        "        else:\n",
        "          print(tree)  \n",
        "\n",
        "  # list = (tree)\n",
        "  # print(list)\n",
        "  # print(list[0])\n",
        "# nltk.parse.shiftreduce.demo()\n",
        "# nltk.parse.recursivedescent.demo()"
      ],
      "execution_count": 9,
      "outputs": [
        {
          "output_type": "stream",
          "name": "stdout",
          "text": [
            "(S (O (SP (PRP you) (NN name))) (VP (QP (WP what))))\n",
            "2\n",
            "(PRP you)\n",
            "(NN name)\n",
            "(WP what)\n"
          ]
        }
      ]
    },
    {
      "cell_type": "code",
      "metadata": {
        "id": "hHu3z-kt6W-e"
      },
      "source": [
        ""
      ],
      "execution_count": null,
      "outputs": []
    },
    {
      "cell_type": "code",
      "metadata": {
        "colab": {
          "base_uri": "https://localhost:8080/"
        },
        "id": "XYtFHYNFQifB",
        "outputId": "2975332c-4360-43f2-f323-64f70dbcc13a"
      },
      "source": [
        "from textblob import TextBlob\n",
        "\n",
        "text = \"Get ball\"\n",
        "\n",
        "blob = TextBlob(text)\n",
        "blob.tags           # [('The', 'DT'), ('titular', 'JJ'),\n",
        "                    #  ('threat', 'NN'), ('of', 'IN'), ...]"
      ],
      "execution_count": null,
      "outputs": [
        {
          "output_type": "execute_result",
          "data": {
            "text/plain": [
              "[('Get', 'VB'), ('the', 'DT'), ('ball', 'NN')]"
            ]
          },
          "metadata": {},
          "execution_count": 10
        }
      ]
    },
    {
      "cell_type": "code",
      "metadata": {
        "colab": {
          "base_uri": "https://localhost:8080/"
        },
        "id": "mJv-9JJ-YEl1",
        "outputId": "27edb517-faf7-418d-9cd8-d5e2f334018f"
      },
      "source": [
        "nltk.download('treebank')\n",
        "nltk.download('punkt')\n",
        "nltk.download('averaged_perceptron_tagger')"
      ],
      "execution_count": null,
      "outputs": [
        {
          "output_type": "stream",
          "name": "stdout",
          "text": [
            "[nltk_data] Downloading package treebank to /root/nltk_data...\n",
            "[nltk_data]   Unzipping corpora/treebank.zip.\n",
            "[nltk_data] Downloading package punkt to /root/nltk_data...\n",
            "[nltk_data]   Unzipping tokenizers/punkt.zip.\n",
            "[nltk_data] Downloading package averaged_perceptron_tagger to\n",
            "[nltk_data]     /root/nltk_data...\n",
            "[nltk_data]   Unzipping taggers/averaged_perceptron_tagger.zip.\n"
          ]
        },
        {
          "output_type": "execute_result",
          "data": {
            "text/plain": [
              "True"
            ]
          },
          "metadata": {},
          "execution_count": 9
        }
      ]
    }
  ]
}