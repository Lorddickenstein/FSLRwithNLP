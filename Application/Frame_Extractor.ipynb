{
  "nbformat": 4,
  "nbformat_minor": 0,
  "metadata": {
    "colab": {
      "name": "Frame_Extractor.ipynb",
      "provenance": [],
      "authorship_tag": "ABX9TyN8liqWFuxS6LgiCvztEHIR",
      "include_colab_link": true
    },
    "kernelspec": {
      "name": "python3",
      "display_name": "Python 3"
    },
    "language_info": {
      "name": "python"
    }
  },
  "cells": [
    {
      "cell_type": "markdown",
      "metadata": {
        "id": "view-in-github",
        "colab_type": "text"
      },
      "source": [
        "<a href=\"https://colab.research.google.com/github/Lorddickenstein/FSLRwithNLP/blob/main/Application/Frame_Extractor.ipynb\" target=\"_parent\"><img src=\"https://colab.research.google.com/assets/colab-badge.svg\" alt=\"Open In Colab\"/></a>"
      ]
    },
    {
      "cell_type": "code",
      "metadata": {
        "id": "YIlQH0hh8-yu",
        "colab": {
          "base_uri": "https://localhost:8080/",
          "height": 197
        },
        "outputId": "1ad8cd90-7c25-445f-e684-95665c035a5a"
      },
      "source": [
        "import os\n",
        "import cv2\n",
        "import csv\n",
        "import numpy as np\n",
        "import peakutils\n",
        "from utils import convert_frame_to_grayscale, prepare_dirs, plot_metrics\n",
        "\n",
        "def create_dir(path):\n",
        "    try:\n",
        "        if not os.path.exists(path):\n",
        "            os.makedirs(path)\n",
        "    except OSError:\n",
        "        print(f\"ERROR: creating directory with name {path}\")\n",
        "\n",
        "def save_frame(video_path, save_dir):\n",
        "    name = video_path.split(\"/\")[-1].split(\".\")[0]\n",
        "    save_path = os.path.join(save_dir, name)\n",
        "    create_dir(save_path)\n",
        "\n",
        "    cap = cv2.VideoCapture(video_path)\n",
        "    idx = 0\n",
        "    length = int(cap.get(cv2.CAP_PROP_FRAME_COUNT))\n",
        "\n",
        "    lstfrm = []\n",
        "    lstdiffMag = []\n",
        "    images = []\n",
        "    full_color = []\n",
        "    lastFrame = None\n",
        "    \n",
        "    # Read until video is completed\n",
        "    for i in range(length):\n",
        "        ret, frame = cap.read()\n",
        "        grayframe, blur_gray = convert_frame_to_grayscale(frame)\n",
        "\n",
        "        frame_number = cap.get(cv2.CAP_PROP_POS_FRAMES) - 1\n",
        "        lstfrm.append(frame_number)\n",
        "        images.append(grayframe)\n",
        "        full_color.append(frame)\n",
        "        if frame_number == 0:\n",
        "            lastFrame = blur_gray\n",
        "\n",
        "        diff = cv2.subtract(blur_gray, lastFrame)\n",
        "        diffMag = cv2.countNonZero(diff)\n",
        "        lstdiffMag.append(diffMag)\n",
        "        lastFrame = blur_gray\n",
        "    cap.release()\n",
        "    y = np.array(lstdiffMag)\n",
        "    base = peakutils.baseline(y, 2)\n",
        "    indices = peakutils.indexes(y-base, min_dist=5)\n",
        "    \n",
        "    cnt = 1\n",
        "    for x in indices:\n",
        "        cv2.imwrite(os.path.join(save_path , 'keyframe'+ str(cnt) +'.jpg'), full_color[x])\n",
        "        cnt +=1\n",
        "\n",
        "\n",
        "if __name__ == \"__main__\":\n",
        "    video_paths = glob(\"/content/Videos/*\")\n",
        "    save_dir = \"KeyFrames\"\n",
        "\n",
        "for path in video_paths:\n",
        "    save_frame(path, save_dir)"
      ],
      "execution_count": 75,
      "outputs": [
        {
          "output_type": "error",
          "ename": "NameError",
          "evalue": "ignored",
          "traceback": [
            "\u001b[0;31m---------------------------------------------------------------------------\u001b[0m",
            "\u001b[0;31mNameError\u001b[0m                                 Traceback (most recent call last)",
            "\u001b[0;32m<ipython-input-75-ef098574c3c8>\u001b[0m in \u001b[0;36m<module>\u001b[0;34m()\u001b[0m\n\u001b[1;32m     60\u001b[0m \u001b[0;34m\u001b[0m\u001b[0m\n\u001b[1;32m     61\u001b[0m \u001b[0;32mfor\u001b[0m \u001b[0mpath\u001b[0m \u001b[0;32min\u001b[0m \u001b[0mvideo_paths\u001b[0m\u001b[0;34m:\u001b[0m\u001b[0;34m\u001b[0m\u001b[0;34m\u001b[0m\u001b[0m\n\u001b[0;32m---> 62\u001b[0;31m     \u001b[0msave_frame\u001b[0m\u001b[0;34m(\u001b[0m\u001b[0mpath\u001b[0m\u001b[0;34m,\u001b[0m \u001b[0msave_dir\u001b[0m\u001b[0;34m,\u001b[0m \u001b[0mThres\u001b[0m\u001b[0;34m)\u001b[0m\u001b[0;34m\u001b[0m\u001b[0;34m\u001b[0m\u001b[0m\n\u001b[0m",
            "\u001b[0;31mNameError\u001b[0m: name 'Thres' is not defined"
          ]
        }
      ]
    },
    {
      "cell_type": "markdown",
      "metadata": {
        "id": "kSi08XTLV1w9"
      },
      "source": [
        ""
      ]
    }
  ]
}