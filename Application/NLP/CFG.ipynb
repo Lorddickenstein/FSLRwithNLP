{
  "nbformat": 4,
  "nbformat_minor": 0,
  "metadata": {
    "colab": {
      "name": "CFG.ipynb",
      "provenance": [],
      "authorship_tag": "ABX9TyP5FzKYbS9W7XpONwr15tbT",
      "include_colab_link": true
    },
    "kernelspec": {
      "name": "python3",
      "display_name": "Python 3"
    },
    "language_info": {
      "name": "python"
    }
  },
  "cells": [
    {
      "cell_type": "markdown",
      "metadata": {
        "id": "view-in-github",
        "colab_type": "text"
      },
      "source": [
        "<a href=\"https://colab.research.google.com/github/Lorddickenstein/FSLRwithNLP/blob/main/Application/NLP/CFG.ipynb\" target=\"_parent\"><img src=\"https://colab.research.google.com/assets/colab-badge.svg\" alt=\"Open In Colab\"/></a>"
      ]
    },
    {
      "cell_type": "code",
      "metadata": {
        "id": "bMQiiBYiWCkD"
      },
      "source": [
        "import nltk\n",
        "\n",
        "grammar1 = nltk.CFG.fromstring(\"\"\"\n",
        "  S -> QP | VP SP | QP SP | O SP | O VBP\n",
        "  SP -> NN | NN PRP \n",
        "  QP -> WP | WP A1\n",
        "  O -> PRP | PRP A3 | PRP A2 A3\n",
        "  A1 -> \"ang\"\n",
        "  A2 -> \"ba\"\n",
        "  A3 -> \"ay\"\n",
        "  WP -> \"Ano\" | \"Saan\" | \"Paano\" | \"Kailan\"\n",
        "  NN -> \"pangalan\" | \"estudyante\"\n",
        "  PRP -> \"ikaw\" | \"ako\" \n",
        "  VBP -> \"mabuti\"\n",
        "  \"\"\")\n",
        "\n",
        "# What's your name (What name you?) - S -> QP SP -> QP -> WP A1 -> \"Ano\" -> \"ang\" -> SP -> NN PRP -> NN -> \"pangalan\" -> PRP -> \"ikaw\"\n",
        "# Are you a student? (you student?) - S -> O SP -> O -> PRP A2 A3 -> PRP -> \"ikaw\" -> A2 -> \"ba\" -> A3 -> \"ay\" -> SP -> NN -> \"estudyante\"\n",
        "# I'm good (I good) - S -> O VBP -> O -> PRP A2 -> PRP -> \"ako\" -> A2 -> \"ay\" -> VBP -> \"mabuti\""
      ],
      "execution_count": null,
      "outputs": []
    },
    {
      "cell_type": "code",
      "metadata": {
        "colab": {
          "base_uri": "https://localhost:8080/"
        },
        "id": "R2zRkFp3WMQt",
        "outputId": "5f9298c5-cc1f-4250-9532-3ba019f86269"
      },
      "source": [
        "sent = \"Mary Bob\".split()\n",
        "rd_parser = nltk.RecursiveDescentParser(grammar1)\n",
        "for tree in rd_parser.parse(sent):\n",
        "  print(tree)"
      ],
      "execution_count": null,
      "outputs": [
        {
          "output_type": "stream",
          "name": "stdout",
          "text": [
            "John saw John\n"
          ]
        }
      ]
    },
    {
      "cell_type": "code",
      "metadata": {
        "colab": {
          "base_uri": "https://localhost:8080/"
        },
        "id": "XYtFHYNFQifB",
        "outputId": "2975332c-4360-43f2-f323-64f70dbcc13a"
      },
      "source": [
        "from textblob import TextBlob\n",
        "\n",
        "text = \"Get ball\"\n",
        "\n",
        "blob = TextBlob(text)\n",
        "blob.tags           # [('The', 'DT'), ('titular', 'JJ'),\n",
        "                    #  ('threat', 'NN'), ('of', 'IN'), ...]"
      ],
      "execution_count": null,
      "outputs": [
        {
          "output_type": "execute_result",
          "data": {
            "text/plain": [
              "[('Get', 'VB'), ('the', 'DT'), ('ball', 'NN')]"
            ]
          },
          "metadata": {},
          "execution_count": 10
        }
      ]
    },
    {
      "cell_type": "code",
      "metadata": {
        "colab": {
          "base_uri": "https://localhost:8080/"
        },
        "id": "mJv-9JJ-YEl1",
        "outputId": "82846d6a-5861-4379-d943-45efa133d947"
      },
      "source": [
        "nltk.download('treebank')\n",
        "nltk.download('punkt')\n",
        "nltk.download('averaged_perceptron_tagger')"
      ],
      "execution_count": null,
      "outputs": [
        {
          "output_type": "stream",
          "name": "stdout",
          "text": [
            "[nltk_data] Downloading package treebank to /root/nltk_data...\n",
            "[nltk_data]   Package treebank is already up-to-date!\n",
            "[nltk_data] Downloading package punkt to /root/nltk_data...\n",
            "[nltk_data]   Package punkt is already up-to-date!\n",
            "[nltk_data] Downloading package averaged_perceptron_tagger to\n",
            "[nltk_data]     /root/nltk_data...\n",
            "[nltk_data]   Unzipping taggers/averaged_perceptron_tagger.zip.\n"
          ]
        },
        {
          "output_type": "execute_result",
          "data": {
            "text/plain": [
              "True"
            ]
          },
          "metadata": {},
          "execution_count": 6
        }
      ]
    }
  ]
}