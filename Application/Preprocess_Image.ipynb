{
  "nbformat": 4,
  "nbformat_minor": 0,
  "metadata": {
    "colab": {
      "name": "Preprocess_Image.ipynb",
      "provenance": [],
      "collapsed_sections": [],
      "authorship_tag": "ABX9TyMTrRetzG4KkmA5S7CTCKbu",
      "include_colab_link": true
    },
    "kernelspec": {
      "name": "python3",
      "display_name": "Python 3"
    },
    "language_info": {
      "name": "python"
    }
  },
  "cells": [
    {
      "cell_type": "markdown",
      "metadata": {
        "id": "view-in-github",
        "colab_type": "text"
      },
      "source": [
        "<a href=\"https://colab.research.google.com/github/Lorddickenstein/FSLRwithNLP/blob/main/Application/Preprocess_Image.ipynb\" target=\"_parent\"><img src=\"https://colab.research.google.com/assets/colab-badge.svg\" alt=\"Open In Colab\"/></a>"
      ]
    },
    {
      "cell_type": "markdown",
      "metadata": {
        "id": "yQfZEUBoGbvA"
      },
      "source": [
        "# Preprocessing Techniques\n",
        "Contains functions that are used for image preprocessing. Functions exactly like the utils.py in our github repo."
      ]
    },
    {
      "cell_type": "code",
      "metadata": {
        "id": "9aa1GWjRGB2p"
      },
      "source": [
        "import numpy as np\n",
        "import os\n",
        "import cv2\n",
        "import glob\n",
        "import warnings\n",
        "import random\n",
        "import shutil\n",
        "import matplotlib.pyplot as plt\n",
        "\n",
        "warnings.simplefilter(action='ignore', category=FutureWarning)\n",
        "%matplotlib inline"
      ],
      "execution_count": 2,
      "outputs": []
    },
    {
      "cell_type": "code",
      "metadata": {
        "id": "6DuAjyvWHKA8"
      },
      "source": [
        "# Resize Image with default dimension (224, 224)\n",
        "def resize_image(src_img, height=224, width=224):\n",
        "    return cv2.resize(src_img, (height, width), interpolation=cv2.INTER_CUBIC)\n",
        "    "
      ],
      "execution_count": 4,
      "outputs": []
    },
    {
      "cell_type": "code",
      "metadata": {
        "id": "p41XayotHQlU"
      },
      "source": [
        "# Show image in matplotlib\n",
        "def show_plt_image(src_img):\n",
        "    plt.imshow(src_img)\n",
        "    plt.show()"
      ],
      "execution_count": 5,
      "outputs": []
    },
    {
      "cell_type": "code",
      "metadata": {
        "id": "t9VA-kjXHf-L"
      },
      "source": [
        "# Returns the image in binary using Otsu's binarization\n",
        "def get_thresh(src_img):\n",
        "    return cv2.threshold(src_img, 0, 255, cv2.THRESH_BINARY + cv2.THRESH_OTSU)"
      ],
      "execution_count": 6,
      "outputs": []
    },
    {
      "cell_type": "code",
      "metadata": {
        "id": "_szAtLQmHm5Z"
      },
      "source": [
        "# Returns an image with morphological transformation using MORPH_CLOSE\n",
        "def morph_image(src_img, method=cv2.MORPH_CLOSE, kernel=(5, 5)):\n",
        "    kernel = cv2.getStructuringElement(cv2.MORPH_ELLIPSE, kernel)\n",
        "    return cv2.morphologyEx(src_img, method, kernel)"
      ],
      "execution_count": 7,
      "outputs": []
    },
    {
      "cell_type": "code",
      "metadata": {
        "id": "rp8UzHo2HrO0"
      },
      "source": [
        "# Get edges using Canny Edge Detection\n",
        "def get_edges(src_img, th1=150, th2=210):\n",
        "    return cv2.Canny(src_img, th1, th2)"
      ],
      "execution_count": 8,
      "outputs": []
    },
    {
      "cell_type": "code",
      "metadata": {
        "id": "4A7wybT6H7On"
      },
      "source": [
        "# Calculate the contours of an image\n",
        "def get_contours(img, mode=cv2.RETR_EXTERNAL, method=cv2.CHAIN_APPROX_SIMPLE):\n",
        "    return cv2.findContours(img.copy(), mode, method)"
      ],
      "execution_count": 9,
      "outputs": []
    },
    {
      "cell_type": "code",
      "metadata": {
        "id": "qfXd6htgH-FD"
      },
      "source": [
        "# Returns a new image with bounding rectangle\n",
        "def get_bounding_rect(src_img, mask):\n",
        "    pts = np.column_stack(np.where(mask.transpose() > 0))\n",
        "    x, y, w, h = cv2.boundingRect(pts)\n",
        "    return cv2.rectangle(src_img, (x, y), (x + w, y + h), (0, 0, 255), 2)"
      ],
      "execution_count": 10,
      "outputs": []
    }
  ]
}